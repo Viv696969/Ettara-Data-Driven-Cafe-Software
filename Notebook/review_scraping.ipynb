{
 "cells": [
  {
   "cell_type": "code",
   "execution_count": null,
   "id": "5d45c80f-d49c-4375-bd8c-edf4671372cb",
   "metadata": {},
   "outputs": [],
   "source": [
    "from bs4 import BeautifulSoup\n",
    "\n",
    "import requests"
   ]
  },
  {
   "cell_type": "code",
   "execution_count": 54,
   "id": "41a76465-08e7-4ea1-a73f-900f35a8181c",
   "metadata": {},
   "outputs": [],
   "source": []
  },
  {
   "cell_type": "code",
   "execution_count": 55,
   "id": "921625dd-5c3b-442a-9abc-8d5bf9b3dfd8",
   "metadata": {},
   "outputs": [],
   "source": [
    "headers = {\n",
    "    'User-Agent': 'Mozilla/5.0 (X11; Linux x86_64) AppleWebKit/537.36 (KHTML, like Gecko) Chrome/110.0.0.0 Safari/537.36'}\n",
    "\n",
    "r = requests.get(zomato_link, headers=headers)"
   ]
  },
  {
   "cell_type": "code",
   "execution_count": 56,
   "id": "629a02c6-2fb1-422d-9572-48022696a372",
   "metadata": {},
   "outputs": [
    {
     "name": "stdout",
     "output_type": "stream",
     "text": [
      "200\n"
     ]
    }
   ],
   "source": [
    "print(r.status_code)"
   ]
  },
  {
   "cell_type": "code",
   "execution_count": 57,
   "id": "69813e44-eb49-4bed-a485-186e762ad959",
   "metadata": {},
   "outputs": [],
   "source": [
    "soup=BeautifulSoup(r.text, 'html.parser')"
   ]
  },
  {
   "cell_type": "code",
   "execution_count": 58,
   "id": "cc07e5a8-574f-4cc5-8741-661c2720fa16",
   "metadata": {},
   "outputs": [],
   "source": [
    "results=soup.select('p[class*=\"sc-1hez2tp-0\"]')"
   ]
  },
  {
   "cell_type": "code",
   "execution_count": 41,
   "id": "52aa64b4-2a17-41be-bcd5-34769e47ce96",
   "metadata": {},
   "outputs": [],
   "source": [
    "reviews=[]"
   ]
  },
  {
   "cell_type": "code",
   "execution_count": 42,
   "id": "3fbc4efc-492a-4a05-8795-55349d826ecc",
   "metadata": {},
   "outputs": [],
   "source": [
    "for index,result in enumerate(results):\n",
    "    if 'eaqKit' in str(result):\n",
    "        reviews.append({\n",
    "            'review':result.text,\n",
    "            'date':results[index-1].text\n",
    "        })\n",
    "    "
   ]
  },
  {
   "cell_type": "code",
   "execution_count": 44,
   "id": "05445609-6e24-4230-b598-b07b84b6d97e",
   "metadata": {},
   "outputs": [],
   "source": [
    "import pandas as pd"
   ]
  },
  {
   "cell_type": "code",
   "execution_count": 2,
   "id": "c10c170e-5de8-40bc-8028-b8f3fbc56f7a",
   "metadata": {},
   "outputs": [
    {
     "ename": "NameError",
     "evalue": "name 'headers' is not defined",
     "output_type": "error",
     "traceback": [
      "\u001b[1;31m---------------------------------------------------------------------------\u001b[0m",
      "\u001b[1;31mNameError\u001b[0m                                 Traceback (most recent call last)",
      "Cell \u001b[1;32mIn[2], line 2\u001b[0m\n\u001b[0;32m      1\u001b[0m link\u001b[38;5;241m=\u001b[39m\u001b[38;5;124m\"\u001b[39m\u001b[38;5;124mhttps://www.zomato.com/mumbai/ettarra-1-juhu/reviews?page=1&sort=dd&filter=reviews-dd\u001b[39m\u001b[38;5;124m\"\u001b[39m\n\u001b[1;32m----> 2\u001b[0m r\u001b[38;5;241m=\u001b[39mrequests\u001b[38;5;241m.\u001b[39mget(link,headers\u001b[38;5;241m=\u001b[39m\u001b[43mheaders\u001b[49m)\n\u001b[0;32m      3\u001b[0m \u001b[38;5;28mprint\u001b[39m(r\u001b[38;5;241m.\u001b[39mstatus_code)\n\u001b[0;32m      4\u001b[0m soup\u001b[38;5;241m=\u001b[39mBeautifulSoup(r\u001b[38;5;241m.\u001b[39mtext,\u001b[38;5;124m'\u001b[39m\u001b[38;5;124mhtml.parser\u001b[39m\u001b[38;5;124m'\u001b[39m)\n",
      "\u001b[1;31mNameError\u001b[0m: name 'headers' is not defined"
     ]
    }
   ],
   "source": [
    "link=\"https://www.zomato.com/mumbai/ettarra-1-juhu/reviews?page=1&sort=dd&filter=reviews-dd\"\n",
    "r=requests.get(link,headers=headers)\n",
    "print(r.status_code)\n",
    "soup=BeautifulSoup(r.text,'html.parser')"
   ]
  },
  {
   "cell_type": "code",
   "execution_count": 56,
   "id": "fe71f597-1cb4-4a22-a548-b4b6ce767e9c",
   "metadata": {},
   "outputs": [],
   "source": [
    "for index,result in enumerate(results):\n",
    "    if 'eaqKit' in str(result):\n",
    "        reviews.append({\n",
    "            'review':result.text,\n",
    "            'date':results[index-1].text\n",
    "        })\n",
    "    "
   ]
  },
  {
   "cell_type": "code",
   "execution_count": 58,
   "id": "c3a0504f-a767-4034-8192-b68b808b20e8",
   "metadata": {},
   "outputs": [],
   "source": [
    "pages=range(52)"
   ]
  },
  {
   "cell_type": "code",
   "execution_count": 59,
   "id": "cef0f252-498b-4618-a09c-0c743f286abf",
   "metadata": {},
   "outputs": [
    {
     "data": {
      "text/plain": [
       "range(0, 52)"
      ]
     },
     "execution_count": 59,
     "metadata": {},
     "output_type": "execute_result"
    }
   ],
   "source": [
    "pages"
   ]
  },
  {
   "cell_type": "code",
   "execution_count": 88,
   "id": "33ba216c-98c1-4d58-9c67-afb5f0a4b401",
   "metadata": {},
   "outputs": [],
   "source": [
    "import numpy as np"
   ]
  },
  {
   "cell_type": "code",
   "execution_count": 64,
   "id": "81de6022-4d94-4ae6-8375-a71bd3ae3f76",
   "metadata": {},
   "outputs": [
    {
     "name": "stdout",
     "output_type": "stream",
     "text": [
      "data came\n",
      "data came\n",
      "data came\n",
      "data came\n",
      "data came\n",
      "data came\n",
      "data came\n",
      "data came\n",
      "data came\n",
      "data came\n",
      "data came\n",
      "data came\n",
      "data came\n",
      "data came\n",
      "data came\n",
      "data came\n",
      "data came\n",
      "data came\n",
      "data came\n",
      "data came\n",
      "data came\n",
      "data came\n",
      "data came\n",
      "data came\n",
      "data came\n",
      "data came\n",
      "data came\n",
      "data came\n",
      "data came\n",
      "data came\n",
      "data came\n",
      "data came\n",
      "data came\n",
      "data came\n",
      "data came\n",
      "data came\n",
      "data came\n",
      "data came\n",
      "data came\n",
      "data came\n",
      "data came\n",
      "data came\n",
      "data came\n",
      "data came\n",
      "data came\n",
      "data came\n",
      "data came\n",
      "data came\n",
      "data came\n",
      "data came\n",
      "data came\n",
      "data came\n"
     ]
    }
   ],
   "source": [
    "try:\n",
    "    headers = {\n",
    "        'User-Agent': 'Mozilla/5.0 (X11; Linux x86_64) AppleWebKit/537.36 (KHTML, like Gecko) Chrome/110.0.0.0 Safari/537.36'\n",
    "                    }\n",
    "    reviews=[]\n",
    "    for page in pages:\n",
    "        zomato_link=f\"https://www.zomato.com/mumbai/ettarra-1-juhu/reviews?page={page}&sort=dd&filter=reviews-dd\"\n",
    "        r = requests.get(zomato_link, headers=headers)\n",
    "        if r.status_code==200:\n",
    "            print(\"data came\")\n",
    "            soup=BeautifulSoup(r.text,'html.parser')\n",
    "            results=soup.find_all('p')\n",
    "            for index,result in enumerate(results):\n",
    "                if \"time-stamp\" in str(result):\n",
    "                    payload={\n",
    "                        'date':result.text\n",
    "                    }\n",
    "                    test.append(payload)\n",
    "                if \"eaqKit\" in str(result):\n",
    "                    text=result.tex\n",
    "                    if text == \"\" or text == \" \":\n",
    "                        text=np.NaN\n",
    "                    test[-1]['review']=text\n",
    "        else:\n",
    "            print(\"errrorr...\")\n",
    "except:\n",
    "    print(\"Error....\")"
   ]
  },
  {
   "cell_type": "code",
   "execution_count": 83,
   "id": "e9cc67b8-cc70-45a7-b2da-9fcb89c09a9f",
   "metadata": {},
   "outputs": [],
   "source": [
    "test=[]"
   ]
  },
  {
   "cell_type": "code",
   "execution_count": 84,
   "id": "e6292d54-5bae-4dda-bf95-f2f2c5076bd6",
   "metadata": {},
   "outputs": [],
   "source": [
    "for result in results:\n",
    "    if \"time-stamp\" in str(result):\n",
    "        payload={\n",
    "            'date':result.text\n",
    "        }\n",
    "        test.append(payload)\n",
    "    if \"eaqKit\" in str(result):\n",
    "        test[-1]['review']=result.text"
   ]
  },
  {
   "cell_type": "code",
   "execution_count": 85,
   "id": "3ac08e4f-7fbb-425a-b021-1c819cf9a31a",
   "metadata": {},
   "outputs": [
    {
     "data": {
      "text/plain": [
       "[{'date': 'Dec 11, 2022',\n",
       "  'review': 'A great place for coffee(served with banana chips) , food (sandwiches, breads and desserts) service.Definitely worth a try.'},\n",
       " {'date': 'Nov 27, 2022',\n",
       "  'review': 'This rare find serves a combination of good coffee, selective baked goods and tops this with a courteous staff and excellent service! We tried the South Indian Frappe, Banana Bread, their signature Paparoti, Croissant and Latte’s - everything was delicious and would definitely recommend going here often! '},\n",
       " {'date': 'Nov 15, 2022',\n",
       "  'review': 'My new favourite place for coffeee❤️❤️The cappuccino was so good and great presentation and even the banana chips along with it was so good.The staff is so kind and they recommend the best of coffee.The double chocolate chip cookie is so wholesome and worth the price.. best cookie indeed!Now I know where to go if I’m craving for some coffee..Thank you for giving us such a great experience.'},\n",
       " {'date': 'Oct 25, 2022',\n",
       "  'review': 'This is a really cute place which serves good coffee and paparoti. I have tried the cappuccino, south indian filter coffee and hazelnut frappe and all of them are very delivered. Their staff is also very friendly and warm. A must visit place! '}]"
      ]
     },
     "execution_count": 85,
     "metadata": {},
     "output_type": "execute_result"
    }
   ],
   "source": [
    "test"
   ]
  },
  {
   "cell_type": "code",
   "execution_count": 86,
   "id": "0ea7e542-5946-4bc9-9b7e-0a7b23936c45",
   "metadata": {},
   "outputs": [],
   "source": [
    "df_test=pd.DataFrame(test)"
   ]
  },
  {
   "cell_type": "code",
   "execution_count": 87,
   "id": "fe54d4b3-46a9-4530-ba93-dc8aacd4ee05",
   "metadata": {},
   "outputs": [
    {
     "data": {
      "text/html": [
       "<div>\n",
       "<style scoped>\n",
       "    .dataframe tbody tr th:only-of-type {\n",
       "        vertical-align: middle;\n",
       "    }\n",
       "\n",
       "    .dataframe tbody tr th {\n",
       "        vertical-align: top;\n",
       "    }\n",
       "\n",
       "    .dataframe thead th {\n",
       "        text-align: right;\n",
       "    }\n",
       "</style>\n",
       "<table border=\"1\" class=\"dataframe\">\n",
       "  <thead>\n",
       "    <tr style=\"text-align: right;\">\n",
       "      <th></th>\n",
       "      <th>date</th>\n",
       "      <th>review</th>\n",
       "    </tr>\n",
       "  </thead>\n",
       "  <tbody>\n",
       "    <tr>\n",
       "      <th>0</th>\n",
       "      <td>Dec 11, 2022</td>\n",
       "      <td>A great place for coffee(served with banana ch...</td>\n",
       "    </tr>\n",
       "    <tr>\n",
       "      <th>1</th>\n",
       "      <td>Nov 27, 2022</td>\n",
       "      <td>This rare find serves a combination of good co...</td>\n",
       "    </tr>\n",
       "    <tr>\n",
       "      <th>2</th>\n",
       "      <td>Nov 15, 2022</td>\n",
       "      <td>My new favourite place for coffeee❤️❤️The capp...</td>\n",
       "    </tr>\n",
       "    <tr>\n",
       "      <th>3</th>\n",
       "      <td>Oct 25, 2022</td>\n",
       "      <td>This is a really cute place which serves good ...</td>\n",
       "    </tr>\n",
       "  </tbody>\n",
       "</table>\n",
       "</div>"
      ],
      "text/plain": [
       "           date                                             review\n",
       "0  Dec 11, 2022  A great place for coffee(served with banana ch...\n",
       "1  Nov 27, 2022  This rare find serves a combination of good co...\n",
       "2  Nov 15, 2022  My new favourite place for coffeee❤️❤️The capp...\n",
       "3  Oct 25, 2022  This is a really cute place which serves good ..."
      ]
     },
     "execution_count": 87,
     "metadata": {},
     "output_type": "execute_result"
    }
   ],
   "source": [
    "df_test"
   ]
  },
  {
   "cell_type": "code",
   "execution_count": 1,
   "id": "46ec01e9-3f01-4455-ab19-cec4658dd127",
   "metadata": {},
   "outputs": [],
   "source": [
    "from bs4 import BeautifulSoup\n",
    "import requests\n",
    "import pandas as pd\n",
    "import numpy as np"
   ]
  },
  {
   "cell_type": "code",
   "execution_count": 222,
   "id": "8988fe89-cff2-430a-a743-fc4239008daa",
   "metadata": {},
   "outputs": [
    {
     "name": "stdout",
     "output_type": "stream",
     "text": [
      "1\n",
      "data came\n"
     ]
    }
   ],
   "source": [
    "reviews=[]\n",
    "try:\n",
    "    headers = {\n",
    "        'User-Agent': 'Mozilla/5.0 (X11; Linux x86_64) AppleWebKit/537.36 (KHTML, like Gecko) Chrome/110.0.0.0 Safari/537.36'\n",
    "                    }\n",
    "\n",
    "    for page in range(1,52):\n",
    "        print(page)\n",
    "        zomato_link=f\"https://www.zomato.com/mumbai/ettarra-1-juhu/reviews?page={page}&sort=dd&filter=reviews-dd\"\n",
    "        r = requests.get(zomato_link, headers=headers)\n",
    "        if r.status_code==200:\n",
    "            print(\"data came\")\n",
    "            soup=BeautifulSoup(r.text,'html.parser')\n",
    "            results=soup.find_all('p')\n",
    "            for result in results:\n",
    "                if \"time-stamp\" in str(result):\n",
    "                    payload={\n",
    "                        'date':result.text\n",
    "                    }\n",
    "                    reviews.append(payload)\n",
    "                if \"eaqKit\" in str(result):\n",
    "                    text=result.text\n",
    "                    reviews[-1]['review']=text\n",
    "        else:\n",
    "            print(\"errrorr...\")\n",
    "        break\n",
    "except:\n",
    "    print(\"Error....\")"
   ]
  },
  {
   "cell_type": "code",
   "execution_count": 107,
   "id": "0d03cd92-8cf5-445c-9bc8-bd0b0099c290",
   "metadata": {
    "scrolled": true
   },
   "outputs": [
    {
     "data": {
      "text/html": [
       "<div>\n",
       "<style scoped>\n",
       "    .dataframe tbody tr th:only-of-type {\n",
       "        vertical-align: middle;\n",
       "    }\n",
       "\n",
       "    .dataframe tbody tr th {\n",
       "        vertical-align: top;\n",
       "    }\n",
       "\n",
       "    .dataframe thead th {\n",
       "        text-align: right;\n",
       "    }\n",
       "</style>\n",
       "<table border=\"1\" class=\"dataframe\">\n",
       "  <thead>\n",
       "    <tr style=\"text-align: right;\">\n",
       "      <th></th>\n",
       "      <th>date</th>\n",
       "      <th>review</th>\n",
       "    </tr>\n",
       "  </thead>\n",
       "  <tbody>\n",
       "    <tr>\n",
       "      <th>0</th>\n",
       "      <td>4 days ago</td>\n",
       "      <td>NaN</td>\n",
       "    </tr>\n",
       "    <tr>\n",
       "      <th>1</th>\n",
       "      <td>9 days ago</td>\n",
       "      <td>NaN</td>\n",
       "    </tr>\n",
       "    <tr>\n",
       "      <th>2</th>\n",
       "      <td>11 days ago</td>\n",
       "      <td>NaN</td>\n",
       "    </tr>\n",
       "    <tr>\n",
       "      <th>3</th>\n",
       "      <td>12 days ago</td>\n",
       "      <td>NaN</td>\n",
       "    </tr>\n",
       "    <tr>\n",
       "      <th>4</th>\n",
       "      <td>17 days ago</td>\n",
       "      <td>NaN</td>\n",
       "    </tr>\n",
       "    <tr>\n",
       "      <th>...</th>\n",
       "      <td>...</td>\n",
       "      <td>...</td>\n",
       "    </tr>\n",
       "    <tr>\n",
       "      <th>249</th>\n",
       "      <td>Dec 22, 2022</td>\n",
       "      <td>NaN</td>\n",
       "    </tr>\n",
       "    <tr>\n",
       "      <th>250</th>\n",
       "      <td>Dec 11, 2022</td>\n",
       "      <td>NaN</td>\n",
       "    </tr>\n",
       "    <tr>\n",
       "      <th>251</th>\n",
       "      <td>Nov 27, 2022</td>\n",
       "      <td>NaN</td>\n",
       "    </tr>\n",
       "    <tr>\n",
       "      <th>252</th>\n",
       "      <td>Nov 15, 2022</td>\n",
       "      <td>NaN</td>\n",
       "    </tr>\n",
       "    <tr>\n",
       "      <th>253</th>\n",
       "      <td>Oct 25, 2022</td>\n",
       "      <td>NaN</td>\n",
       "    </tr>\n",
       "  </tbody>\n",
       "</table>\n",
       "<p>254 rows × 2 columns</p>\n",
       "</div>"
      ],
      "text/plain": [
       "             date review\n",
       "0      4 days ago    NaN\n",
       "1      9 days ago    NaN\n",
       "2     11 days ago    NaN\n",
       "3     12 days ago    NaN\n",
       "4     17 days ago    NaN\n",
       "..            ...    ...\n",
       "249  Dec 22, 2022    NaN\n",
       "250  Dec 11, 2022    NaN\n",
       "251  Nov 27, 2022    NaN\n",
       "252  Nov 15, 2022    NaN\n",
       "253  Oct 25, 2022    NaN\n",
       "\n",
       "[254 rows x 2 columns]"
      ]
     },
     "execution_count": 107,
     "metadata": {},
     "output_type": "execute_result"
    }
   ],
   "source": [
    "df=pd.DataFrame(reviews)\n",
    "df"
   ]
  },
  {
   "cell_type": "code",
   "execution_count": null,
   "id": "23c1432b-78e0-469b-ae77-7401caa3dd01",
   "metadata": {},
   "outputs": [],
   "source": []
  },
  {
   "cell_type": "code",
   "execution_count": null,
   "id": "1b21b483-c174-443e-b72b-0c92a555cbfb",
   "metadata": {},
   "outputs": [],
   "source": []
  },
  {
   "cell_type": "code",
   "execution_count": 173,
   "id": "35e0c40f-471b-497c-b9ba-10fcf6d5c13f",
   "metadata": {},
   "outputs": [],
   "source": [
    "import datetime"
   ]
  },
  {
   "cell_type": "code",
   "execution_count": 174,
   "id": "bdd4567d-d289-4529-b222-a94265e90801",
   "metadata": {},
   "outputs": [],
   "source": [
    "date=datetime.datetime.now()"
   ]
  },
  {
   "cell_type": "code",
   "execution_count": 175,
   "id": "cffd9f67-e5be-4b26-929e-e443f64752b6",
   "metadata": {},
   "outputs": [],
   "source": [
    "today_date=f\"{date.day}/{date.month}/{date.year}\""
   ]
  },
  {
   "cell_type": "code",
   "execution_count": 176,
   "id": "10b1c5fc-bd19-4ae1-b54d-a66a27a16886",
   "metadata": {},
   "outputs": [
    {
     "data": {
      "text/plain": [
       "'6/6/2024'"
      ]
     },
     "execution_count": 176,
     "metadata": {},
     "output_type": "execute_result"
    }
   ],
   "source": [
    "today_date"
   ]
  },
  {
   "cell_type": "code",
   "execution_count": 180,
   "id": "55f1e374-f39a-46e2-a190-4242f6d6b861",
   "metadata": {},
   "outputs": [],
   "source": [
    "import openai\n",
    "openai.api_key = \"\"  # Add your OpenAI API key here\n",
    "\n",
    "\n",
    "\n",
    "\n"
   ]
  },
  {
   "cell_type": "code",
   "execution_count": 225,
   "id": "634c94d2-1de6-43ac-be75-8f86bee406e4",
   "metadata": {},
   "outputs": [],
   "source": [
    "def give_reviews(input):\n",
    "    messages = [\n",
    "        {\"role\": \"user\",\n",
    "         \"content\": f\"you are html page analyzer and analyze the page give and extract all the reviews and date of review and give te results in proper json \"+\"format like data:[{date: date of the review,review:review given}]\"},\n",
    "    ]\n",
    "\n",
    "    messages.append({\"role\": \"user\", \"content\": f\"{input}\"})\n",
    "    completion = openai.ChatCompletion.create(\n",
    "        model=\"gpt-3.5-turbo\",\n",
    "        messages=messages\n",
    "    )\n",
    "    reply = completion.choices[0].message.content\n",
    "    \n",
    "    return reply"
   ]
  },
  {
   "cell_type": "code",
   "execution_count": 226,
   "id": "b899e57b-ac97-4499-bf1e-9a6c0ca31a7e",
   "metadata": {},
   "outputs": [],
   "source": [
    "data=give_reviews(\"\\n\".join(list(map(str,results))))"
   ]
  },
  {
   "cell_type": "code",
   "execution_count": 227,
   "id": "b2ba2da1-c7b6-48b9-9dc0-f23d65bf2496",
   "metadata": {},
   "outputs": [
    {
     "data": {
      "text/plain": [
       "[{'date': '4 days ago',\n",
       "  'review': 'Many stories with the place,,,,, it has this unexplained vibe which attracts me everytime and to be specific, I have got all my special friends to visit her'},\n",
       " {'date': '9 days ago',\n",
       "  'review': 'You forgot to send sugar with coffee/the rest of your coffee is good'},\n",
       " {'date': '11 days ago',\n",
       "  'review': 'The filter coffee was brilliant and so were snacks. We had the drizzled paparoti and Nutella Berliner which were lip smacking good. They serve complimentary banana chips which were one of the best I have had in a while. Asif Sheikh- our server was very courteous.'},\n",
       " {'date': '12 days ago',\n",
       "  'review': 'One of the best places to go to, for a vibe, indie music, and some of the most amazing coffees. If you do come here do try the tarts.'},\n",
       " {'date': '17 days ago',\n",
       "  'review': 'Enjoyed the whole experience! Special mention to Asif for catering us'}]"
      ]
     },
     "execution_count": 227,
     "metadata": {},
     "output_type": "execute_result"
    }
   ],
   "source": [
    "json.loads(data[8:-4])['data']"
   ]
  },
  {
   "cell_type": "code",
   "execution_count": 139,
   "id": "75b6ae1a-6af5-4648-b4e8-fb943011b178",
   "metadata": {},
   "outputs": [],
   "source": [
    "import json"
   ]
  },
  {
   "cell_type": "code",
   "execution_count": 188,
   "id": "fd94ad4a-28e9-4a26-88a6-1b47d2330abe",
   "metadata": {},
   "outputs": [
    {
     "data": {
      "text/plain": [
       "[<p class=\"sc-1hez2tp-0 sc-fCPvlr dbaWnN\" color=\"#EF4F5F\">Detect current location</p>,\n",
       " <p class=\"sc-1hez2tp-0 sc-hAXbOi jJsAxK\">Using GPS</p>,\n",
       " <p class=\"sc-1hez2tp-0 sc-bYTsla hUkOLL\">View Gallery</p>,\n",
       " <p class=\"sc-1hez2tp-0 OgtQR\">All Reviews</p>,\n",
       " <p class=\"sc-1hez2tp-0 OgtQR\">Newest First</p>,\n",
       " <p class=\"sc-1hez2tp-0 sc-fPCuyW hWkbSv\">Khushboo Ratnani</p>,\n",
       " <p class=\"sc-1hez2tp-0 fKvqMN time-stamp\" color=\"#9C9C9C\">4 days ago</p>,\n",
       " <p class=\"sc-1hez2tp-0 sc-rzOft eaqKit\">Many stories with the place,,,,, it has this unexplained vibe which attracts me everytime and to be specific, I have got all my special friends to visit her</p>,\n",
       " <p class=\"sc-1hez2tp-0 fKvqMN\" color=\"#9C9C9C\">0<!-- --> <!-- -->Votes for helpful<!-- -->, <!-- -->1<!-- --> <!-- -->Comment</p>,\n",
       " <p class=\"sc-1hez2tp-0 sc-fPCuyW hWkbSv\">Renu Joshi</p>,\n",
       " <p class=\"sc-1hez2tp-0 fKvqMN time-stamp\" color=\"#9C9C9C\">9 days ago</p>,\n",
       " <p class=\"sc-1hez2tp-0 sc-rzOft eaqKit\">You forgot to send sugar with coffee/the rest of your coffee is good</p>,\n",
       " <p class=\"sc-1hez2tp-0 fKvqMN\" color=\"#9C9C9C\">0<!-- --> <!-- -->Votes for helpful<!-- -->, <!-- -->1<!-- --> <!-- -->Comment</p>,\n",
       " <p class=\"sc-1hez2tp-0 sc-fPCuyW hWkbSv\">Vedant</p>,\n",
       " <p class=\"sc-1hez2tp-0 fKvqMN time-stamp\" color=\"#9C9C9C\">11 days ago</p>,\n",
       " <p class=\"sc-1hez2tp-0 sc-rzOft eaqKit\">The filter coffee was brilliant and so were snacks. We had the drizzled paparoti and Nutella Berliner which were lip smacking good. They serve complimentary banana chips which were one of the best I have had in a while. Asif Sheikh- our server was very courteous.</p>,\n",
       " <p class=\"sc-1hez2tp-0 fKvqMN\" color=\"#9C9C9C\">0<!-- --> <!-- -->Votes for helpful<!-- -->, <!-- -->1<!-- --> <!-- -->Comment</p>,\n",
       " <p class=\"sc-1hez2tp-0 sc-fPCuyW hWkbSv\">Archis</p>,\n",
       " <p class=\"sc-1hez2tp-0 fKvqMN time-stamp\" color=\"#9C9C9C\">12 days ago</p>,\n",
       " <p class=\"sc-1hez2tp-0 sc-rzOft eaqKit\">One of the best places to go to, for a vibe, indie music, and some of the most amazing coffees. If you do come here do try the tarts.</p>,\n",
       " <p class=\"sc-1hez2tp-0 fKvqMN\" color=\"#9C9C9C\">0<!-- --> <!-- -->Votes for helpful<!-- -->, <!-- -->1<!-- --> <!-- -->Comment</p>,\n",
       " <p class=\"sc-1hez2tp-0 sc-fPCuyW hWkbSv\">Akash Negandhi</p>,\n",
       " <p class=\"sc-1hez2tp-0 fKvqMN time-stamp\" color=\"#9C9C9C\">17 days ago</p>,\n",
       " <p class=\"sc-1hez2tp-0 sc-rzOft eaqKit\">Enjoyed the whole experience! Special mention to Asif for catering us</p>,\n",
       " <p class=\"sc-1hez2tp-0 fKvqMN\" color=\"#9C9C9C\">0<!-- --> <!-- -->Votes for helpful<!-- -->, <!-- -->1<!-- --> <!-- -->Comment</p>,\n",
       " <p class=\"sc-elhb8j-16 dxcfRo\">Who We Are</p>,\n",
       " <p class=\"sc-elhb8j-16 dxcfRo\">Blog</p>,\n",
       " <p class=\"sc-elhb8j-16 dxcfRo\">Work With Us</p>,\n",
       " <p class=\"sc-elhb8j-16 dxcfRo\">Investor Relations</p>,\n",
       " <p class=\"sc-elhb8j-16 dxcfRo\">Report Fraud</p>,\n",
       " <p class=\"sc-elhb8j-16 dxcfRo\">Press Kit</p>,\n",
       " <p class=\"sc-elhb8j-16 dxcfRo\">Contact Us</p>,\n",
       " <p class=\"sc-elhb8j-16 dxcfRo\">Zomato</p>,\n",
       " <p class=\"sc-elhb8j-16 dxcfRo\">Blinkit</p>,\n",
       " <p class=\"sc-elhb8j-16 dxcfRo\">Feeding India</p>,\n",
       " <p class=\"sc-elhb8j-16 dxcfRo\">Hyperpure</p>,\n",
       " <p class=\"sc-elhb8j-16 dxcfRo\">Zomaland</p>,\n",
       " <p class=\"sc-elhb8j-16 dxcfRo\">Partner With Us</p>,\n",
       " <p class=\"sc-elhb8j-16 dxcfRo\">Apps For You</p>,\n",
       " <p class=\"sc-elhb8j-16 dxcfRo\">Privacy</p>,\n",
       " <p class=\"sc-elhb8j-16 dxcfRo\">Security</p>,\n",
       " <p class=\"sc-elhb8j-16 dxcfRo\">Terms</p>,\n",
       " <p class=\"sc-elhb8j-16 dxcfRo\">Sitemap</p>,\n",
       " <p class=\"sc-elhb8j-5 kBllqA\">By continuing past this page, you agree to our Terms of Service, Cookie Policy, Privacy Policy and Content Policies. All trademarks are properties of their respective owners. 2008-2024 © Zomato™ Ltd. All rights reserved.</p>]"
      ]
     },
     "execution_count": 188,
     "metadata": {},
     "output_type": "execute_result"
    }
   ],
   "source": []
  },
  {
   "cell_type": "code",
   "execution_count": 2,
   "id": "42ec3ed6-49d2-4348-9c33-191e6ca185a7",
   "metadata": {},
   "outputs": [],
   "source": [
    "from time import sleep"
   ]
  },
  {
   "cell_type": "code",
   "execution_count": 17,
   "id": "2d69acb0-81f6-46ca-871f-7be9ee230eb4",
   "metadata": {},
   "outputs": [
    {
     "name": "stdout",
     "output_type": "stream",
     "text": [
      "1\n",
      "data came\n",
      "2\n",
      "data came\n",
      "3\n",
      "data came\n",
      "4\n",
      "data came\n",
      "5\n",
      "data came\n",
      "6\n",
      "data came\n",
      "7\n",
      "data came\n",
      "8\n",
      "data came\n",
      "9\n",
      "data came\n",
      "10\n",
      "data came\n",
      "11\n",
      "data came\n",
      "12\n",
      "data came\n",
      "13\n",
      "data came\n",
      "14\n",
      "data came\n",
      "15\n",
      "data came\n",
      "16\n",
      "data came\n",
      "17\n",
      "data came\n",
      "18\n",
      "data came\n",
      "19\n",
      "data came\n",
      "20\n",
      "data came\n",
      "21\n",
      "data came\n",
      "22\n",
      "data came\n",
      "23\n",
      "data came\n",
      "24\n",
      "data came\n",
      "25\n",
      "data came\n",
      "26\n",
      "data came\n",
      "27\n",
      "data came\n",
      "28\n",
      "data came\n",
      "29\n",
      "data came\n",
      "30\n",
      "data came\n",
      "31\n",
      "data came\n",
      "32\n",
      "data came\n",
      "33\n",
      "data came\n",
      "34\n",
      "data came\n",
      "35\n",
      "data came\n",
      "36\n",
      "data came\n",
      "37\n",
      "data came\n",
      "38\n",
      "data came\n",
      "39\n",
      "data came\n",
      "40\n",
      "data came\n",
      "41\n",
      "data came\n",
      "42\n",
      "data came\n",
      "43\n",
      "data came\n",
      "44\n",
      "data came\n",
      "45\n",
      "data came\n",
      "46\n",
      "data came\n",
      "47\n",
      "data came\n",
      "48\n",
      "data came\n",
      "49\n",
      "data came\n",
      "50\n",
      "data came\n",
      "51\n",
      "data came\n"
     ]
    }
   ],
   "source": [
    "reviews=[]\n",
    "html_results=[]\n",
    "headers = {\n",
    "    'User-Agent': 'Mozilla/5.0 (X11; Linux x86_64) AppleWebKit/537.36 (KHTML, like Gecko) Chrome/110.0.0.0 Safari/537.36'\n",
    "                }\n",
    "\n",
    "for page in range(1,52):\n",
    "    print(page)\n",
    "    zomato_link=f\"https://www.zomato.com/mumbai/ettarra-1-juhu/reviews?page={page}&sort=dd&filter=reviews-dd\"\n",
    "    r = requests.get(zomato_link, headers=headers)\n",
    "    if r.status_code==200:\n",
    "        print(\"data came\")\n",
    "        soup=BeautifulSoup(r.text,'html.parser')\n",
    "        results=soup.select('p[class*=\"sc-1hez2tp-0\"]')\n",
    "        html_results+=results\n",
    "        for number,result in enumerate(results):\n",
    "            if 'time-stamp' in str(result):\n",
    "                payload={\n",
    "                    'date':result.text,\n",
    "                    'review':results[number+1].text\n",
    "                }\n",
    "                reviews.append(payload)\n",
    "                \n",
    "        # data=give_reviews(\"\\n\".join(list(map(str,results))))\n",
    "        # reviews=reviews+json.loads(data[8:-4])['data']\n",
    "    else:\n",
    "        print(\"errrorr...\")"
   ]
  },
  {
   "cell_type": "code",
   "execution_count": 19,
   "id": "9d9d6e06-6998-47c2-86e4-21e9984128e2",
   "metadata": {},
   "outputs": [
    {
     "data": {
      "text/html": [
       "<div>\n",
       "<style scoped>\n",
       "    .dataframe tbody tr th:only-of-type {\n",
       "        vertical-align: middle;\n",
       "    }\n",
       "\n",
       "    .dataframe tbody tr th {\n",
       "        vertical-align: top;\n",
       "    }\n",
       "\n",
       "    .dataframe thead th {\n",
       "        text-align: right;\n",
       "    }\n",
       "</style>\n",
       "<table border=\"1\" class=\"dataframe\">\n",
       "  <thead>\n",
       "    <tr style=\"text-align: right;\">\n",
       "      <th></th>\n",
       "      <th>date</th>\n",
       "      <th>review</th>\n",
       "    </tr>\n",
       "  </thead>\n",
       "  <tbody>\n",
       "    <tr>\n",
       "      <th>0</th>\n",
       "      <td>4 days ago</td>\n",
       "      <td>Many stories with the place,,,,, it has this u...</td>\n",
       "    </tr>\n",
       "    <tr>\n",
       "      <th>1</th>\n",
       "      <td>10 days ago</td>\n",
       "      <td>You forgot to send sugar with coffee/the rest ...</td>\n",
       "    </tr>\n",
       "    <tr>\n",
       "      <th>2</th>\n",
       "      <td>12 days ago</td>\n",
       "      <td>The filter coffee was brilliant and so were sn...</td>\n",
       "    </tr>\n",
       "    <tr>\n",
       "      <th>3</th>\n",
       "      <td>12 days ago</td>\n",
       "      <td>One of the best places to go to, for a vibe, i...</td>\n",
       "    </tr>\n",
       "    <tr>\n",
       "      <th>4</th>\n",
       "      <td>17 days ago</td>\n",
       "      <td>Enjoyed the whole experience! Special mention ...</td>\n",
       "    </tr>\n",
       "    <tr>\n",
       "      <th>...</th>\n",
       "      <td>...</td>\n",
       "      <td>...</td>\n",
       "    </tr>\n",
       "    <tr>\n",
       "      <th>249</th>\n",
       "      <td>Dec 22, 2022</td>\n",
       "      <td>Amazing coffee experience at this place . Have...</td>\n",
       "    </tr>\n",
       "    <tr>\n",
       "      <th>250</th>\n",
       "      <td>Dec 11, 2022</td>\n",
       "      <td>fresh food</td>\n",
       "    </tr>\n",
       "    <tr>\n",
       "      <th>251</th>\n",
       "      <td>Nov 27, 2022</td>\n",
       "      <td>This rare find serves a combination of good co...</td>\n",
       "    </tr>\n",
       "    <tr>\n",
       "      <th>252</th>\n",
       "      <td>Nov 15, 2022</td>\n",
       "      <td>elaborate menu</td>\n",
       "    </tr>\n",
       "    <tr>\n",
       "      <th>253</th>\n",
       "      <td>Oct 25, 2022</td>\n",
       "      <td>This is a really cute place which serves good ...</td>\n",
       "    </tr>\n",
       "  </tbody>\n",
       "</table>\n",
       "<p>254 rows × 2 columns</p>\n",
       "</div>"
      ],
      "text/plain": [
       "             date                                             review\n",
       "0      4 days ago  Many stories with the place,,,,, it has this u...\n",
       "1     10 days ago  You forgot to send sugar with coffee/the rest ...\n",
       "2     12 days ago  The filter coffee was brilliant and so were sn...\n",
       "3     12 days ago  One of the best places to go to, for a vibe, i...\n",
       "4     17 days ago  Enjoyed the whole experience! Special mention ...\n",
       "..            ...                                                ...\n",
       "249  Dec 22, 2022  Amazing coffee experience at this place . Have...\n",
       "250  Dec 11, 2022                                         fresh food\n",
       "251  Nov 27, 2022  This rare find serves a combination of good co...\n",
       "252  Nov 15, 2022                                     elaborate menu\n",
       "253  Oct 25, 2022  This is a really cute place which serves good ...\n",
       "\n",
       "[254 rows x 2 columns]"
      ]
     },
     "execution_count": 19,
     "metadata": {},
     "output_type": "execute_result"
    }
   ],
   "source": [
    "df=pd.DataFrame(reviews)\n",
    "df"
   ]
  },
  {
   "cell_type": "code",
   "execution_count": 1,
   "id": "39bf778f-f977-4b5d-8efe-766e91562fcb",
   "metadata": {},
   "outputs": [],
   "source": [
    "import numpy as np"
   ]
  },
  {
   "cell_type": "code",
   "execution_count": 6,
   "id": "77ae4719-4eac-4fcb-864b-425a75653327",
   "metadata": {},
   "outputs": [
    {
     "ename": "NameError",
     "evalue": "name 'df' is not defined",
     "output_type": "error",
     "traceback": [
      "\u001b[1;31m---------------------------------------------------------------------------\u001b[0m",
      "\u001b[1;31mNameError\u001b[0m                                 Traceback (most recent call last)",
      "Cell \u001b[1;32mIn[6], line 1\u001b[0m\n\u001b[1;32m----> 1\u001b[0m \u001b[43mdf\u001b[49m\u001b[38;5;241m.\u001b[39mto_csv(\u001b[38;5;124m\"\u001b[39m\u001b[38;5;124mettara_zomato_reviews.csv\u001b[39m\u001b[38;5;124m\"\u001b[39m,index\u001b[38;5;241m=\u001b[39m\u001b[38;5;28;01mFalse\u001b[39;00m)\n",
      "\u001b[1;31mNameError\u001b[0m: name 'df' is not defined"
     ]
    }
   ],
   "source": [
    "df.to_csv(\"ettara_zomato_reviews.csv\",index=False)"
   ]
  },
  {
   "cell_type": "code",
   "execution_count": 5,
   "id": "13af6dab-b138-47eb-8687-5951ddfa58cd",
   "metadata": {},
   "outputs": [],
   "source": [
    "df=pd.read_csv(\"ettara_zomato_reviews.csv\")"
   ]
  },
  {
   "cell_type": "code",
   "execution_count": 6,
   "id": "de1ca071-9e77-4c96-8b1a-9444cf1e832e",
   "metadata": {},
   "outputs": [],
   "source": [
    "df['review']=df['review'].apply(lambda x : np.NaN if x==\"\" else x)"
   ]
  },
  {
   "cell_type": "code",
   "execution_count": 7,
   "id": "2b52ed52-70c0-42bf-9213-8ededc3a5cc2",
   "metadata": {},
   "outputs": [
    {
     "data": {
      "text/html": [
       "<div>\n",
       "<style scoped>\n",
       "    .dataframe tbody tr th:only-of-type {\n",
       "        vertical-align: middle;\n",
       "    }\n",
       "\n",
       "    .dataframe tbody tr th {\n",
       "        vertical-align: top;\n",
       "    }\n",
       "\n",
       "    .dataframe thead th {\n",
       "        text-align: right;\n",
       "    }\n",
       "</style>\n",
       "<table border=\"1\" class=\"dataframe\">\n",
       "  <thead>\n",
       "    <tr style=\"text-align: right;\">\n",
       "      <th></th>\n",
       "      <th>date</th>\n",
       "      <th>review</th>\n",
       "    </tr>\n",
       "  </thead>\n",
       "  <tbody>\n",
       "    <tr>\n",
       "      <th>0</th>\n",
       "      <td>4 days ago</td>\n",
       "      <td>Many stories with the place,,,,, it has this u...</td>\n",
       "    </tr>\n",
       "    <tr>\n",
       "      <th>1</th>\n",
       "      <td>10 days ago</td>\n",
       "      <td>You forgot to send sugar with coffee/the rest ...</td>\n",
       "    </tr>\n",
       "    <tr>\n",
       "      <th>2</th>\n",
       "      <td>12 days ago</td>\n",
       "      <td>The filter coffee was brilliant and so were sn...</td>\n",
       "    </tr>\n",
       "    <tr>\n",
       "      <th>3</th>\n",
       "      <td>12 days ago</td>\n",
       "      <td>One of the best places to go to, for a vibe, i...</td>\n",
       "    </tr>\n",
       "    <tr>\n",
       "      <th>4</th>\n",
       "      <td>17 days ago</td>\n",
       "      <td>Enjoyed the whole experience! Special mention ...</td>\n",
       "    </tr>\n",
       "    <tr>\n",
       "      <th>...</th>\n",
       "      <td>...</td>\n",
       "      <td>...</td>\n",
       "    </tr>\n",
       "    <tr>\n",
       "      <th>249</th>\n",
       "      <td>Dec 22, 2022</td>\n",
       "      <td>Amazing coffee experience at this place . Have...</td>\n",
       "    </tr>\n",
       "    <tr>\n",
       "      <th>250</th>\n",
       "      <td>Dec 11, 2022</td>\n",
       "      <td>fresh food</td>\n",
       "    </tr>\n",
       "    <tr>\n",
       "      <th>251</th>\n",
       "      <td>Nov 27, 2022</td>\n",
       "      <td>This rare find serves a combination of good co...</td>\n",
       "    </tr>\n",
       "    <tr>\n",
       "      <th>252</th>\n",
       "      <td>Nov 15, 2022</td>\n",
       "      <td>elaborate menu</td>\n",
       "    </tr>\n",
       "    <tr>\n",
       "      <th>253</th>\n",
       "      <td>Oct 25, 2022</td>\n",
       "      <td>This is a really cute place which serves good ...</td>\n",
       "    </tr>\n",
       "  </tbody>\n",
       "</table>\n",
       "<p>254 rows × 2 columns</p>\n",
       "</div>"
      ],
      "text/plain": [
       "             date                                             review\n",
       "0      4 days ago  Many stories with the place,,,,, it has this u...\n",
       "1     10 days ago  You forgot to send sugar with coffee/the rest ...\n",
       "2     12 days ago  The filter coffee was brilliant and so were sn...\n",
       "3     12 days ago  One of the best places to go to, for a vibe, i...\n",
       "4     17 days ago  Enjoyed the whole experience! Special mention ...\n",
       "..            ...                                                ...\n",
       "249  Dec 22, 2022  Amazing coffee experience at this place . Have...\n",
       "250  Dec 11, 2022                                         fresh food\n",
       "251  Nov 27, 2022  This rare find serves a combination of good co...\n",
       "252  Nov 15, 2022                                     elaborate menu\n",
       "253  Oct 25, 2022  This is a really cute place which serves good ...\n",
       "\n",
       "[254 rows x 2 columns]"
      ]
     },
     "execution_count": 7,
     "metadata": {},
     "output_type": "execute_result"
    }
   ],
   "source": [
    "df"
   ]
  },
  {
   "cell_type": "code",
   "execution_count": 10,
   "id": "1106190e-a782-41be-b10f-e535bf6a34c7",
   "metadata": {},
   "outputs": [
    {
     "data": {
      "text/plain": [
       "date       0\n",
       "review    35\n",
       "dtype: int64"
      ]
     },
     "execution_count": 10,
     "metadata": {},
     "output_type": "execute_result"
    }
   ],
   "source": [
    "df.isnull().sum()"
   ]
  },
  {
   "cell_type": "code",
   "execution_count": 8,
   "id": "b246b644-e34f-49d4-bcda-27432e689af2",
   "metadata": {},
   "outputs": [],
   "source": [
    "df.dropna(inplace=True)"
   ]
  },
  {
   "cell_type": "code",
   "execution_count": 9,
   "id": "6f9e5e08-cb8b-4b39-81b3-71389b4308f1",
   "metadata": {},
   "outputs": [
    {
     "data": {
      "text/html": [
       "<div>\n",
       "<style scoped>\n",
       "    .dataframe tbody tr th:only-of-type {\n",
       "        vertical-align: middle;\n",
       "    }\n",
       "\n",
       "    .dataframe tbody tr th {\n",
       "        vertical-align: top;\n",
       "    }\n",
       "\n",
       "    .dataframe thead th {\n",
       "        text-align: right;\n",
       "    }\n",
       "</style>\n",
       "<table border=\"1\" class=\"dataframe\">\n",
       "  <thead>\n",
       "    <tr style=\"text-align: right;\">\n",
       "      <th></th>\n",
       "      <th>date</th>\n",
       "      <th>review</th>\n",
       "    </tr>\n",
       "  </thead>\n",
       "  <tbody>\n",
       "    <tr>\n",
       "      <th>0</th>\n",
       "      <td>4 days ago</td>\n",
       "      <td>Many stories with the place,,,,, it has this u...</td>\n",
       "    </tr>\n",
       "    <tr>\n",
       "      <th>1</th>\n",
       "      <td>10 days ago</td>\n",
       "      <td>You forgot to send sugar with coffee/the rest ...</td>\n",
       "    </tr>\n",
       "    <tr>\n",
       "      <th>2</th>\n",
       "      <td>12 days ago</td>\n",
       "      <td>The filter coffee was brilliant and so were sn...</td>\n",
       "    </tr>\n",
       "    <tr>\n",
       "      <th>3</th>\n",
       "      <td>12 days ago</td>\n",
       "      <td>One of the best places to go to, for a vibe, i...</td>\n",
       "    </tr>\n",
       "    <tr>\n",
       "      <th>4</th>\n",
       "      <td>17 days ago</td>\n",
       "      <td>Enjoyed the whole experience! Special mention ...</td>\n",
       "    </tr>\n",
       "    <tr>\n",
       "      <th>...</th>\n",
       "      <td>...</td>\n",
       "      <td>...</td>\n",
       "    </tr>\n",
       "    <tr>\n",
       "      <th>249</th>\n",
       "      <td>Dec 22, 2022</td>\n",
       "      <td>Amazing coffee experience at this place . Have...</td>\n",
       "    </tr>\n",
       "    <tr>\n",
       "      <th>250</th>\n",
       "      <td>Dec 11, 2022</td>\n",
       "      <td>fresh food</td>\n",
       "    </tr>\n",
       "    <tr>\n",
       "      <th>251</th>\n",
       "      <td>Nov 27, 2022</td>\n",
       "      <td>This rare find serves a combination of good co...</td>\n",
       "    </tr>\n",
       "    <tr>\n",
       "      <th>252</th>\n",
       "      <td>Nov 15, 2022</td>\n",
       "      <td>elaborate menu</td>\n",
       "    </tr>\n",
       "    <tr>\n",
       "      <th>253</th>\n",
       "      <td>Oct 25, 2022</td>\n",
       "      <td>This is a really cute place which serves good ...</td>\n",
       "    </tr>\n",
       "  </tbody>\n",
       "</table>\n",
       "<p>219 rows × 2 columns</p>\n",
       "</div>"
      ],
      "text/plain": [
       "             date                                             review\n",
       "0      4 days ago  Many stories with the place,,,,, it has this u...\n",
       "1     10 days ago  You forgot to send sugar with coffee/the rest ...\n",
       "2     12 days ago  The filter coffee was brilliant and so were sn...\n",
       "3     12 days ago  One of the best places to go to, for a vibe, i...\n",
       "4     17 days ago  Enjoyed the whole experience! Special mention ...\n",
       "..            ...                                                ...\n",
       "249  Dec 22, 2022  Amazing coffee experience at this place . Have...\n",
       "250  Dec 11, 2022                                         fresh food\n",
       "251  Nov 27, 2022  This rare find serves a combination of good co...\n",
       "252  Nov 15, 2022                                     elaborate menu\n",
       "253  Oct 25, 2022  This is a really cute place which serves good ...\n",
       "\n",
       "[219 rows x 2 columns]"
      ]
     },
     "execution_count": 9,
     "metadata": {},
     "output_type": "execute_result"
    }
   ],
   "source": [
    "df"
   ]
  },
  {
   "cell_type": "code",
   "execution_count": 2,
   "id": "0160e73b-23a3-4a55-a147-9f82b4116593",
   "metadata": {},
   "outputs": [],
   "source": [
    "from datetime import datetime,timedelta"
   ]
  },
  {
   "cell_type": "code",
   "execution_count": 3,
   "id": "05f03f4b-7363-4250-9812-abf3189dda53",
   "metadata": {},
   "outputs": [],
   "source": [
    "from dateutil import relativedelta"
   ]
  },
  {
   "cell_type": "code",
   "execution_count": null,
   "id": "47fcd788-c55d-478e-9f17-c1ca2c12f4fc",
   "metadata": {},
   "outputs": [],
   "source": []
  },
  {
   "cell_type": "code",
   "execution_count": 4,
   "id": "0ad86d75-6c70-473d-9d9d-d6f550fa14cd",
   "metadata": {},
   "outputs": [],
   "source": [
    "date_values=[]"
   ]
  },
  {
   "cell_type": "code",
   "execution_count": 10,
   "id": "a9761951-a5ce-4633-a414-8ffdb8880c23",
   "metadata": {},
   "outputs": [],
   "source": [
    "for col in df['date']:\n",
    "    if 'days' in col:\n",
    "        day=int(col.split()[0])\n",
    "        d = datetime.today() - timedelta(days=day)\n",
    "        date_values.append(d.strftime(\"%Y-%m-%d\"))\n",
    "    elif 'month' in col or 'months' in col:\n",
    "        month=col.split()[0]\n",
    "        \n",
    "        if month=='one':\n",
    "            month=1\n",
    "        else:\n",
    "            month=int(month)\n",
    "            \n",
    "        d = datetime.today() - relativedelta.relativedelta(months=month)\n",
    "        date_values.append(d.strftime(\"%Y-%m-%d\"))\n",
    "    else:\n",
    "        date_str = col\n",
    "        d = datetime.strptime(date_str, \"%b %d, %Y\")\n",
    "        date_values.append(d.strftime(\"%Y-%m-%d\"))\n",
    "        "
   ]
  },
  {
   "cell_type": "code",
   "execution_count": 35,
   "id": "3bb03a33-ced3-4b3b-b3cd-9c06ae5c1862",
   "metadata": {},
   "outputs": [],
   "source": [
    "test=datetime.today()- timedelta(days=4)"
   ]
  },
  {
   "cell_type": "code",
   "execution_count": 36,
   "id": "046ea158-6a31-4e0c-ba88-ea095298da22",
   "metadata": {},
   "outputs": [],
   "source": [
    "date_str = test.strftime(\"%Y-%m-%d\")"
   ]
  },
  {
   "cell_type": "code",
   "execution_count": 37,
   "id": "cc047abf-7267-45db-b541-bab2d4b961b5",
   "metadata": {},
   "outputs": [
    {
     "data": {
      "text/plain": [
       "'2024-06-02'"
      ]
     },
     "execution_count": 37,
     "metadata": {},
     "output_type": "execute_result"
    }
   ],
   "source": [
    "date_str"
   ]
  },
  {
   "cell_type": "code",
   "execution_count": 42,
   "id": "1a20d7b8-b64f-4db9-bfbf-7e091f06d8bb",
   "metadata": {},
   "outputs": [
    {
     "data": {
      "text/plain": [
       "datetime.datetime(2024, 4, 6, 9, 55, 47, 715971)"
      ]
     },
     "execution_count": 42,
     "metadata": {},
     "output_type": "execute_result"
    }
   ],
   "source": [
    "datetime.today() - relativedelta.relativedelta(months=2)"
   ]
  },
  {
   "cell_type": "code",
   "execution_count": 11,
   "id": "5e832b02-6a05-4a42-bf0a-b26e4e235c49",
   "metadata": {},
   "outputs": [],
   "source": [
    "df['date']=date_values"
   ]
  },
  {
   "cell_type": "code",
   "execution_count": 12,
   "id": "313fce14-f701-4cc2-ac76-e83da2f03f13",
   "metadata": {},
   "outputs": [
    {
     "data": {
      "text/html": [
       "<div>\n",
       "<style scoped>\n",
       "    .dataframe tbody tr th:only-of-type {\n",
       "        vertical-align: middle;\n",
       "    }\n",
       "\n",
       "    .dataframe tbody tr th {\n",
       "        vertical-align: top;\n",
       "    }\n",
       "\n",
       "    .dataframe thead th {\n",
       "        text-align: right;\n",
       "    }\n",
       "</style>\n",
       "<table border=\"1\" class=\"dataframe\">\n",
       "  <thead>\n",
       "    <tr style=\"text-align: right;\">\n",
       "      <th></th>\n",
       "      <th>date</th>\n",
       "      <th>review</th>\n",
       "    </tr>\n",
       "  </thead>\n",
       "  <tbody>\n",
       "    <tr>\n",
       "      <th>0</th>\n",
       "      <td>2024-06-02</td>\n",
       "      <td>Many stories with the place,,,,, it has this u...</td>\n",
       "    </tr>\n",
       "    <tr>\n",
       "      <th>1</th>\n",
       "      <td>2024-05-27</td>\n",
       "      <td>You forgot to send sugar with coffee/the rest ...</td>\n",
       "    </tr>\n",
       "    <tr>\n",
       "      <th>2</th>\n",
       "      <td>2024-05-25</td>\n",
       "      <td>The filter coffee was brilliant and so were sn...</td>\n",
       "    </tr>\n",
       "    <tr>\n",
       "      <th>3</th>\n",
       "      <td>2024-05-25</td>\n",
       "      <td>One of the best places to go to, for a vibe, i...</td>\n",
       "    </tr>\n",
       "    <tr>\n",
       "      <th>4</th>\n",
       "      <td>2024-05-20</td>\n",
       "      <td>Enjoyed the whole experience! Special mention ...</td>\n",
       "    </tr>\n",
       "    <tr>\n",
       "      <th>...</th>\n",
       "      <td>...</td>\n",
       "      <td>...</td>\n",
       "    </tr>\n",
       "    <tr>\n",
       "      <th>249</th>\n",
       "      <td>2022-12-22</td>\n",
       "      <td>Amazing coffee experience at this place . Have...</td>\n",
       "    </tr>\n",
       "    <tr>\n",
       "      <th>250</th>\n",
       "      <td>2022-12-11</td>\n",
       "      <td>fresh food</td>\n",
       "    </tr>\n",
       "    <tr>\n",
       "      <th>251</th>\n",
       "      <td>2022-11-27</td>\n",
       "      <td>This rare find serves a combination of good co...</td>\n",
       "    </tr>\n",
       "    <tr>\n",
       "      <th>252</th>\n",
       "      <td>2022-11-15</td>\n",
       "      <td>elaborate menu</td>\n",
       "    </tr>\n",
       "    <tr>\n",
       "      <th>253</th>\n",
       "      <td>2022-10-25</td>\n",
       "      <td>This is a really cute place which serves good ...</td>\n",
       "    </tr>\n",
       "  </tbody>\n",
       "</table>\n",
       "<p>219 rows × 2 columns</p>\n",
       "</div>"
      ],
      "text/plain": [
       "           date                                             review\n",
       "0    2024-06-02  Many stories with the place,,,,, it has this u...\n",
       "1    2024-05-27  You forgot to send sugar with coffee/the rest ...\n",
       "2    2024-05-25  The filter coffee was brilliant and so were sn...\n",
       "3    2024-05-25  One of the best places to go to, for a vibe, i...\n",
       "4    2024-05-20  Enjoyed the whole experience! Special mention ...\n",
       "..          ...                                                ...\n",
       "249  2022-12-22  Amazing coffee experience at this place . Have...\n",
       "250  2022-12-11                                         fresh food\n",
       "251  2022-11-27  This rare find serves a combination of good co...\n",
       "252  2022-11-15                                     elaborate menu\n",
       "253  2022-10-25  This is a really cute place which serves good ...\n",
       "\n",
       "[219 rows x 2 columns]"
      ]
     },
     "execution_count": 12,
     "metadata": {},
     "output_type": "execute_result"
    }
   ],
   "source": [
    "df"
   ]
  },
  {
   "cell_type": "code",
   "execution_count": 48,
   "id": "253f1971-4058-4ced-987a-8fac693504b5",
   "metadata": {},
   "outputs": [],
   "source": [
    "date_str = \"Dec 11, 2022\"\n",
    "\n",
    "# Convert to date object\n",
    "date_obj = datetime.strptime(date_str, \"%b %d, %Y\")"
   ]
  },
  {
   "cell_type": "code",
   "execution_count": 49,
   "id": "d46aabd4-b210-4a72-a30f-84196c50c29b",
   "metadata": {},
   "outputs": [
    {
     "data": {
      "text/plain": [
       "datetime.datetime(2022, 12, 11, 0, 0)"
      ]
     },
     "execution_count": 49,
     "metadata": {},
     "output_type": "execute_result"
    }
   ],
   "source": [
    "date_obj"
   ]
  },
  {
   "cell_type": "code",
   "execution_count": 17,
   "id": "081ac128-9d61-42d5-8092-af712870cdb6",
   "metadata": {},
   "outputs": [
    {
     "data": {
      "text/html": [
       "<div>\n",
       "<style scoped>\n",
       "    .dataframe tbody tr th:only-of-type {\n",
       "        vertical-align: middle;\n",
       "    }\n",
       "\n",
       "    .dataframe tbody tr th {\n",
       "        vertical-align: top;\n",
       "    }\n",
       "\n",
       "    .dataframe thead th {\n",
       "        text-align: right;\n",
       "    }\n",
       "</style>\n",
       "<table border=\"1\" class=\"dataframe\">\n",
       "  <thead>\n",
       "    <tr style=\"text-align: right;\">\n",
       "      <th></th>\n",
       "      <th>date</th>\n",
       "      <th>review</th>\n",
       "    </tr>\n",
       "  </thead>\n",
       "  <tbody>\n",
       "    <tr>\n",
       "      <th>0</th>\n",
       "      <td>2024-06-02</td>\n",
       "      <td>Many stories with the place,,,,, it has this u...</td>\n",
       "    </tr>\n",
       "    <tr>\n",
       "      <th>1</th>\n",
       "      <td>2024-05-27</td>\n",
       "      <td>You forgot to send sugar with coffee/the rest ...</td>\n",
       "    </tr>\n",
       "    <tr>\n",
       "      <th>2</th>\n",
       "      <td>2024-05-25</td>\n",
       "      <td>The filter coffee was brilliant and so were sn...</td>\n",
       "    </tr>\n",
       "    <tr>\n",
       "      <th>3</th>\n",
       "      <td>2024-05-25</td>\n",
       "      <td>One of the best places to go to, for a vibe, i...</td>\n",
       "    </tr>\n",
       "    <tr>\n",
       "      <th>4</th>\n",
       "      <td>2024-05-20</td>\n",
       "      <td>Enjoyed the whole experience! Special mention ...</td>\n",
       "    </tr>\n",
       "    <tr>\n",
       "      <th>...</th>\n",
       "      <td>...</td>\n",
       "      <td>...</td>\n",
       "    </tr>\n",
       "    <tr>\n",
       "      <th>249</th>\n",
       "      <td>2022-12-22</td>\n",
       "      <td>Amazing coffee experience at this place . Have...</td>\n",
       "    </tr>\n",
       "    <tr>\n",
       "      <th>250</th>\n",
       "      <td>2022-12-11</td>\n",
       "      <td>fresh food</td>\n",
       "    </tr>\n",
       "    <tr>\n",
       "      <th>251</th>\n",
       "      <td>2022-11-27</td>\n",
       "      <td>This rare find serves a combination of good co...</td>\n",
       "    </tr>\n",
       "    <tr>\n",
       "      <th>252</th>\n",
       "      <td>2022-11-15</td>\n",
       "      <td>elaborate menu</td>\n",
       "    </tr>\n",
       "    <tr>\n",
       "      <th>253</th>\n",
       "      <td>2022-10-25</td>\n",
       "      <td>This is a really cute place which serves good ...</td>\n",
       "    </tr>\n",
       "  </tbody>\n",
       "</table>\n",
       "<p>219 rows × 2 columns</p>\n",
       "</div>"
      ],
      "text/plain": [
       "           date                                             review\n",
       "0    2024-06-02  Many stories with the place,,,,, it has this u...\n",
       "1    2024-05-27  You forgot to send sugar with coffee/the rest ...\n",
       "2    2024-05-25  The filter coffee was brilliant and so were sn...\n",
       "3    2024-05-25  One of the best places to go to, for a vibe, i...\n",
       "4    2024-05-20  Enjoyed the whole experience! Special mention ...\n",
       "..          ...                                                ...\n",
       "249  2022-12-22  Amazing coffee experience at this place . Have...\n",
       "250  2022-12-11                                         fresh food\n",
       "251  2022-11-27  This rare find serves a combination of good co...\n",
       "252  2022-11-15                                     elaborate menu\n",
       "253  2022-10-25  This is a really cute place which serves good ...\n",
       "\n",
       "[219 rows x 2 columns]"
      ]
     },
     "execution_count": 17,
     "metadata": {},
     "output_type": "execute_result"
    }
   ],
   "source": [
    "df\n"
   ]
  },
  {
   "cell_type": "code",
   "execution_count": 18,
   "id": "df425137-1df2-4825-9626-0cf42e5baac5",
   "metadata": {},
   "outputs": [
    {
     "name": "stdout",
     "output_type": "stream",
     "text": [
      "Package                       Version\n",
      "----------------------------- -----------\n",
      "aiohttp                       3.9.5\n",
      "aiosignal                     1.3.1\n",
      "annotated-types               0.7.0\n",
      "anyio                         4.4.0\n",
      "asgiref                       3.8.1\n",
      "asttokens                     2.4.1\n",
      "attrs                         23.2.0\n",
      "beautifulsoup4                4.12.3\n",
      "bs4                           0.0.2\n",
      "certifi                       2024.6.2\n",
      "cffi                          1.16.0\n",
      "charset-normalizer            3.3.2\n",
      "click                         8.1.7\n",
      "colorama                      0.4.6\n",
      "comm                          0.2.2\n",
      "cryptography                  42.0.7\n",
      "debugpy                       1.8.1\n",
      "decorator                     5.1.1\n",
      "Django                        3.2.23\n",
      "django-cors-headers           4.3.1\n",
      "django-environ                0.11.2\n",
      "django-rest-passwordreset     1.4.1\n",
      "djangorestframework           3.15.1\n",
      "djangorestframework-simplejwt 5.3.1\n",
      "dnspython                     2.6.1\n",
      "email_validator               2.1.1\n",
      "executing                     2.0.1\n",
      "fastapi                       0.111.0\n",
      "fastapi-cli                   0.0.4\n",
      "filelock                      3.13.1\n",
      "frozenlist                    1.4.1\n",
      "fsspec                        2024.2.0\n",
      "gunicorn                      22.0.0\n",
      "h11                           0.14.0\n",
      "httpcore                      1.0.5\n",
      "httptools                     0.6.1\n",
      "httpx                         0.27.0\n",
      "huggingface-hub               0.23.3\n",
      "idna                          3.7\n",
      "intel-openmp                  2021.4.0\n",
      "ipykernel                     6.29.4\n",
      "ipython                       8.25.0\n",
      "jedi                          0.19.1\n",
      "Jinja2                        3.1.4\n",
      "jupyter_client                8.6.2\n",
      "jupyter_core                  5.7.2\n",
      "markdown-it-py                3.0.0\n",
      "MarkupSafe                    2.1.5\n",
      "matplotlib-inline             0.1.7\n",
      "mdurl                         0.1.2\n",
      "mkl                           2021.4.0\n",
      "mpmath                        1.3.0\n",
      "multidict                     6.0.5\n",
      "mysql-connector-python        8.4.0\n",
      "mysqlclient                   2.2.4\n",
      "nest-asyncio                  1.6.0\n",
      "networkx                      3.2.1\n",
      "numpy                         1.26.4\n",
      "openai                        0.28.0\n",
      "orjson                        3.10.3\n",
      "packaging                     24.0\n",
      "pandas                        2.2.2\n",
      "parso                         0.8.4\n",
      "pillow                        10.3.0\n",
      "pip                           23.2.1\n",
      "platformdirs                  4.2.2\n",
      "plotly                        5.22.0\n",
      "prompt_toolkit                3.0.46\n",
      "psutil                        5.9.8\n",
      "pure-eval                     0.2.2\n",
      "pycparser                     2.22\n",
      "pydantic                      2.7.2\n",
      "pydantic_core                 2.18.3\n",
      "Pygments                      2.18.0\n",
      "PyJWT                         2.8.0\n",
      "python-dateutil               2.9.0.post0\n",
      "python-dotenv                 1.0.1\n",
      "python-multipart              0.0.9\n",
      "pytz                          2024.1\n",
      "pywin32                       306\n",
      "PyYAML                        6.0.1\n",
      "pyzmq                         26.0.3\n",
      "regex                         2024.5.15\n",
      "requests                      2.32.3\n",
      "rich                          13.7.1\n",
      "safetensors                   0.4.3\n",
      "setuptools                    65.5.0\n",
      "shellingham                   1.5.4\n",
      "six                           1.16.0\n",
      "sniffio                       1.3.1\n",
      "soupsieve                     2.5\n",
      "sqlparse                      0.5.0\n",
      "stack-data                    0.6.3\n",
      "starlette                     0.37.2\n",
      "sympy                         1.12\n",
      "tbb                           2021.11.0\n",
      "tenacity                      8.3.0\n",
      "tokenizers                    0.19.1\n",
      "torch                         2.3.1+cpu\n",
      "torchaudio                    2.3.1+cpu\n",
      "torchvision                   0.18.1+cpu\n",
      "tornado                       6.4\n",
      "tqdm                          4.66.4\n",
      "traitlets                     5.14.3\n",
      "transformers                  4.41.2\n",
      "typer                         0.12.3\n",
      "typing_extensions             4.12.1\n",
      "tzdata                        2024.1\n",
      "ujson                         5.10.0\n",
      "urllib3                       2.2.1\n",
      "uvicorn                       0.30.1\n",
      "watchfiles                    0.22.0\n",
      "wcwidth                       0.2.13\n",
      "websockets                    12.0\n",
      "yarl                          1.9.4\n"
     ]
    },
    {
     "name": "stderr",
     "output_type": "stream",
     "text": [
      "\n",
      "[notice] A new release of pip is available: 23.2.1 -> 24.0\n",
      "[notice] To update, run: python.exe -m pip install --upgrade pip\n"
     ]
    }
   ],
   "source": [
    "!pip list"
   ]
  },
  {
   "cell_type": "code",
   "execution_count": 13,
   "id": "a5154aae-cb2d-48ca-855f-1ffd0e5f60ef",
   "metadata": {},
   "outputs": [
    {
     "name": "stderr",
     "output_type": "stream",
     "text": [
      "D:\\Vivek\\ettara\\Ettara-Data-Driven-Software\\ettara_env\\Lib\\site-packages\\tqdm\\auto.py:21: TqdmWarning: IProgress not found. Please update jupyter and ipywidgets. See https://ipywidgets.readthedocs.io/en/stable/user_install.html\n",
      "  from .autonotebook import tqdm as notebook_tqdm\n"
     ]
    }
   ],
   "source": [
    "from transformers import AutoTokenizer, AutoModelForSequenceClassification\n",
    "import torch"
   ]
  },
  {
   "cell_type": "code",
   "execution_count": 14,
   "id": "76ec12fe-bfb0-4a00-bbd2-aed4d2941b2a",
   "metadata": {},
   "outputs": [],
   "source": [
    "tokenizer = AutoTokenizer.from_pretrained('nlptown/bert-base-multilingual-uncased-sentiment')\n",
    "model = AutoModelForSequenceClassification.from_pretrained('nlptown/bert-base-multilingual-uncased-sentiment')"
   ]
  },
  {
   "cell_type": "code",
   "execution_count": 25,
   "id": "8040bbcd-7d04-44f6-b313-ef24cf62b6cc",
   "metadata": {},
   "outputs": [],
   "source": [
    "tokens = tokenizer.encode('It was good but couldve been better. Great', return_tensors='pt')"
   ]
  },
  {
   "cell_type": "code",
   "execution_count": 27,
   "id": "14f06c10-019c-4cbf-86b0-be6798ec8bfc",
   "metadata": {},
   "outputs": [],
   "source": [
    "result = model(tokens)"
   ]
  },
  {
   "cell_type": "code",
   "execution_count": 31,
   "id": "590c6cb4-e64c-4a5d-a253-a548f587c004",
   "metadata": {},
   "outputs": [
    {
     "data": {
      "text/plain": [
       "3"
      ]
     },
     "execution_count": 31,
     "metadata": {},
     "output_type": "execute_result"
    }
   ],
   "source": [
    "int(torch.argmax(result.logits[0]))"
   ]
  },
  {
   "cell_type": "code",
   "execution_count": 15,
   "id": "682c9857-60a4-4136-a1e8-644b6448eaad",
   "metadata": {},
   "outputs": [],
   "source": [
    "sentiment_mapping={\n",
    "    1:'very negative',\n",
    "    2:'negative',\n",
    "    3:'neutral',\n",
    "    4:'positive',\n",
    "    5:'excellent'\n",
    "}"
   ]
  },
  {
   "cell_type": "code",
   "execution_count": 33,
   "id": "a709370b-b914-4c51-b330-87090cc2d184",
   "metadata": {},
   "outputs": [
    {
     "data": {
      "text/plain": [
       "'positive'"
      ]
     },
     "execution_count": 33,
     "metadata": {},
     "output_type": "execute_result"
    }
   ],
   "source": [
    "sentiment_mapping[int(torch.argmax(result.logits[0]))+1]"
   ]
  },
  {
   "cell_type": "code",
   "execution_count": 113,
   "id": "b161a2f9-aa9f-41c6-8ac3-ff0b32219012",
   "metadata": {},
   "outputs": [],
   "source": [
    "def give_sentiment(text):\n",
    "    tokens = tokenizer.encode(text, return_tensors='pt')\n",
    "    result=model(tokens)\n",
    "    value=int(torch.argmax(result.logits[0]))+1\n",
    "    return {'sentiment':sentiment_mapping[value],'value':value,'status':True}"
   ]
  },
  {
   "cell_type": "code",
   "execution_count": 17,
   "id": "96402c41-aff4-4161-964e-236a2a5814ec",
   "metadata": {},
   "outputs": [
    {
     "data": {
      "text/plain": [
       "{'sentiment': 'excellent', 'score': 142.55, 'status': True}"
      ]
     },
     "execution_count": 17,
     "metadata": {},
     "output_type": "execute_result"
    }
   ],
   "source": [
    "give_sentiment(\"that was really really good ... best one\")"
   ]
  },
  {
   "cell_type": "code",
   "execution_count": 18,
   "id": "64765072-2ed3-4b04-8745-1d1ad29ba91a",
   "metadata": {},
   "outputs": [],
   "source": [
    "sentiments_of_reviews=[]\n",
    "scores=[]"
   ]
  },
  {
   "cell_type": "code",
   "execution_count": 19,
   "id": "4f1b73a4-917f-46ca-b9ae-dcd7637a1ede",
   "metadata": {},
   "outputs": [],
   "source": [
    "for rev in df.review:\n",
    "    response=give_sentiment(rev)\n",
    "    if response['status']:\n",
    "        sentiments_of_reviews.append(response['sentiment'])\n",
    "        scores.append(response['score'])"
   ]
  },
  {
   "cell_type": "code",
   "execution_count": 20,
   "id": "32899120-6e43-4d44-afd6-329b6381d623",
   "metadata": {},
   "outputs": [],
   "source": [
    "df['sentiment']=sentiments_of_reviews\n",
    "df['score']=scores"
   ]
  },
  {
   "cell_type": "code",
   "execution_count": 45,
   "id": "0811ee29-c23d-4e17-935b-b071b325dd3c",
   "metadata": {},
   "outputs": [],
   "source": [
    "import seaborn as sns"
   ]
  },
  {
   "cell_type": "code",
   "execution_count": 48,
   "id": "2ce20414-4ec4-4934-86a5-283329009915",
   "metadata": {},
   "outputs": [],
   "source": [
    "import matplotlib.pyplot as plt"
   ]
  },
  {
   "cell_type": "code",
   "execution_count": 50,
   "id": "600c8f11-e71f-47af-8f31-395fe7425cc7",
   "metadata": {},
   "outputs": [
    {
     "data": {
      "image/png": "[encoded data removed]",
      "text/plain": [
       "<Figure size 640x480 with 1 Axes>"
      ]
     },
     "metadata": {},
     "output_type": "display_data"
    }
   ],
   "source": [
    "sns.countplot(x=df.sentiment)\n",
    "plt.title('Sentiment Count - Zomato reviews')\n",
    "plt.savefig(\"ettara_count_plot.png\")"
   ]
  },
  {
   "cell_type": "code",
   "execution_count": 21,
   "id": "f7cff489-b23c-4683-8b75-84ac8d419248",
   "metadata": {},
   "outputs": [
    {
     "data": {
      "text/html": [
       "<div>\n",
       "<style scoped>\n",
       "    .dataframe tbody tr th:only-of-type {\n",
       "        vertical-align: middle;\n",
       "    }\n",
       "\n",
       "    .dataframe tbody tr th {\n",
       "        vertical-align: top;\n",
       "    }\n",
       "\n",
       "    .dataframe thead th {\n",
       "        text-align: right;\n",
       "    }\n",
       "</style>\n",
       "<table border=\"1\" class=\"dataframe\">\n",
       "  <thead>\n",
       "    <tr style=\"text-align: right;\">\n",
       "      <th></th>\n",
       "      <th>date</th>\n",
       "      <th>review</th>\n",
       "      <th>sentiment</th>\n",
       "      <th>score</th>\n",
       "    </tr>\n",
       "  </thead>\n",
       "  <tbody>\n",
       "    <tr>\n",
       "      <th>0</th>\n",
       "      <td>2024-06-02</td>\n",
       "      <td>Many stories with the place,,,,, it has this u...</td>\n",
       "      <td>excellent</td>\n",
       "      <td>249.18</td>\n",
       "    </tr>\n",
       "    <tr>\n",
       "      <th>1</th>\n",
       "      <td>2024-05-27</td>\n",
       "      <td>You forgot to send sugar with coffee/the rest ...</td>\n",
       "      <td>positive</td>\n",
       "      <td>109.50</td>\n",
       "    </tr>\n",
       "    <tr>\n",
       "      <th>2</th>\n",
       "      <td>2024-05-25</td>\n",
       "      <td>The filter coffee was brilliant and so were sn...</td>\n",
       "      <td>positive</td>\n",
       "      <td>75.96</td>\n",
       "    </tr>\n",
       "    <tr>\n",
       "      <th>3</th>\n",
       "      <td>2024-05-25</td>\n",
       "      <td>One of the best places to go to, for a vibe, i...</td>\n",
       "      <td>excellent</td>\n",
       "      <td>372.22</td>\n",
       "    </tr>\n",
       "    <tr>\n",
       "      <th>4</th>\n",
       "      <td>2024-05-20</td>\n",
       "      <td>Enjoyed the whole experience! Special mention ...</td>\n",
       "      <td>positive</td>\n",
       "      <td>257.73</td>\n",
       "    </tr>\n",
       "    <tr>\n",
       "      <th>...</th>\n",
       "      <td>...</td>\n",
       "      <td>...</td>\n",
       "      <td>...</td>\n",
       "      <td>...</td>\n",
       "    </tr>\n",
       "    <tr>\n",
       "      <th>249</th>\n",
       "      <td>2022-12-22</td>\n",
       "      <td>Amazing coffee experience at this place . Have...</td>\n",
       "      <td>excellent</td>\n",
       "      <td>393.92</td>\n",
       "    </tr>\n",
       "    <tr>\n",
       "      <th>250</th>\n",
       "      <td>2022-12-11</td>\n",
       "      <td>fresh food</td>\n",
       "      <td>excellent</td>\n",
       "      <td>125.83</td>\n",
       "    </tr>\n",
       "    <tr>\n",
       "      <th>251</th>\n",
       "      <td>2022-11-27</td>\n",
       "      <td>This rare find serves a combination of good co...</td>\n",
       "      <td>excellent</td>\n",
       "      <td>383.11</td>\n",
       "    </tr>\n",
       "    <tr>\n",
       "      <th>252</th>\n",
       "      <td>2022-11-15</td>\n",
       "      <td>elaborate menu</td>\n",
       "      <td>positive</td>\n",
       "      <td>124.05</td>\n",
       "    </tr>\n",
       "    <tr>\n",
       "      <th>253</th>\n",
       "      <td>2022-10-25</td>\n",
       "      <td>This is a really cute place which serves good ...</td>\n",
       "      <td>excellent</td>\n",
       "      <td>392.03</td>\n",
       "    </tr>\n",
       "  </tbody>\n",
       "</table>\n",
       "<p>219 rows × 4 columns</p>\n",
       "</div>"
      ],
      "text/plain": [
       "           date                                             review  sentiment  \\\n",
       "0    2024-06-02  Many stories with the place,,,,, it has this u...  excellent   \n",
       "1    2024-05-27  You forgot to send sugar with coffee/the rest ...   positive   \n",
       "2    2024-05-25  The filter coffee was brilliant and so were sn...   positive   \n",
       "3    2024-05-25  One of the best places to go to, for a vibe, i...  excellent   \n",
       "4    2024-05-20  Enjoyed the whole experience! Special mention ...   positive   \n",
       "..          ...                                                ...        ...   \n",
       "249  2022-12-22  Amazing coffee experience at this place . Have...  excellent   \n",
       "250  2022-12-11                                         fresh food  excellent   \n",
       "251  2022-11-27  This rare find serves a combination of good co...  excellent   \n",
       "252  2022-11-15                                     elaborate menu   positive   \n",
       "253  2022-10-25  This is a really cute place which serves good ...  excellent   \n",
       "\n",
       "      score  \n",
       "0    249.18  \n",
       "1    109.50  \n",
       "2     75.96  \n",
       "3    372.22  \n",
       "4    257.73  \n",
       "..      ...  \n",
       "249  393.92  \n",
       "250  125.83  \n",
       "251  383.11  \n",
       "252  124.05  \n",
       "253  392.03  \n",
       "\n",
       "[219 rows x 4 columns]"
      ]
     },
     "execution_count": 21,
     "metadata": {},
     "output_type": "execute_result"
    }
   ],
   "source": [
    "df"
   ]
  },
  {
   "cell_type": "code",
   "execution_count": 22,
   "id": "28dc2854-6bea-48a4-9ab0-11520d01c89a",
   "metadata": {},
   "outputs": [],
   "source": [
    "df.to_csv(\"final.csv\",index=False)"
   ]
  },
  {
   "cell_type": "code",
   "execution_count": 23,
   "id": "d6a275c9-9dae-4445-8765-93fa64c6e3f7",
   "metadata": {},
   "outputs": [],
   "source": [
    "def update_sentiment_df(x):\n",
    "    inverse_sentiment_map={v:k for k,v in sentiment_mapping.items()}\n",
    "    return inverse_sentiment_map[x]"
   ]
  },
  {
   "cell_type": "code",
   "execution_count": 25,
   "id": "75135c9d-895f-49c4-95c4-38c98ff57059",
   "metadata": {},
   "outputs": [],
   "source": [
    "df['value']=df.sentiment.apply(update_sentiment_df)"
   ]
  },
  {
   "cell_type": "code",
   "execution_count": 80,
   "id": "27664eb6-f5c3-481e-8219-20d9060ac33a",
   "metadata": {},
   "outputs": [
    {
     "data": {
      "text/html": [
       "<div>\n",
       "<style scoped>\n",
       "    .dataframe tbody tr th:only-of-type {\n",
       "        vertical-align: middle;\n",
       "    }\n",
       "\n",
       "    .dataframe tbody tr th {\n",
       "        vertical-align: top;\n",
       "    }\n",
       "\n",
       "    .dataframe thead th {\n",
       "        text-align: right;\n",
       "    }\n",
       "</style>\n",
       "<table border=\"1\" class=\"dataframe\">\n",
       "  <thead>\n",
       "    <tr style=\"text-align: right;\">\n",
       "      <th></th>\n",
       "      <th>date</th>\n",
       "      <th>review</th>\n",
       "      <th>sentiment</th>\n",
       "      <th>score</th>\n",
       "      <th>value</th>\n",
       "    </tr>\n",
       "  </thead>\n",
       "  <tbody>\n",
       "    <tr>\n",
       "      <th>0</th>\n",
       "      <td>2024-06-02</td>\n",
       "      <td>Many stories with the place,,,,, it has this u...</td>\n",
       "      <td>excellent</td>\n",
       "      <td>249.18</td>\n",
       "      <td>5</td>\n",
       "    </tr>\n",
       "    <tr>\n",
       "      <th>1</th>\n",
       "      <td>2024-05-27</td>\n",
       "      <td>You forgot to send sugar with coffee/the rest ...</td>\n",
       "      <td>positive</td>\n",
       "      <td>109.50</td>\n",
       "      <td>4</td>\n",
       "    </tr>\n",
       "    <tr>\n",
       "      <th>2</th>\n",
       "      <td>2024-05-25</td>\n",
       "      <td>The filter coffee was brilliant and so were sn...</td>\n",
       "      <td>positive</td>\n",
       "      <td>75.96</td>\n",
       "      <td>4</td>\n",
       "    </tr>\n",
       "    <tr>\n",
       "      <th>3</th>\n",
       "      <td>2024-05-25</td>\n",
       "      <td>One of the best places to go to, for a vibe, i...</td>\n",
       "      <td>excellent</td>\n",
       "      <td>372.22</td>\n",
       "      <td>5</td>\n",
       "    </tr>\n",
       "    <tr>\n",
       "      <th>4</th>\n",
       "      <td>2024-05-20</td>\n",
       "      <td>Enjoyed the whole experience! Special mention ...</td>\n",
       "      <td>positive</td>\n",
       "      <td>257.73</td>\n",
       "      <td>4</td>\n",
       "    </tr>\n",
       "    <tr>\n",
       "      <th>...</th>\n",
       "      <td>...</td>\n",
       "      <td>...</td>\n",
       "      <td>...</td>\n",
       "      <td>...</td>\n",
       "      <td>...</td>\n",
       "    </tr>\n",
       "    <tr>\n",
       "      <th>249</th>\n",
       "      <td>2022-12-22</td>\n",
       "      <td>Amazing coffee experience at this place . Have...</td>\n",
       "      <td>excellent</td>\n",
       "      <td>393.92</td>\n",
       "      <td>5</td>\n",
       "    </tr>\n",
       "    <tr>\n",
       "      <th>250</th>\n",
       "      <td>2022-12-11</td>\n",
       "      <td>fresh food</td>\n",
       "      <td>excellent</td>\n",
       "      <td>125.83</td>\n",
       "      <td>5</td>\n",
       "    </tr>\n",
       "    <tr>\n",
       "      <th>251</th>\n",
       "      <td>2022-11-27</td>\n",
       "      <td>This rare find serves a combination of good co...</td>\n",
       "      <td>excellent</td>\n",
       "      <td>383.11</td>\n",
       "      <td>5</td>\n",
       "    </tr>\n",
       "    <tr>\n",
       "      <th>252</th>\n",
       "      <td>2022-11-15</td>\n",
       "      <td>elaborate menu</td>\n",
       "      <td>positive</td>\n",
       "      <td>124.05</td>\n",
       "      <td>4</td>\n",
       "    </tr>\n",
       "    <tr>\n",
       "      <th>253</th>\n",
       "      <td>2022-10-25</td>\n",
       "      <td>This is a really cute place which serves good ...</td>\n",
       "      <td>excellent</td>\n",
       "      <td>392.03</td>\n",
       "      <td>5</td>\n",
       "    </tr>\n",
       "  </tbody>\n",
       "</table>\n",
       "<p>219 rows × 5 columns</p>\n",
       "</div>"
      ],
      "text/plain": [
       "           date                                             review  sentiment  \\\n",
       "0    2024-06-02  Many stories with the place,,,,, it has this u...  excellent   \n",
       "1    2024-05-27  You forgot to send sugar with coffee/the rest ...   positive   \n",
       "2    2024-05-25  The filter coffee was brilliant and so were sn...   positive   \n",
       "3    2024-05-25  One of the best places to go to, for a vibe, i...  excellent   \n",
       "4    2024-05-20  Enjoyed the whole experience! Special mention ...   positive   \n",
       "..          ...                                                ...        ...   \n",
       "249  2022-12-22  Amazing coffee experience at this place . Have...  excellent   \n",
       "250  2022-12-11                                         fresh food  excellent   \n",
       "251  2022-11-27  This rare find serves a combination of good co...  excellent   \n",
       "252  2022-11-15                                     elaborate menu   positive   \n",
       "253  2022-10-25  This is a really cute place which serves good ...  excellent   \n",
       "\n",
       "      score  value  \n",
       "0    249.18      5  \n",
       "1    109.50      4  \n",
       "2     75.96      4  \n",
       "3    372.22      5  \n",
       "4    257.73      4  \n",
       "..      ...    ...  \n",
       "249  393.92      5  \n",
       "250  125.83      5  \n",
       "251  383.11      5  \n",
       "252  124.05      4  \n",
       "253  392.03      5  \n",
       "\n",
       "[219 rows x 5 columns]"
      ]
     },
     "execution_count": 80,
     "metadata": {},
     "output_type": "execute_result"
    }
   ],
   "source": [
    "df\n"
   ]
  },
  {
   "cell_type": "code",
   "execution_count": 27,
   "id": "725929ea-b17f-4e07-b3a3-263f8b8f4c0a",
   "metadata": {},
   "outputs": [],
   "source": [
    "import mysql.connector as mysql"
   ]
  },
  {
   "cell_type": "code",
   "execution_count": 28,
   "id": "8877d337-b341-4a27-a979-ff72334f8797",
   "metadata": {},
   "outputs": [],
   "source": [
    "def connect():\n",
    "    conn=mysql.connect(\n",
    "        host='myfirstrds.c5eeiea4ujq1.ap-south-1.rds.amazonaws.com',\n",
    "        user='admin',\n",
    "        password='admin1234',\n",
    "        database='ettara_sentiments_db'\n",
    "    )\n",
    "    cursor=conn.cursor()\n",
    "    return conn,cursor"
   ]
  },
  {
   "cell_type": "code",
   "execution_count": 101,
   "id": "08a74176-969b-45f2-9716-316aa153df4e",
   "metadata": {},
   "outputs": [],
   "source": [
    "conn,cursor=connect()"
   ]
  },
  {
   "cell_type": "code",
   "execution_count": 79,
   "id": "c071669e-0fdb-4738-b983-f200665af0bf",
   "metadata": {},
   "outputs": [
    {
     "data": {
      "text/plain": [
       "253"
      ]
     },
     "execution_count": 79,
     "metadata": {},
     "output_type": "execute_result"
    }
   ],
   "source": [
    "row.Index"
   ]
  },
  {
   "cell_type": "code",
   "execution_count": 96,
   "id": "58fa131d-e969-477e-a93e-7eef751dd944",
   "metadata": {},
   "outputs": [],
   "source": [
    "df1=df.sort_values('date',ignore_index=True)"
   ]
  },
  {
   "cell_type": "code",
   "execution_count": 116,
   "id": "849f11c8-1f9e-43ba-889e-52553ce70e55",
   "metadata": {},
   "outputs": [
    {
     "data": {
      "text/html": [
       "<div>\n",
       "<style scoped>\n",
       "    .dataframe tbody tr th:only-of-type {\n",
       "        vertical-align: middle;\n",
       "    }\n",
       "\n",
       "    .dataframe tbody tr th {\n",
       "        vertical-align: top;\n",
       "    }\n",
       "\n",
       "    .dataframe thead th {\n",
       "        text-align: right;\n",
       "    }\n",
       "</style>\n",
       "<table border=\"1\" class=\"dataframe\">\n",
       "  <thead>\n",
       "    <tr style=\"text-align: right;\">\n",
       "      <th></th>\n",
       "      <th>date</th>\n",
       "      <th>review</th>\n",
       "      <th>sentiment</th>\n",
       "      <th>score</th>\n",
       "      <th>value</th>\n",
       "    </tr>\n",
       "  </thead>\n",
       "  <tbody>\n",
       "    <tr>\n",
       "      <th>0</th>\n",
       "      <td>2022-10-25</td>\n",
       "      <td>This is a really cute place which serves good ...</td>\n",
       "      <td>excellent</td>\n",
       "      <td>392.03</td>\n",
       "      <td>5</td>\n",
       "    </tr>\n",
       "    <tr>\n",
       "      <th>1</th>\n",
       "      <td>2022-11-15</td>\n",
       "      <td>elaborate menu</td>\n",
       "      <td>positive</td>\n",
       "      <td>124.05</td>\n",
       "      <td>4</td>\n",
       "    </tr>\n",
       "    <tr>\n",
       "      <th>2</th>\n",
       "      <td>2022-11-27</td>\n",
       "      <td>This rare find serves a combination of good co...</td>\n",
       "      <td>excellent</td>\n",
       "      <td>383.11</td>\n",
       "      <td>5</td>\n",
       "    </tr>\n",
       "    <tr>\n",
       "      <th>3</th>\n",
       "      <td>2022-12-11</td>\n",
       "      <td>fresh food</td>\n",
       "      <td>excellent</td>\n",
       "      <td>125.83</td>\n",
       "      <td>5</td>\n",
       "    </tr>\n",
       "    <tr>\n",
       "      <th>4</th>\n",
       "      <td>2022-12-22</td>\n",
       "      <td>Amazing coffee experience at this place . Have...</td>\n",
       "      <td>excellent</td>\n",
       "      <td>393.92</td>\n",
       "      <td>5</td>\n",
       "    </tr>\n",
       "    <tr>\n",
       "      <th>...</th>\n",
       "      <td>...</td>\n",
       "      <td>...</td>\n",
       "      <td>...</td>\n",
       "      <td>...</td>\n",
       "      <td>...</td>\n",
       "    </tr>\n",
       "    <tr>\n",
       "      <th>214</th>\n",
       "      <td>2024-05-20</td>\n",
       "      <td>Enjoyed the whole experience! Special mention ...</td>\n",
       "      <td>positive</td>\n",
       "      <td>257.73</td>\n",
       "      <td>4</td>\n",
       "    </tr>\n",
       "    <tr>\n",
       "      <th>215</th>\n",
       "      <td>2024-05-25</td>\n",
       "      <td>One of the best places to go to, for a vibe, i...</td>\n",
       "      <td>excellent</td>\n",
       "      <td>372.22</td>\n",
       "      <td>5</td>\n",
       "    </tr>\n",
       "    <tr>\n",
       "      <th>216</th>\n",
       "      <td>2024-05-25</td>\n",
       "      <td>The filter coffee was brilliant and so were sn...</td>\n",
       "      <td>positive</td>\n",
       "      <td>75.96</td>\n",
       "      <td>4</td>\n",
       "    </tr>\n",
       "    <tr>\n",
       "      <th>217</th>\n",
       "      <td>2024-05-27</td>\n",
       "      <td>You forgot to send sugar with coffee/the rest ...</td>\n",
       "      <td>positive</td>\n",
       "      <td>109.50</td>\n",
       "      <td>4</td>\n",
       "    </tr>\n",
       "    <tr>\n",
       "      <th>218</th>\n",
       "      <td>2024-06-02</td>\n",
       "      <td>Many stories with the place,,,,, it has this u...</td>\n",
       "      <td>excellent</td>\n",
       "      <td>249.18</td>\n",
       "      <td>5</td>\n",
       "    </tr>\n",
       "  </tbody>\n",
       "</table>\n",
       "<p>219 rows × 5 columns</p>\n",
       "</div>"
      ],
      "text/plain": [
       "           date                                             review  sentiment  \\\n",
       "0    2022-10-25  This is a really cute place which serves good ...  excellent   \n",
       "1    2022-11-15                                     elaborate menu   positive   \n",
       "2    2022-11-27  This rare find serves a combination of good co...  excellent   \n",
       "3    2022-12-11                                         fresh food  excellent   \n",
       "4    2022-12-22  Amazing coffee experience at this place . Have...  excellent   \n",
       "..          ...                                                ...        ...   \n",
       "214  2024-05-20  Enjoyed the whole experience! Special mention ...   positive   \n",
       "215  2024-05-25  One of the best places to go to, for a vibe, i...  excellent   \n",
       "216  2024-05-25  The filter coffee was brilliant and so were sn...   positive   \n",
       "217  2024-05-27  You forgot to send sugar with coffee/the rest ...   positive   \n",
       "218  2024-06-02  Many stories with the place,,,,, it has this u...  excellent   \n",
       "\n",
       "      score  value  \n",
       "0    392.03      5  \n",
       "1    124.05      4  \n",
       "2    383.11      5  \n",
       "3    125.83      5  \n",
       "4    393.92      5  \n",
       "..      ...    ...  \n",
       "214  257.73      4  \n",
       "215  372.22      5  \n",
       "216   75.96      4  \n",
       "217  109.50      4  \n",
       "218  249.18      5  \n",
       "\n",
       "[219 rows x 5 columns]"
      ]
     },
     "execution_count": 116,
     "metadata": {},
     "output_type": "execute_result"
    }
   ],
   "source": [
    "df1"
   ]
  },
  {
   "cell_type": "code",
   "execution_count": 117,
   "id": "71179196-983b-4711-bb5e-8fdb807b4ff6",
   "metadata": {},
   "outputs": [
    {
     "name": "stdout",
     "output_type": "stream",
     "text": [
      "2022-10-25\n",
      "2022-11-15\n",
      "2022-11-27\n",
      "2022-12-11\n",
      "2022-12-22\n",
      "2023-01-01\n",
      "2023-01-26\n",
      "2023-02-05\n",
      "2023-02-18\n",
      "2023-02-25\n",
      "2023-02-25\n",
      "2023-02-26\n",
      "2023-02-27\n",
      "2023-03-02\n",
      "2023-03-04\n",
      "2023-03-06\n",
      "2023-03-06\n",
      "2023-03-08\n",
      "2023-03-11\n",
      "2023-03-12\n",
      "2023-03-12\n",
      "2023-03-17\n",
      "2023-03-17\n",
      "2023-03-18\n",
      "2023-03-19\n",
      "2023-03-19\n",
      "2023-03-22\n",
      "2023-03-24\n",
      "2023-03-24\n",
      "2023-03-24\n",
      "2023-03-24\n",
      "2023-03-26\n",
      "2023-03-26\n",
      "2023-03-30\n",
      "2023-04-02\n",
      "2023-04-06\n",
      "2023-04-09\n",
      "2023-04-10\n",
      "2023-04-11\n",
      "2023-04-11\n",
      "2023-04-13\n",
      "2023-04-15\n",
      "2023-04-15\n",
      "2023-04-15\n",
      "2023-04-16\n",
      "2023-04-16\n",
      "2023-04-16\n",
      "2023-04-19\n",
      "2023-04-23\n",
      "2023-04-24\n",
      "2023-05-01\n",
      "2023-05-05\n",
      "2023-05-06\n",
      "2023-05-08\n",
      "2023-05-14\n",
      "2023-05-17\n",
      "2023-05-18\n",
      "2023-05-18\n",
      "2023-05-21\n",
      "2023-05-24\n",
      "2023-05-30\n",
      "2023-06-04\n",
      "2023-06-10\n",
      "2023-06-10\n",
      "2023-06-11\n",
      "2023-07-06\n",
      "2023-07-06\n",
      "2023-07-06\n",
      "2023-07-06\n",
      "2023-07-06\n",
      "2023-07-06\n",
      "2023-07-06\n",
      "2023-07-06\n",
      "2023-07-06\n",
      "2023-07-06\n",
      "2023-07-06\n",
      "2023-07-06\n",
      "2023-07-06\n",
      "2023-07-06\n",
      "2023-07-06\n",
      "2023-07-06\n",
      "2023-07-06\n",
      "2023-07-06\n",
      "2023-07-06\n",
      "2023-07-06\n",
      "2023-07-06\n",
      "2023-07-06\n",
      "2023-08-06\n",
      "2023-08-06\n",
      "2023-08-06\n",
      "2023-08-06\n",
      "2023-08-06\n",
      "2023-08-06\n",
      "2023-08-06\n",
      "2023-08-06\n",
      "2023-08-06\n",
      "2023-09-06\n",
      "2023-09-06\n",
      "2023-09-06\n",
      "2023-09-06\n",
      "2023-09-06\n",
      "2023-09-06\n",
      "2023-09-06\n",
      "2023-09-06\n",
      "2023-09-06\n",
      "2023-09-06\n",
      "2023-09-06\n",
      "2023-09-06\n",
      "2023-09-06\n",
      "2023-09-06\n",
      "2023-09-06\n",
      "2023-09-06\n",
      "2023-09-06\n",
      "2023-09-06\n",
      "2023-09-06\n",
      "2023-09-06\n",
      "2023-10-06\n",
      "2023-10-06\n",
      "2023-10-06\n",
      "2023-10-06\n",
      "2023-10-06\n",
      "2023-10-06\n",
      "2023-10-06\n",
      "2023-10-06\n",
      "2023-10-06\n",
      "2023-11-06\n",
      "2023-11-06\n",
      "2023-11-06\n",
      "2023-11-06\n",
      "2023-11-06\n",
      "2023-11-06\n",
      "2023-11-06\n",
      "2023-11-06\n",
      "2023-12-06\n",
      "2023-12-06\n",
      "2023-12-06\n",
      "2023-12-06\n",
      "2023-12-06\n",
      "2023-12-06\n",
      "2023-12-06\n",
      "2023-12-06\n",
      "2023-12-06\n",
      "2023-12-06\n",
      "2023-12-06\n",
      "2023-12-06\n",
      "2023-12-06\n",
      "2023-12-06\n",
      "2023-12-06\n",
      "2023-12-06\n",
      "2024-01-06\n",
      "2024-01-06\n",
      "2024-01-06\n",
      "2024-01-06\n",
      "2024-01-06\n",
      "2024-01-06\n",
      "2024-01-06\n",
      "2024-01-06\n",
      "2024-01-06\n",
      "2024-01-06\n",
      "2024-01-06\n",
      "2024-01-06\n",
      "2024-02-06\n",
      "2024-02-06\n",
      "2024-02-06\n",
      "2024-02-06\n",
      "2024-02-06\n",
      "2024-02-06\n",
      "2024-02-06\n",
      "2024-02-06\n",
      "2024-02-06\n",
      "2024-02-06\n",
      "2024-02-06\n",
      "2024-03-06\n",
      "2024-03-06\n",
      "2024-03-06\n",
      "2024-03-06\n",
      "2024-03-06\n",
      "2024-03-06\n",
      "2024-03-06\n",
      "2024-03-06\n",
      "2024-03-06\n",
      "2024-03-06\n",
      "2024-03-06\n",
      "2024-03-06\n",
      "2024-03-06\n",
      "2024-03-06\n",
      "2024-03-06\n",
      "2024-03-06\n",
      "2024-03-06\n",
      "2024-03-06\n",
      "2024-04-06\n",
      "2024-04-06\n",
      "2024-04-06\n",
      "2024-04-06\n",
      "2024-04-06\n",
      "2024-04-06\n",
      "2024-04-06\n",
      "2024-04-06\n",
      "2024-04-06\n",
      "2024-04-06\n",
      "2024-04-06\n",
      "2024-05-06\n",
      "2024-05-06\n",
      "2024-05-06\n",
      "2024-05-06\n",
      "2024-05-06\n",
      "2024-05-06\n",
      "2024-05-06\n",
      "2024-05-06\n",
      "2024-05-11\n",
      "2024-05-11\n",
      "2024-05-12\n",
      "2024-05-17\n",
      "2024-05-18\n",
      "2024-05-20\n",
      "2024-05-25\n",
      "2024-05-25\n",
      "2024-05-27\n",
      "2024-06-02\n"
     ]
    }
   ],
   "source": [
    "\n",
    "for row in df1.itertuples():\n",
    "    # try:\n",
    "    print(row.date)\n",
    "    query = '''\n",
    "        INSERT INTO sentiment_analysis (review, date, sentiment, value,id)\n",
    "        VALUES (%s, %s, %s, %s,%s)\n",
    "    '''\n",
    "    \n",
    "    # Assuming `row` is a dictionary-like object containing the values\n",
    "    values = (row.review,row.date,row.sentiment,row.value,row.Index)\n",
    "    \n",
    "    cursor.execute(query, values)\n",
    "    conn.commit()\n",
    "    # except:\n",
    "    #     print(row)"
   ]
  },
  {
   "cell_type": "code",
   "execution_count": 91,
   "id": "b2337a7f-23e5-4d9d-b452-77df511694a9",
   "metadata": {},
   "outputs": [],
   "source": [
    "cursor.close()\n",
    "conn.close()"
   ]
  },
  {
   "cell_type": "code",
   "execution_count": 108,
   "id": "1c510bf1-6d19-4db1-a3e8-621167e783f5",
   "metadata": {},
   "outputs": [],
   "source": [
    "cursor.execute(\n",
    "    \"select review,id from sentiment_analysis where id=(select max(id) from sentiment_analysis);\"\n",
    ")"
   ]
  },
  {
   "cell_type": "code",
   "execution_count": 109,
   "id": "2989298e-6bf4-4456-a644-d3cbfef1ff47",
   "metadata": {},
   "outputs": [],
   "source": [
    "latest_review=cursor.fetchone()"
   ]
  },
  {
   "cell_type": "code",
   "execution_count": 112,
   "id": "9d066097-6ef2-4aab-acb4-42c85713c2cf",
   "metadata": {},
   "outputs": [],
   "source": [
    "latest_id=latest_review[1]"
   ]
  },
  {
   "cell_type": "code",
   "execution_count": null,
   "id": "d56213d5-35d9-4acd-8341-cb9edb48e20e",
   "metadata": {},
   "outputs": [],
   "source": []
  },
  {
   "cell_type": "code",
   "execution_count": 106,
   "id": "63c677ec-6980-4b89-865f-d81dd318624e",
   "metadata": {},
   "outputs": [],
   "source": [
    "reviews=[]\n",
    "for number,result in enumerate(results):\n",
    "    if 'time-stamp' in str(result):\n",
    "        payload={\n",
    "            'date':result.text,\n",
    "            'review':results[number+1].text\n",
    "        }\n",
    "        reviews.append(payload)"
   ]
  },
  {
   "cell_type": "code",
   "execution_count": 107,
   "id": "e84382b8-f148-48e3-8a3b-6b2815eb7c95",
   "metadata": {},
   "outputs": [
    {
     "data": {
      "text/plain": [
       "[{'date': '5 days ago',\n",
       "  'review': 'Many stories with the place,,,,, it has this unexplained vibe which attracts me everytime and to be specific, I have got all my special friends to visit her'},\n",
       " {'date': '10 days ago',\n",
       "  'review': 'You forgot to send sugar with coffee/the rest of your coffee is good'},\n",
       " {'date': '12 days ago',\n",
       "  'review': 'The filter coffee was brilliant and so were snacks. We had the drizzled paparoti and Nutella Berliner which were lip smacking good. They serve complimentary banana chips which were one of the best I have had in a while. Asif Sheikh- our server was very courteous.'},\n",
       " {'date': '13 days ago',\n",
       "  'review': 'One of the best places to go to, for a vibe, indie music, and some of the most amazing coffees. If you do come here do try the tarts.'},\n",
       " {'date': '17 days ago',\n",
       "  'review': 'Enjoyed the whole experience! Special mention to Asif for catering us'}]"
      ]
     },
     "execution_count": 107,
     "metadata": {},
     "output_type": "execute_result"
    }
   ],
   "source": [
    "reviews"
   ]
  },
  {
   "cell_type": "code",
   "execution_count": 73,
   "id": "314637c0-ec7d-42ac-a0e8-38154d76732f",
   "metadata": {},
   "outputs": [],
   "source": [
    "def give_date(col):\n",
    "    if 'days' in col or 'day' in col:\n",
    "        day=col.split()[0]\n",
    "        if day==\"one\" or day==\"One\":\n",
    "            day=1\n",
    "        else:\n",
    "            day=int(day)\n",
    "            \n",
    "        d = datetime.today() - timedelta(days=day)\n",
    "        return d.strftime(\"%Y-%m-%d\")\n",
    "    # elif 'month' in col or 'months' in col:\n",
    "    #     month=col.split()[0]\n",
    "        \n",
    "    #     if month=='one':\n",
    "    #         month=1\n",
    "    #     else:\n",
    "    #         month=int(month)\n",
    "            \n",
    "    #     d = datetime.today() - relativedelta.relativedelta(months=month)\n",
    "    #     date_values.append(d.strftime(\"%Y-%m-%d\")\n",
    "    # else:\n",
    "    #     date_str = col\n",
    "    #     d = datetime.strptime(date_str, \"%b %d, %Y\")\n",
    "    #     date_values.append(d.strftime(\"%Y-%m-%d\"))"
   ]
  },
  {
   "cell_type": "code",
   "execution_count": 74,
   "id": "077e0022-ceef-4b5f-ae20-cb33fdaabccf",
   "metadata": {},
   "outputs": [
    {
     "data": {
      "text/plain": [
       "'2024-06-05'"
      ]
     },
     "execution_count": 74,
     "metadata": {},
     "output_type": "execute_result"
    }
   ],
   "source": [
    "give_date(\"one day ago\")"
   ]
  },
  {
   "cell_type": "code",
   "execution_count": 119,
   "id": "ffe007cc-2bb8-4606-88fc-8f5b83073515",
   "metadata": {},
   "outputs": [],
   "source": [
    "for review in reviews:\n",
    "    if review['review']==latest_review[0]:\n",
    "        break\n",
    "    else:\n",
    "        review_date=give_date(review['date'])\n",
    "        text=review['review']\n",
    "        print(\"came\")\n",
    "        data=give_sentiment(text)\n",
    "        latest_id+=1\n",
    "        \n",
    "        query = '''\n",
    "        INSERT INTO sentiment_analysis (review, date, sentiment, value,id)\n",
    "        VALUES (%s, %s, %s, %s,%s)\n",
    "        '''\n",
    "        \n",
    "        values = (text,review_date,data['sentiment'],data['value'],latest_id)\n",
    "        cursor.execute(query, values)\n",
    "        conn.commit()"
   ]
  },
  {
   "cell_type": "code",
   "execution_count": null,
   "id": "bbf64364-6b77-4964-aac8-0ce33b350e6c",
   "metadata": {},
   "outputs": [],
   "source": [
    "def store_reviews():\n",
    "    zomato_link=\"https://www.zomato.com/mumbai/ettarra-1-juhu/reviews\"\n",
    "    headers = {\n",
    "    'User-Agent': 'Mozilla/5.0 (X11; Linux x86_64) AppleWebKit/537.36 (KHTML, like Gecko) Chrome/110.0.0.0 Safari/537.36'\n",
    "    }\n",
    "    r = requests.get(zomato_link, headers=headers)\n",
    "    if r.status_code == 200:\n",
    "        \n",
    "        soup=BeautifulSoup(r.text,'html.parser')\n",
    "        results=soup.select('p[class*=\"sc-1hez2tp-0\"]')\n",
    "        reviews=[]\n",
    "        for number,result in enumerate(results):\n",
    "            if 'time-stamp' in str(result):\n",
    "                payload={\n",
    "                    'date':result.text,\n",
    "                    'review':results[number+1].text\n",
    "                }\n",
    "                reviews.append(payload)\n",
    "        "
   ]
  }
 ],
 "metadata": {
  "kernelspec": {
   "display_name": "ettara_env",
   "language": "python",
   "name": "ettara_env"
  },
  "language_info": {
   "codemirror_mode": {
    "name": "ipython",
    "version": 3
   },
   "file_extension": ".py",
   "mimetype": "text/x-python",
   "name": "python",
   "nbconvert_exporter": "python",
   "pygments_lexer": "ipython3",
   "version": "3.11.5"
  }
 },
 "nbformat": 4,
 "nbformat_minor": 5
}
