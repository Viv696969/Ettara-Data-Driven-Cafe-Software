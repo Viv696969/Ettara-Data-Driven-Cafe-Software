{
 "cells": [
  {
   "cell_type": "code",
   "execution_count": null,
   "id": "5d45c80f-d49c-4375-bd8c-edf4671372cb",
   "metadata": {},
   "outputs": [],
   "source": [
    "from bs4 import BeautifulSoup\n",
    "\n",
    "import requests"
   ]
  },
  {
   "cell_type": "code",
   "execution_count": 9,
   "id": "41a76465-08e7-4ea1-a73f-900f35a8181c",
   "metadata": {},
   "outputs": [],
   "source": [
    "zomato_link=\"https://www.zomato.com/mumbai/ettarra-1-juhu/reviews\""
   ]
  },
  {
   "cell_type": "code",
   "execution_count": 10,
   "id": "921625dd-5c3b-442a-9abc-8d5bf9b3dfd8",
   "metadata": {},
   "outputs": [],
   "source": [
    "headers = {\n",
    "    'User-Agent': 'Mozilla/5.0 (X11; Linux x86_64) AppleWebKit/537.36 (KHTML, like Gecko) Chrome/110.0.0.0 Safari/537.36'}\n",
    "\n",
    "r = requests.get(zomato_link, headers=headers)"
   ]
  },
  {
   "cell_type": "code",
   "execution_count": 11,
   "id": "629a02c6-2fb1-422d-9572-48022696a372",
   "metadata": {},
   "outputs": [
    {
     "name": "stdout",
     "output_type": "stream",
     "text": [
      "200\n"
     ]
    }
   ],
   "source": [
    "print(r.status_code)"
   ]
  },
  {
   "cell_type": "code",
   "execution_count": 12,
   "id": "69813e44-eb49-4bed-a485-186e762ad959",
   "metadata": {},
   "outputs": [],
   "source": [
    "soup=BeautifulSoup(r.text, 'html.parser')"
   ]
  },
  {
   "cell_type": "code",
   "execution_count": 13,
   "id": "cc07e5a8-574f-4cc5-8741-661c2720fa16",
   "metadata": {},
   "outputs": [],
   "source": [
    "results=soup.select('p[class*=\"sc-1hez2tp-0\"]')"
   ]
  },
  {
   "cell_type": "code",
   "execution_count": 8,
   "id": "186689e5-a8fc-4bc2-a1e6-08f10c226a5b",
   "metadata": {},
   "outputs": [
    {
     "data": {
      "text/plain": [
       "[<p class=\"sc-1hez2tp-0 sc-lenlpJ cFMoVp\" color=\"#EF4F5F\">Detect current location</p>,\n",
       " <p class=\"sc-1hez2tp-0 sc-jGDUUe hsYDGJ\">Using GPS</p>,\n",
       " <p class=\"sc-1hez2tp-0 sc-dsaGNW eEgdYy\">View Gallery</p>,\n",
       " <p class=\"sc-1hez2tp-0 OgtQR\">All Reviews</p>,\n",
       " <p class=\"sc-1hez2tp-0 OgtQR\">Newest First</p>,\n",
       " <p class=\"sc-1hez2tp-0 sc-cLrAyg eEJUER\">Khushboo Ratnani</p>,\n",
       " <p class=\"sc-1hez2tp-0 fKvqMN time-stamp\" color=\"#9C9C9C\">4 days ago</p>,\n",
       " <p class=\"sc-1hez2tp-0 sc-esoVGF jmFZyW\">Many stories with the place,,,,, it has this unexplained vibe which attracts me everytime and to be specific, I have got all my special friends to visit her</p>,\n",
       " <p class=\"sc-1hez2tp-0 fKvqMN\" color=\"#9C9C9C\">0<!-- --> <!-- -->Votes for helpful<!-- -->, <!-- -->1<!-- --> <!-- -->Comment</p>,\n",
       " <p class=\"sc-1hez2tp-0 sc-cLrAyg eEJUER\">Renu Joshi</p>,\n",
       " <p class=\"sc-1hez2tp-0 fKvqMN time-stamp\" color=\"#9C9C9C\">10 days ago</p>,\n",
       " <p class=\"sc-1hez2tp-0 sc-esoVGF jmFZyW\">You forgot to send sugar with coffee/the rest of your coffee is good</p>,\n",
       " <p class=\"sc-1hez2tp-0 fKvqMN\" color=\"#9C9C9C\">0<!-- --> <!-- -->Votes for helpful<!-- -->, <!-- -->1<!-- --> <!-- -->Comment</p>,\n",
       " <p class=\"sc-1hez2tp-0 sc-cLrAyg eEJUER\">Vedant</p>,\n",
       " <p class=\"sc-1hez2tp-0 fKvqMN time-stamp\" color=\"#9C9C9C\">12 days ago</p>,\n",
       " <p class=\"sc-1hez2tp-0 sc-esoVGF jmFZyW\">The filter coffee was brilliant and so were snacks. We had the drizzled paparoti and Nutella Berliner which were lip smacking good. They serve complimentary banana chips which were one of the best I have had in a while. Asif Sheikh- our server was very courteous.</p>,\n",
       " <p class=\"sc-1hez2tp-0 fKvqMN\" color=\"#9C9C9C\">0<!-- --> <!-- -->Votes for helpful<!-- -->, <!-- -->1<!-- --> <!-- -->Comment</p>,\n",
       " <p class=\"sc-1hez2tp-0 sc-cLrAyg eEJUER\">Archis</p>,\n",
       " <p class=\"sc-1hez2tp-0 fKvqMN time-stamp\" color=\"#9C9C9C\">12 days ago</p>,\n",
       " <p class=\"sc-1hez2tp-0 sc-esoVGF jmFZyW\">One of the best places to go to, for a vibe, indie music, and some of the most amazing coffees. If you do come here do try the tarts.</p>,\n",
       " <p class=\"sc-1hez2tp-0 fKvqMN\" color=\"#9C9C9C\">0<!-- --> <!-- -->Votes for helpful<!-- -->, <!-- -->1<!-- --> <!-- -->Comment</p>,\n",
       " <p class=\"sc-1hez2tp-0 sc-cLrAyg eEJUER\">Akash Negandhi</p>,\n",
       " <p class=\"sc-1hez2tp-0 fKvqMN time-stamp\" color=\"#9C9C9C\">17 days ago</p>,\n",
       " <p class=\"sc-1hez2tp-0 sc-esoVGF jmFZyW\">Enjoyed the whole experience! Special mention to Asif for catering us</p>,\n",
       " <p class=\"sc-1hez2tp-0 fKvqMN\" color=\"#9C9C9C\">0<!-- --> <!-- -->Votes for helpful<!-- -->, <!-- -->1<!-- --> <!-- -->Comment</p>]"
      ]
     },
     "execution_count": 8,
     "metadata": {},
     "output_type": "execute_result"
    }
   ],
   "source": [
    "results"
   ]
  },
  {
   "cell_type": "code",
   "execution_count": 41,
   "id": "52aa64b4-2a17-41be-bcd5-34769e47ce96",
   "metadata": {},
   "outputs": [],
   "source": [
    "reviews=[]"
   ]
  },
  {
   "cell_type": "code",
   "execution_count": 42,
   "id": "3fbc4efc-492a-4a05-8795-55349d826ecc",
   "metadata": {},
   "outputs": [],
   "source": [
    "for index,result in enumerate(results):\n",
    "    if 'eaqKit' in str(result):\n",
    "        reviews.append({\n",
    "            'review':result.text,\n",
    "            'date':results[index-1].text\n",
    "        })\n",
    "    "
   ]
  },
  {
   "cell_type": "code",
   "execution_count": 43,
   "id": "cfe82fea-3dff-4b91-bfcf-6ec65ed830c4",
   "metadata": {},
   "outputs": [
    {
     "data": {
      "text/plain": [
       "[{'review': 'Many stories with the place,,,,, it has this unexplained vibe which attracts me everytime and to be specific, I have got all my special friends to visit her',\n",
       "  'date': '4 days ago'},\n",
       " {'review': 'You forgot to send sugar with coffee/the rest of your coffee is good',\n",
       "  'date': '9 days ago'},\n",
       " {'review': 'The filter coffee was brilliant and so were snacks. We had the drizzled paparoti and Nutella Berliner which were lip smacking good. They serve complimentary banana chips which were one of the best I have had in a while. Asif Sheikh- our server was very courteous.',\n",
       "  'date': '11 days ago'},\n",
       " {'review': 'One of the best places to go to, for a vibe, indie music, and some of the most amazing coffees. If you do come here do try the tarts.',\n",
       "  'date': '12 days ago'},\n",
       " {'review': 'Enjoyed the whole experience! Special mention to Asif for catering us',\n",
       "  'date': '17 days ago'}]"
      ]
     },
     "execution_count": 43,
     "metadata": {},
     "output_type": "execute_result"
    }
   ],
   "source": [
    "reviews"
   ]
  },
  {
   "cell_type": "code",
   "execution_count": 44,
   "id": "05445609-6e24-4230-b598-b07b84b6d97e",
   "metadata": {},
   "outputs": [],
   "source": [
    "import pandas as pd"
   ]
  },
  {
   "cell_type": "code",
   "execution_count": 2,
   "id": "c10c170e-5de8-40bc-8028-b8f3fbc56f7a",
   "metadata": {},
   "outputs": [
    {
     "ename": "NameError",
     "evalue": "name 'headers' is not defined",
     "output_type": "error",
     "traceback": [
      "\u001b[1;31m---------------------------------------------------------------------------\u001b[0m",
      "\u001b[1;31mNameError\u001b[0m                                 Traceback (most recent call last)",
      "Cell \u001b[1;32mIn[2], line 2\u001b[0m\n\u001b[0;32m      1\u001b[0m link\u001b[38;5;241m=\u001b[39m\u001b[38;5;124m\"\u001b[39m\u001b[38;5;124mhttps://www.zomato.com/mumbai/ettarra-1-juhu/reviews?page=1&sort=dd&filter=reviews-dd\u001b[39m\u001b[38;5;124m\"\u001b[39m\n\u001b[1;32m----> 2\u001b[0m r\u001b[38;5;241m=\u001b[39mrequests\u001b[38;5;241m.\u001b[39mget(link,headers\u001b[38;5;241m=\u001b[39m\u001b[43mheaders\u001b[49m)\n\u001b[0;32m      3\u001b[0m \u001b[38;5;28mprint\u001b[39m(r\u001b[38;5;241m.\u001b[39mstatus_code)\n\u001b[0;32m      4\u001b[0m soup\u001b[38;5;241m=\u001b[39mBeautifulSoup(r\u001b[38;5;241m.\u001b[39mtext,\u001b[38;5;124m'\u001b[39m\u001b[38;5;124mhtml.parser\u001b[39m\u001b[38;5;124m'\u001b[39m)\n",
      "\u001b[1;31mNameError\u001b[0m: name 'headers' is not defined"
     ]
    }
   ],
   "source": [
    "link=\"https://www.zomato.com/mumbai/ettarra-1-juhu/reviews?page=1&sort=dd&filter=reviews-dd\"\n",
    "r=requests.get(link,headers=headers)\n",
    "print(r.status_code)\n",
    "soup=BeautifulSoup(r.text,'html.parser')"
   ]
  },
  {
   "cell_type": "code",
   "execution_count": 54,
   "id": "2aa8363c-077d-468a-b5e7-d469dca6119e",
   "metadata": {},
   "outputs": [],
   "source": [
    "results = soup.findAll('p')"
   ]
  },
  {
   "cell_type": "code",
   "execution_count": 55,
   "id": "ae218360-b5df-44ec-a5f3-de7885181ee2",
   "metadata": {},
   "outputs": [
    {
     "data": {
      "text/plain": [
       "[<p class=\"sc-1hez2tp-0 sc-fCPvlr dbaWnN\" color=\"#EF4F5F\">Detect current location</p>,\n",
       " <p class=\"sc-1hez2tp-0 sc-hAXbOi jJsAxK\">Using GPS</p>,\n",
       " <p class=\"sc-1hez2tp-0 sc-iKwQaU dPiPrP\">View Gallery</p>,\n",
       " <p class=\"sc-1hez2tp-0 OgtQR\">All Reviews</p>,\n",
       " <p class=\"sc-1hez2tp-0 OgtQR\">Newest First</p>,\n",
       " <p class=\"sc-1hez2tp-0 sc-muxYx bWuRDK\">Puneet</p>,\n",
       " <p class=\"sc-1hez2tp-0 fKvqMN time-stamp\" color=\"#9C9C9C\">19 days ago</p>,\n",
       " <p class=\"sc-1hez2tp-0 sc-jQAphf dInJYk\">great service by ab</p>,\n",
       " <p class=\"sc-1hez2tp-0 fKvqMN\" color=\"#9C9C9C\">0<!-- --> <!-- -->Votes for helpful<!-- -->, <!-- -->1<!-- --> <!-- -->Comment</p>,\n",
       " <p class=\"sc-1hez2tp-0 sc-muxYx bWuRDK\">Jenil</p>,\n",
       " <p class=\"sc-1hez2tp-0 fKvqMN time-stamp\" color=\"#9C9C9C\">20 days ago</p>,\n",
       " <p class=\"sc-1hez2tp-0 sc-jQAphf dInJYk\">Food is amazing also people are kind , has a friendly environment</p>,\n",
       " <p class=\"sc-1hez2tp-0 fKvqMN\" color=\"#9C9C9C\">0<!-- --> <!-- -->Votes for helpful<!-- -->, <!-- -->1<!-- --> <!-- -->Comment</p>,\n",
       " <p class=\"sc-1hez2tp-0 sc-muxYx bWuRDK\">Purvi Tibrewal</p>,\n",
       " <p class=\"sc-1hez2tp-0 fKvqMN time-stamp\" color=\"#9C9C9C\">24 days ago</p>,\n",
       " <p class=\"sc-1hez2tp-0 sc-jQAphf dInJYk\">Fantastic experience, I have been visiting since the last two years. Love the hazelnut frappuccino. And of course, the banana chips here.. my favourite go to place</p>,\n",
       " <p class=\"sc-1hez2tp-0 fKvqMN\" color=\"#9C9C9C\">0<!-- --> <!-- -->Votes for helpful<!-- -->, <!-- -->1<!-- --> <!-- -->Comment</p>,\n",
       " <p class=\"sc-1hez2tp-0 sc-muxYx bWuRDK\">Priyank Chaudhary</p>,\n",
       " <p class=\"sc-1hez2tp-0 fKvqMN time-stamp\" color=\"#9C9C9C\">26 days ago</p>,\n",
       " <p class=\"sc-1hez2tp-0 sc-jQAphf dInJYk\">Thank you AB for the amazing service and suggestions, you have always have been a wonderful host here !!!</p>,\n",
       " <p class=\"sc-1hez2tp-0 fKvqMN\" color=\"#9C9C9C\">0<!-- --> <!-- -->Votes for helpful<!-- -->, <!-- -->1<!-- --> <!-- -->Comment</p>,\n",
       " <p class=\"sc-1hez2tp-0 sc-muxYx bWuRDK\">Bhavika Moorjani</p>,\n",
       " <p class=\"sc-1hez2tp-0 fKvqMN time-stamp\" color=\"#9C9C9C\">26 days ago</p>,\n",
       " <p class=\"sc-1hez2tp-0 sc-jQAphf dInJYk\">Excellent Coffee shop,loved the service by Ab... the Staff is very humble <br/>Coffee ☕ is outstanding <br/>baked Vada pav is very good <br/>the best part is the chips which they serve with Coffee <br/>highly recommend this place for all Coffee lovers </p>,\n",
       " <p class=\"sc-1hez2tp-0 fKvqMN\" color=\"#9C9C9C\">0<!-- --> <!-- -->Votes for helpful<!-- -->, <!-- -->1<!-- --> <!-- -->Comment</p>,\n",
       " <p class=\"sc-elhb8j-16 dxcfRo\">Who We Are</p>,\n",
       " <p class=\"sc-elhb8j-16 dxcfRo\">Blog</p>,\n",
       " <p class=\"sc-elhb8j-16 dxcfRo\">Work With Us</p>,\n",
       " <p class=\"sc-elhb8j-16 dxcfRo\">Investor Relations</p>,\n",
       " <p class=\"sc-elhb8j-16 dxcfRo\">Report Fraud</p>,\n",
       " <p class=\"sc-elhb8j-16 dxcfRo\">Press Kit</p>,\n",
       " <p class=\"sc-elhb8j-16 dxcfRo\">Contact Us</p>,\n",
       " <p class=\"sc-elhb8j-16 dxcfRo\">Zomato</p>,\n",
       " <p class=\"sc-elhb8j-16 dxcfRo\">Blinkit</p>,\n",
       " <p class=\"sc-elhb8j-16 dxcfRo\">Feeding India</p>,\n",
       " <p class=\"sc-elhb8j-16 dxcfRo\">Hyperpure</p>,\n",
       " <p class=\"sc-elhb8j-16 dxcfRo\">Zomaland</p>,\n",
       " <p class=\"sc-elhb8j-16 dxcfRo\">Partner With Us</p>,\n",
       " <p class=\"sc-elhb8j-16 dxcfRo\">Apps For You</p>,\n",
       " <p class=\"sc-elhb8j-16 dxcfRo\">Privacy</p>,\n",
       " <p class=\"sc-elhb8j-16 dxcfRo\">Security</p>,\n",
       " <p class=\"sc-elhb8j-16 dxcfRo\">Terms</p>,\n",
       " <p class=\"sc-elhb8j-16 dxcfRo\">Sitemap</p>,\n",
       " <p class=\"sc-elhb8j-5 kBllqA\">By continuing past this page, you agree to our Terms of Service, Cookie Policy, Privacy Policy and Content Policies. All trademarks are properties of their respective owners. 2008-2024 © Zomato™ Ltd. All rights reserved.</p>]"
      ]
     },
     "execution_count": 55,
     "metadata": {},
     "output_type": "execute_result"
    }
   ],
   "source": []
  },
  {
   "cell_type": "code",
   "execution_count": 56,
   "id": "fe71f597-1cb4-4a22-a548-b4b6ce767e9c",
   "metadata": {},
   "outputs": [],
   "source": [
    "for index,result in enumerate(results):\n",
    "    if 'eaqKit' in str(result):\n",
    "        reviews.append({\n",
    "            'review':result.text,\n",
    "            'date':results[index-1].text\n",
    "        })\n",
    "    "
   ]
  },
  {
   "cell_type": "code",
   "execution_count": 57,
   "id": "f43404ec-0707-4c66-9370-1ace760a75b2",
   "metadata": {},
   "outputs": [
    {
     "data": {
      "text/plain": [
       "[{'review': 'Many stories with the place,,,,, it has this unexplained vibe which attracts me everytime and to be specific, I have got all my special friends to visit her',\n",
       "  'date': '4 days ago'},\n",
       " {'review': 'You forgot to send sugar with coffee/the rest of your coffee is good',\n",
       "  'date': '9 days ago'},\n",
       " {'review': 'The filter coffee was brilliant and so were snacks. We had the drizzled paparoti and Nutella Berliner which were lip smacking good. They serve complimentary banana chips which were one of the best I have had in a while. Asif Sheikh- our server was very courteous.',\n",
       "  'date': '11 days ago'},\n",
       " {'review': 'One of the best places to go to, for a vibe, indie music, and some of the most amazing coffees. If you do come here do try the tarts.',\n",
       "  'date': '12 days ago'},\n",
       " {'review': 'Enjoyed the whole experience! Special mention to Asif for catering us',\n",
       "  'date': '17 days ago'}]"
      ]
     },
     "execution_count": 57,
     "metadata": {},
     "output_type": "execute_result"
    }
   ],
   "source": [
    "reviews"
   ]
  },
  {
   "cell_type": "code",
   "execution_count": 58,
   "id": "c3a0504f-a767-4034-8192-b68b808b20e8",
   "metadata": {},
   "outputs": [],
   "source": [
    "pages=range(52)"
   ]
  },
  {
   "cell_type": "code",
   "execution_count": 59,
   "id": "cef0f252-498b-4618-a09c-0c743f286abf",
   "metadata": {},
   "outputs": [
    {
     "data": {
      "text/plain": [
       "range(0, 52)"
      ]
     },
     "execution_count": 59,
     "metadata": {},
     "output_type": "execute_result"
    }
   ],
   "source": [
    "pages"
   ]
  },
  {
   "cell_type": "code",
   "execution_count": 88,
   "id": "33ba216c-98c1-4d58-9c67-afb5f0a4b401",
   "metadata": {},
   "outputs": [],
   "source": [
    "import numpy as np"
   ]
  },
  {
   "cell_type": "code",
   "execution_count": 64,
   "id": "81de6022-4d94-4ae6-8375-a71bd3ae3f76",
   "metadata": {},
   "outputs": [
    {
     "name": "stdout",
     "output_type": "stream",
     "text": [
      "data came\n",
      "data came\n",
      "data came\n",
      "data came\n",
      "data came\n",
      "data came\n",
      "data came\n",
      "data came\n",
      "data came\n",
      "data came\n",
      "data came\n",
      "data came\n",
      "data came\n",
      "data came\n",
      "data came\n",
      "data came\n",
      "data came\n",
      "data came\n",
      "data came\n",
      "data came\n",
      "data came\n",
      "data came\n",
      "data came\n",
      "data came\n",
      "data came\n",
      "data came\n",
      "data came\n",
      "data came\n",
      "data came\n",
      "data came\n",
      "data came\n",
      "data came\n",
      "data came\n",
      "data came\n",
      "data came\n",
      "data came\n",
      "data came\n",
      "data came\n",
      "data came\n",
      "data came\n",
      "data came\n",
      "data came\n",
      "data came\n",
      "data came\n",
      "data came\n",
      "data came\n",
      "data came\n",
      "data came\n",
      "data came\n",
      "data came\n",
      "data came\n",
      "data came\n"
     ]
    }
   ],
   "source": [
    "try:\n",
    "    headers = {\n",
    "        'User-Agent': 'Mozilla/5.0 (X11; Linux x86_64) AppleWebKit/537.36 (KHTML, like Gecko) Chrome/110.0.0.0 Safari/537.36'\n",
    "                    }\n",
    "    reviews=[]\n",
    "    for page in pages:\n",
    "        zomato_link=f\"https://www.zomato.com/mumbai/ettarra-1-juhu/reviews?page={page}&sort=dd&filter=reviews-dd\"\n",
    "        r = requests.get(zomato_link, headers=headers)\n",
    "        if r.status_code==200:\n",
    "            print(\"data came\")\n",
    "            soup=BeautifulSoup(r.text,'html.parser')\n",
    "            results=soup.find_all('p')\n",
    "            for index,result in enumerate(results):\n",
    "                if \"time-stamp\" in str(result):\n",
    "                    payload={\n",
    "                        'date':result.text\n",
    "                    }\n",
    "                    test.append(payload)\n",
    "                if \"eaqKit\" in str(result):\n",
    "                    text=result.tex\n",
    "                    if text == \"\" or text == \" \":\n",
    "                        text=np.NaN\n",
    "                    test[-1]['review']=text\n",
    "        else:\n",
    "            print(\"errrorr...\")\n",
    "except:\n",
    "    print(\"Error....\")"
   ]
  },
  {
   "cell_type": "code",
   "execution_count": 65,
   "id": "3e17835f-0026-4af3-aed1-46a7a1067c08",
   "metadata": {},
   "outputs": [
    {
     "data": {
      "text/plain": [
       "[{'review': 'Many stories with the place,,,,, it has this unexplained vibe which attracts me everytime and to be specific, I have got all my special friends to visit her',\n",
       "  'date': '4 days ago'},\n",
       " {'review': 'You forgot to send sugar with coffee/the rest of your coffee is good',\n",
       "  'date': '9 days ago'},\n",
       " {'review': 'The filter coffee was brilliant and so were snacks. We had the drizzled paparoti and Nutella Berliner which were lip smacking good. They serve complimentary banana chips which were one of the best I have had in a while. Asif Sheikh- our server was very courteous.',\n",
       "  'date': '11 days ago'},\n",
       " {'review': 'One of the best places to go to, for a vibe, indie music, and some of the most amazing coffees. If you do come here do try the tarts.',\n",
       "  'date': '12 days ago'},\n",
       " {'review': 'Enjoyed the whole experience! Special mention to Asif for catering us',\n",
       "  'date': '17 days ago'},\n",
       " {'review': '', 'date': '28 days ago'},\n",
       " {'review': 'Feedback for the store. : The Vada pav is good but the packaging is flawed. The steam from the Vada pav makes the pav soggy by the time it reaches u. So the packaging needs small holes to let the steam out similar to what domino’s pizza boxes have.',\n",
       "  'date': 'one month ago'},\n",
       " {'review': '', 'date': 'one month ago'},\n",
       " {'review': '', 'date': 'one month ago'},\n",
       " {'review': 'superb coffee...great staff...they give u taste which again is a great idea ...love their papa roti must try',\n",
       "  'date': 'one month ago'},\n",
       " {'review': 'thank you for the chips ', 'date': 'one month ago'},\n",
       " {'review': \"Visited place seeing the reviews with lot of excitement but came to my surprise that they do not have proper seating arrangement inside. it seems they only have 2 tables inside and when asked why they were impolite in saying we only have outside seating in the noise. I am sure the food would be delicious but sadly i couldn't get that chance of rather the experience wasn't friendly hence 0.\",\n",
       "  'date': 'one month ago'},\n",
       " {'review': 'The burliner was amazing and kema pav was very delicious And specially the service was very good by av',\n",
       "  'date': 'one month ago'},\n",
       " {'review': 'Classy, decent and music vibe is excellent. Special mention , a smiling Allah Baksh . Must visit for variety of delicacies. Juhu in the backdrop.',\n",
       "  'date': 'one month ago'},\n",
       " {'review': 'Excellent coffee lovely ambience n friendly staff . It’s a great place to chill n enjoy ur coffee.',\n",
       "  'date': 'one month ago'},\n",
       " {'review': 'Placed in the lobby of Juhu Residency hotel, Ettarra serves excellent coffee. We had the flat white, and the filter coffee, and both were simply amazing. The banana chips are a nice touch. The servers were very nice and helpful. ',\n",
       "  'date': 'one month ago'},\n",
       " {'review': '', 'date': 'one month ago'},\n",
       " {'review': 'Loved their frappe and even hot chocolate! And yes - the vadapav! :)',\n",
       "  'date': '2 months ago'},\n",
       " {'review': 'Great coffee and snacks, recommended for all coffee lovers !!',\n",
       "  'date': '2 months ago'},\n",
       " {'review': '', 'date': '2 months ago'},\n",
       " {'review': 'Guys you have to try their Coffees, it’s delicious 😋 to next level.It has failed Starbucks for me Thanks Sabina & Khushi for suggesting & making such delicious coffee & Vada pav for me 💝💝',\n",
       "  'date': '3 months ago'},\n",
       " {'review': 'good, enjoyed it', 'date': '3 months ago'},\n",
       " {'review': '', 'date': '3 months ago'},\n",
       " {'review': 'One of the best coffee place in juhu area, staff is very friendly and polite with  smiley face always , make the  best classic frappe. Must try .',\n",
       "  'date': '3 months ago'},\n",
       " {'review': 'Nice place to enjoy a cup of coffee, their signature filter coffee and baked pav bhaji is worth to try. Sabeena was great at hosting us and certainly has a most beautiful smile ☺️',\n",
       "  'date': '3 months ago'},\n",
       " {'review': '', 'date': '3 months ago'},\n",
       " {'review': 'I had a wonderful experience I was amazed by the Berliners and staff here is very very sweet big shout out to Sabina and Priti they are the best ',\n",
       "  'date': '3 months ago'},\n",
       " {'review': 'amazing staff, lovely environment and what a pleasent way to start our day with delicious hot chocolate made by Jabbar, Priti and sabina...it is a must try..',\n",
       "  'date': '3 months ago'},\n",
       " {'review': 'The food and vibe was amazing. Sabina was a great host and I loved the coffeee and desserts😍',\n",
       "  'date': '3 months ago'},\n",
       " {'review': 'I love the place and food a lot! Above all, love the staff and team behind it for the treatment of each of their customers. Sakina does a good job and is an asset for the space! Do fab, you guys and keep up the good work!',\n",
       "  'date': 'elaborate menu'},\n",
       " {'review': 'The best coffee I am a regular at etarra, the frappe made by Sabina is the best frappe I have had in Mumbai , she is extremely warm and sweet and is excellent at customer management , I would highly recommend this place for coffee , it’s a small joint but nonetheless the coffee and service is impeccable',\n",
       "  'date': '7 months ago'},\n",
       " {'review': '', 'date': '7 months ago'},\n",
       " {'review': 'I ordered a mocha which had specifications but the taste is completely like black coffee without milk and sugar',\n",
       "  'date': '7 months ago'},\n",
       " {'review': 'Savoured Kappucino at Ettarra, an American twist to the traditional Filter Coffee alongside a curated Playlist of songs of Ettarra at Spotify. Shout out to Barista Deepak who explained us the story of how they came up with the idea of Kappucino, alongside his Journey at Tata Strive. ',\n",
       "  'date': '7 months ago'},\n",
       " {'review': 'Asif Sheik was great ...my coffee was perfect !!!',\n",
       "  'date': '7 months ago'},\n",
       " {'review': 'The coffee is to die for .. and special kudos to Sabina. She is always cheerful, patient and takes extra care to ensure u get your perfect coffee. My coffee is usually not the OTC types and is usually customised and each time she has made it perfectly .. snd she is super honest .. if you forget something she will ensure that it is kept safe ….thank you Sabina … keep up the good work 😊',\n",
       "  'date': '10 months ago'},\n",
       " {'review': 'This place is part of Juhu Residency Boutique Hotel. It has seating inside and outside. Cute and sweet coffee place. I had hot chocolate and it was good. It’s bit expensive as compared to service. Overall good experience.',\n",
       "  'date': '10 months ago'},\n",
       " {'review': '', 'date': '10 months ago'},\n",
       " {'review': 'Thank you Sabina for your amazing recommendations! Loved the South Indian Filter coffee frappe and Nariyal Irish Cream frappe recommended by her. Service is amazing, with fried banana chips and water bottles complimentary along with every order. Makes you feel right at home.Hope the Malnad Tonic is back in stock soon, till then, a regular customer!',\n",
       "  'date': '10 months ago'},\n",
       " {'review': 'received the cappuccino without sugar !?',\n",
       "  'date': '10 months ago'},\n",
       " {'review': '', 'date': '10 months ago'},\n",
       " {'review': 'A perfect coffee house with amazing coffee and a new concept!!',\n",
       "  'date': '10 months ago'},\n",
       " {'review': \"Ordering my morning breakfast from here was the best decision I have made in a while. The baked vada pav is ingenious, all the goodness of a vada pav in a bun form. Delicious and surprisingly filling. The berliner was really tasty filled with goey creamy goodness,but I'd order at least 3 of these next time to make up for the size, it's a bit small. And thank you for the banana chips, they added finely with my overall experience, thank you for making my morning such a pleasure. \",\n",
       "  'date': '10 months ago'},\n",
       " {'review': 'Ettara is one of the finest aromatic coffee in Mumbai.. Specially made by Ms. Sabeena she has the right and perfect knowledge of the taste you want... ',\n",
       "  'date': '11 months ago'},\n",
       " {'review': 'Excellent experience at Ettarra The coffee was awesome and the service experience was totally outstanding with Sabina around she gave us an amazing service and made us feel totally special kudos to her !!!',\n",
       "  'date': '11 months ago'},\n",
       " {'review': 'A great place for coffee(served with banana chips) , food (sandwiches, breads and desserts) service.Definitely worth a try.',\n",
       "  'date': 'good quality'},\n",
       " {'review': 'This rare find serves a combination of good coffee, selective baked goods and tops this with a courteous staff and excellent service! We tried the South Indian Frappe, Banana Bread, their signature Paparoti, Croissant and Latte’s - everything was delicious and would definitely recommend going here often! ',\n",
       "  'date': 'Nov 27, 2022'},\n",
       " {'review': 'My new favourite place for coffeee❤️❤️The cappuccino was so good and great presentation and even the banana chips along with it was so good.The staff is so kind and they recommend the best of coffee.The double chocolate chip cookie is so wholesome and worth the price.. best cookie indeed!Now I know where to go if I’m craving for some coffee..Thank you for giving us such a great experience.',\n",
       "  'date': 'customizable food'},\n",
       " {'review': 'This is a really cute place which serves good coffee and paparoti. I have tried the cappuccino, south indian filter coffee and hazelnut frappe and all of them are very delivered. Their staff is also very friendly and warm. A must visit place! ',\n",
       "  'date': 'Oct 25, 2022'}]"
      ]
     },
     "execution_count": 65,
     "metadata": {},
     "output_type": "execute_result"
    }
   ],
   "source": [
    "reviews"
   ]
  },
  {
   "cell_type": "code",
   "execution_count": 68,
   "id": "d283af52-6483-4682-8521-e95f2a787c73",
   "metadata": {},
   "outputs": [
    {
     "data": {
      "text/plain": [
       "[<p class=\"sc-1hez2tp-0 sc-fCPvlr dbaWnN\" color=\"#EF4F5F\">Detect current location</p>,\n",
       " <p class=\"sc-1hez2tp-0 sc-hAXbOi jJsAxK\">Using GPS</p>,\n",
       " <p class=\"sc-1hez2tp-0 sc-bYTsla hUkOLL\">View Gallery</p>,\n",
       " <p class=\"sc-1hez2tp-0 OgtQR\">All Reviews</p>,\n",
       " <p class=\"sc-1hez2tp-0 OgtQR\">Newest First</p>,\n",
       " <p class=\"sc-1hez2tp-0 sc-fPCuyW hWkbSv\">Ravi Shah</p>,\n",
       " <p class=\"sc-1hez2tp-0 fKvqMN time-stamp\" color=\"#9C9C9C\">Dec 11, 2022</p>,\n",
       " <p class=\"sc-1hez2tp-0 iHWhFg\" color=\"#828282\">fresh food</p>,\n",
       " <p class=\"sc-1hez2tp-0 iHWhFg\" color=\"#828282\">good quality</p>,\n",
       " <p class=\"sc-1hez2tp-0 sc-rzOft eaqKit\">A great place for coffee(served with banana chips) , food (sandwiches, breads and desserts) service.<br/><br/>Definitely worth a try.</p>,\n",
       " <p class=\"sc-1hez2tp-0 fKvqMN\" color=\"#9C9C9C\">0<!-- --> <!-- -->Votes for helpful<!-- -->, <!-- -->0<!-- --> <!-- -->Comments</p>,\n",
       " <p class=\"sc-1hez2tp-0 sc-fPCuyW hWkbSv\">Mriya Udani</p>,\n",
       " <p class=\"sc-1hez2tp-0 fKvqMN time-stamp\" color=\"#9C9C9C\">Nov 27, 2022</p>,\n",
       " <p class=\"sc-1hez2tp-0 sc-rzOft eaqKit\">This rare find serves a combination of good coffee, selective baked goods and tops this with a courteous staff and excellent service! <br/>We tried the South Indian Frappe, Banana Bread, their signature Paparoti, Croissant and Latte’s - everything was delicious and would definitely recommend going here often! </p>,\n",
       " <p class=\"sc-1hez2tp-0 fKvqMN\" color=\"#9C9C9C\">0<!-- --> <!-- -->Votes for helpful<!-- -->, <!-- -->0<!-- --> <!-- -->Comments</p>,\n",
       " <p class=\"sc-1hez2tp-0 sc-fPCuyW hWkbSv\">Divya</p>,\n",
       " <p class=\"sc-1hez2tp-0 fKvqMN time-stamp\" color=\"#9C9C9C\">Nov 15, 2022</p>,\n",
       " <p class=\"sc-1hez2tp-0 iHWhFg\" color=\"#828282\">elaborate menu</p>,\n",
       " <p class=\"sc-1hez2tp-0 iHWhFg\" color=\"#828282\">customizable food</p>,\n",
       " <p class=\"sc-1hez2tp-0 sc-rzOft eaqKit\">My new favourite place for coffeee❤️❤️<br/>The cappuccino was so good and great presentation and even the banana chips along with it was so good.<br/>The staff is so kind and they recommend the best of coffee.<br/>The double chocolate chip cookie is so wholesome and worth the price.. best cookie indeed!<br/>Now I know where to go if I’m craving for some coffee..<br/>Thank you for giving us such a great experience.<br/></p>,\n",
       " <p class=\"sc-1hez2tp-0 fKvqMN\" color=\"#9C9C9C\">0<!-- --> <!-- -->Votes for helpful<!-- -->, <!-- -->0<!-- --> <!-- -->Comments</p>,\n",
       " <p class=\"sc-1hez2tp-0 sc-fPCuyW hWkbSv\">Shweta Lohiya</p>,\n",
       " <p class=\"sc-1hez2tp-0 fKvqMN time-stamp\" color=\"#9C9C9C\">Oct 25, 2022</p>,\n",
       " <p class=\"sc-1hez2tp-0 sc-rzOft eaqKit\">This is a really cute place which serves good coffee and paparoti. I have tried the cappuccino, south indian filter coffee and hazelnut frappe and all of them are very delivered. Their staff is also very friendly and warm. A must visit place! </p>,\n",
       " <p class=\"sc-1hez2tp-0 fKvqMN\" color=\"#9C9C9C\">1<!-- --> <!-- -->Helpful vote<!-- -->, <!-- -->0<!-- --> <!-- -->Comments</p>,\n",
       " <p class=\"sc-elhb8j-16 dxcfRo\">Who We Are</p>,\n",
       " <p class=\"sc-elhb8j-16 dxcfRo\">Blog</p>,\n",
       " <p class=\"sc-elhb8j-16 dxcfRo\">Work With Us</p>,\n",
       " <p class=\"sc-elhb8j-16 dxcfRo\">Investor Relations</p>,\n",
       " <p class=\"sc-elhb8j-16 dxcfRo\">Report Fraud</p>,\n",
       " <p class=\"sc-elhb8j-16 dxcfRo\">Press Kit</p>,\n",
       " <p class=\"sc-elhb8j-16 dxcfRo\">Contact Us</p>,\n",
       " <p class=\"sc-elhb8j-16 dxcfRo\">Zomato</p>,\n",
       " <p class=\"sc-elhb8j-16 dxcfRo\">Blinkit</p>,\n",
       " <p class=\"sc-elhb8j-16 dxcfRo\">Feeding India</p>,\n",
       " <p class=\"sc-elhb8j-16 dxcfRo\">Hyperpure</p>,\n",
       " <p class=\"sc-elhb8j-16 dxcfRo\">Zomaland</p>,\n",
       " <p class=\"sc-elhb8j-16 dxcfRo\">Partner With Us</p>,\n",
       " <p class=\"sc-elhb8j-16 dxcfRo\">Apps For You</p>,\n",
       " <p class=\"sc-elhb8j-16 dxcfRo\">Privacy</p>,\n",
       " <p class=\"sc-elhb8j-16 dxcfRo\">Security</p>,\n",
       " <p class=\"sc-elhb8j-16 dxcfRo\">Terms</p>,\n",
       " <p class=\"sc-elhb8j-16 dxcfRo\">Sitemap</p>,\n",
       " <p class=\"sc-elhb8j-5 kBllqA\">By continuing past this page, you agree to our Terms of Service, Cookie Policy, Privacy Policy and Content Policies. All trademarks are properties of their respective owners. 2008-2024 © Zomato™ Ltd. All rights reserved.</p>]"
      ]
     },
     "execution_count": 68,
     "metadata": {},
     "output_type": "execute_result"
    }
   ],
   "source": [
    "results"
   ]
  },
  {
   "cell_type": "code",
   "execution_count": 66,
   "id": "c0c9524c-91b1-48f3-b166-a38bb386f49a",
   "metadata": {},
   "outputs": [],
   "source": [
    "df=pd.DataFrame(reviews)"
   ]
  },
  {
   "cell_type": "code",
   "execution_count": 67,
   "id": "119a7ef9-a9d8-4aeb-944f-9e35b980a29b",
   "metadata": {},
   "outputs": [
    {
     "data": {
      "text/html": [
       "<div>\n",
       "<style scoped>\n",
       "    .dataframe tbody tr th:only-of-type {\n",
       "        vertical-align: middle;\n",
       "    }\n",
       "\n",
       "    .dataframe tbody tr th {\n",
       "        vertical-align: top;\n",
       "    }\n",
       "\n",
       "    .dataframe thead th {\n",
       "        text-align: right;\n",
       "    }\n",
       "</style>\n",
       "<table border=\"1\" class=\"dataframe\">\n",
       "  <thead>\n",
       "    <tr style=\"text-align: right;\">\n",
       "      <th></th>\n",
       "      <th>review</th>\n",
       "      <th>date</th>\n",
       "    </tr>\n",
       "  </thead>\n",
       "  <tbody>\n",
       "    <tr>\n",
       "      <th>0</th>\n",
       "      <td>Many stories with the place,,,,, it has this u...</td>\n",
       "      <td>4 days ago</td>\n",
       "    </tr>\n",
       "    <tr>\n",
       "      <th>1</th>\n",
       "      <td>You forgot to send sugar with coffee/the rest ...</td>\n",
       "      <td>9 days ago</td>\n",
       "    </tr>\n",
       "    <tr>\n",
       "      <th>2</th>\n",
       "      <td>The filter coffee was brilliant and so were sn...</td>\n",
       "      <td>11 days ago</td>\n",
       "    </tr>\n",
       "    <tr>\n",
       "      <th>3</th>\n",
       "      <td>One of the best places to go to, for a vibe, i...</td>\n",
       "      <td>12 days ago</td>\n",
       "    </tr>\n",
       "    <tr>\n",
       "      <th>4</th>\n",
       "      <td>Enjoyed the whole experience! Special mention ...</td>\n",
       "      <td>17 days ago</td>\n",
       "    </tr>\n",
       "    <tr>\n",
       "      <th>5</th>\n",
       "      <td></td>\n",
       "      <td>28 days ago</td>\n",
       "    </tr>\n",
       "    <tr>\n",
       "      <th>6</th>\n",
       "      <td>Feedback for the store. : The Vada pav is good...</td>\n",
       "      <td>one month ago</td>\n",
       "    </tr>\n",
       "    <tr>\n",
       "      <th>7</th>\n",
       "      <td></td>\n",
       "      <td>one month ago</td>\n",
       "    </tr>\n",
       "    <tr>\n",
       "      <th>8</th>\n",
       "      <td></td>\n",
       "      <td>one month ago</td>\n",
       "    </tr>\n",
       "    <tr>\n",
       "      <th>9</th>\n",
       "      <td>superb coffee...great staff...they give u tast...</td>\n",
       "      <td>one month ago</td>\n",
       "    </tr>\n",
       "    <tr>\n",
       "      <th>10</th>\n",
       "      <td>thank you for the chips</td>\n",
       "      <td>one month ago</td>\n",
       "    </tr>\n",
       "    <tr>\n",
       "      <th>11</th>\n",
       "      <td>Visited place seeing the reviews with lot of e...</td>\n",
       "      <td>one month ago</td>\n",
       "    </tr>\n",
       "    <tr>\n",
       "      <th>12</th>\n",
       "      <td>The burliner was amazing and kema pav was very...</td>\n",
       "      <td>one month ago</td>\n",
       "    </tr>\n",
       "    <tr>\n",
       "      <th>13</th>\n",
       "      <td>Classy, decent and music vibe is excellent. Sp...</td>\n",
       "      <td>one month ago</td>\n",
       "    </tr>\n",
       "    <tr>\n",
       "      <th>14</th>\n",
       "      <td>Excellent coffee lovely ambience n friendly st...</td>\n",
       "      <td>one month ago</td>\n",
       "    </tr>\n",
       "    <tr>\n",
       "      <th>15</th>\n",
       "      <td>Placed in the lobby of Juhu Residency hotel, E...</td>\n",
       "      <td>one month ago</td>\n",
       "    </tr>\n",
       "    <tr>\n",
       "      <th>16</th>\n",
       "      <td></td>\n",
       "      <td>one month ago</td>\n",
       "    </tr>\n",
       "    <tr>\n",
       "      <th>17</th>\n",
       "      <td>Loved their frappe and even hot chocolate! And...</td>\n",
       "      <td>2 months ago</td>\n",
       "    </tr>\n",
       "    <tr>\n",
       "      <th>18</th>\n",
       "      <td>Great coffee and snacks, recommended for all c...</td>\n",
       "      <td>2 months ago</td>\n",
       "    </tr>\n",
       "    <tr>\n",
       "      <th>19</th>\n",
       "      <td></td>\n",
       "      <td>2 months ago</td>\n",
       "    </tr>\n",
       "    <tr>\n",
       "      <th>20</th>\n",
       "      <td>Guys you have to try their Coffees, it’s delic...</td>\n",
       "      <td>3 months ago</td>\n",
       "    </tr>\n",
       "    <tr>\n",
       "      <th>21</th>\n",
       "      <td>good, enjoyed it</td>\n",
       "      <td>3 months ago</td>\n",
       "    </tr>\n",
       "    <tr>\n",
       "      <th>22</th>\n",
       "      <td></td>\n",
       "      <td>3 months ago</td>\n",
       "    </tr>\n",
       "    <tr>\n",
       "      <th>23</th>\n",
       "      <td>One of the best coffee place in juhu area, sta...</td>\n",
       "      <td>3 months ago</td>\n",
       "    </tr>\n",
       "    <tr>\n",
       "      <th>24</th>\n",
       "      <td>Nice place to enjoy a cup of coffee, their sig...</td>\n",
       "      <td>3 months ago</td>\n",
       "    </tr>\n",
       "    <tr>\n",
       "      <th>25</th>\n",
       "      <td></td>\n",
       "      <td>3 months ago</td>\n",
       "    </tr>\n",
       "    <tr>\n",
       "      <th>26</th>\n",
       "      <td>I had a wonderful experience I was amazed by t...</td>\n",
       "      <td>3 months ago</td>\n",
       "    </tr>\n",
       "    <tr>\n",
       "      <th>27</th>\n",
       "      <td>amazing staff, lovely environment and what a p...</td>\n",
       "      <td>3 months ago</td>\n",
       "    </tr>\n",
       "    <tr>\n",
       "      <th>28</th>\n",
       "      <td>The food and vibe was amazing. Sabina was a gr...</td>\n",
       "      <td>3 months ago</td>\n",
       "    </tr>\n",
       "    <tr>\n",
       "      <th>29</th>\n",
       "      <td>I love the place and food a lot! Above all, lo...</td>\n",
       "      <td>elaborate menu</td>\n",
       "    </tr>\n",
       "    <tr>\n",
       "      <th>30</th>\n",
       "      <td>The best coffee I am a regular at etarra, the ...</td>\n",
       "      <td>7 months ago</td>\n",
       "    </tr>\n",
       "    <tr>\n",
       "      <th>31</th>\n",
       "      <td></td>\n",
       "      <td>7 months ago</td>\n",
       "    </tr>\n",
       "    <tr>\n",
       "      <th>32</th>\n",
       "      <td>I ordered a mocha which had specifications but...</td>\n",
       "      <td>7 months ago</td>\n",
       "    </tr>\n",
       "    <tr>\n",
       "      <th>33</th>\n",
       "      <td>Savoured Kappucino at Ettarra, an American twi...</td>\n",
       "      <td>7 months ago</td>\n",
       "    </tr>\n",
       "    <tr>\n",
       "      <th>34</th>\n",
       "      <td>Asif Sheik was great ...my coffee was perfect !!!</td>\n",
       "      <td>7 months ago</td>\n",
       "    </tr>\n",
       "    <tr>\n",
       "      <th>35</th>\n",
       "      <td>The coffee is to die for .. and special kudos ...</td>\n",
       "      <td>10 months ago</td>\n",
       "    </tr>\n",
       "    <tr>\n",
       "      <th>36</th>\n",
       "      <td>This place is part of Juhu Residency Boutique ...</td>\n",
       "      <td>10 months ago</td>\n",
       "    </tr>\n",
       "    <tr>\n",
       "      <th>37</th>\n",
       "      <td></td>\n",
       "      <td>10 months ago</td>\n",
       "    </tr>\n",
       "    <tr>\n",
       "      <th>38</th>\n",
       "      <td>Thank you Sabina for your amazing recommendati...</td>\n",
       "      <td>10 months ago</td>\n",
       "    </tr>\n",
       "    <tr>\n",
       "      <th>39</th>\n",
       "      <td>received the cappuccino without sugar !?</td>\n",
       "      <td>10 months ago</td>\n",
       "    </tr>\n",
       "    <tr>\n",
       "      <th>40</th>\n",
       "      <td></td>\n",
       "      <td>10 months ago</td>\n",
       "    </tr>\n",
       "    <tr>\n",
       "      <th>41</th>\n",
       "      <td>A perfect coffee house with amazing coffee and...</td>\n",
       "      <td>10 months ago</td>\n",
       "    </tr>\n",
       "    <tr>\n",
       "      <th>42</th>\n",
       "      <td>Ordering my morning breakfast from here was th...</td>\n",
       "      <td>10 months ago</td>\n",
       "    </tr>\n",
       "    <tr>\n",
       "      <th>43</th>\n",
       "      <td>Ettara is one of the finest aromatic coffee in...</td>\n",
       "      <td>11 months ago</td>\n",
       "    </tr>\n",
       "    <tr>\n",
       "      <th>44</th>\n",
       "      <td>Excellent experience at Ettarra The coffee was...</td>\n",
       "      <td>11 months ago</td>\n",
       "    </tr>\n",
       "    <tr>\n",
       "      <th>45</th>\n",
       "      <td>A great place for coffee(served with banana ch...</td>\n",
       "      <td>good quality</td>\n",
       "    </tr>\n",
       "    <tr>\n",
       "      <th>46</th>\n",
       "      <td>This rare find serves a combination of good co...</td>\n",
       "      <td>Nov 27, 2022</td>\n",
       "    </tr>\n",
       "    <tr>\n",
       "      <th>47</th>\n",
       "      <td>My new favourite place for coffeee❤️❤️The capp...</td>\n",
       "      <td>customizable food</td>\n",
       "    </tr>\n",
       "    <tr>\n",
       "      <th>48</th>\n",
       "      <td>This is a really cute place which serves good ...</td>\n",
       "      <td>Oct 25, 2022</td>\n",
       "    </tr>\n",
       "  </tbody>\n",
       "</table>\n",
       "</div>"
      ],
      "text/plain": [
       "                                               review               date\n",
       "0   Many stories with the place,,,,, it has this u...         4 days ago\n",
       "1   You forgot to send sugar with coffee/the rest ...         9 days ago\n",
       "2   The filter coffee was brilliant and so were sn...        11 days ago\n",
       "3   One of the best places to go to, for a vibe, i...        12 days ago\n",
       "4   Enjoyed the whole experience! Special mention ...        17 days ago\n",
       "5                                                            28 days ago\n",
       "6   Feedback for the store. : The Vada pav is good...      one month ago\n",
       "7                                                          one month ago\n",
       "8                                                          one month ago\n",
       "9   superb coffee...great staff...they give u tast...      one month ago\n",
       "10                           thank you for the chips       one month ago\n",
       "11  Visited place seeing the reviews with lot of e...      one month ago\n",
       "12  The burliner was amazing and kema pav was very...      one month ago\n",
       "13  Classy, decent and music vibe is excellent. Sp...      one month ago\n",
       "14  Excellent coffee lovely ambience n friendly st...      one month ago\n",
       "15  Placed in the lobby of Juhu Residency hotel, E...      one month ago\n",
       "16                                                         one month ago\n",
       "17  Loved their frappe and even hot chocolate! And...       2 months ago\n",
       "18  Great coffee and snacks, recommended for all c...       2 months ago\n",
       "19                                                          2 months ago\n",
       "20  Guys you have to try their Coffees, it’s delic...       3 months ago\n",
       "21                                   good, enjoyed it       3 months ago\n",
       "22                                                          3 months ago\n",
       "23  One of the best coffee place in juhu area, sta...       3 months ago\n",
       "24  Nice place to enjoy a cup of coffee, their sig...       3 months ago\n",
       "25                                                          3 months ago\n",
       "26  I had a wonderful experience I was amazed by t...       3 months ago\n",
       "27  amazing staff, lovely environment and what a p...       3 months ago\n",
       "28  The food and vibe was amazing. Sabina was a gr...       3 months ago\n",
       "29  I love the place and food a lot! Above all, lo...     elaborate menu\n",
       "30  The best coffee I am a regular at etarra, the ...       7 months ago\n",
       "31                                                          7 months ago\n",
       "32  I ordered a mocha which had specifications but...       7 months ago\n",
       "33  Savoured Kappucino at Ettarra, an American twi...       7 months ago\n",
       "34  Asif Sheik was great ...my coffee was perfect !!!       7 months ago\n",
       "35  The coffee is to die for .. and special kudos ...      10 months ago\n",
       "36  This place is part of Juhu Residency Boutique ...      10 months ago\n",
       "37                                                         10 months ago\n",
       "38  Thank you Sabina for your amazing recommendati...      10 months ago\n",
       "39           received the cappuccino without sugar !?      10 months ago\n",
       "40                                                         10 months ago\n",
       "41  A perfect coffee house with amazing coffee and...      10 months ago\n",
       "42  Ordering my morning breakfast from here was th...      10 months ago\n",
       "43  Ettara is one of the finest aromatic coffee in...      11 months ago\n",
       "44  Excellent experience at Ettarra The coffee was...      11 months ago\n",
       "45  A great place for coffee(served with banana ch...       good quality\n",
       "46  This rare find serves a combination of good co...       Nov 27, 2022\n",
       "47  My new favourite place for coffeee❤️❤️The capp...  customizable food\n",
       "48  This is a really cute place which serves good ...       Oct 25, 2022"
      ]
     },
     "execution_count": 67,
     "metadata": {},
     "output_type": "execute_result"
    }
   ],
   "source": [
    "df"
   ]
  },
  {
   "cell_type": "code",
   "execution_count": 83,
   "id": "e9cc67b8-cc70-45a7-b2da-9fcb89c09a9f",
   "metadata": {},
   "outputs": [],
   "source": [
    "test=[]"
   ]
  },
  {
   "cell_type": "code",
   "execution_count": 84,
   "id": "e6292d54-5bae-4dda-bf95-f2f2c5076bd6",
   "metadata": {},
   "outputs": [],
   "source": [
    "for result in results:\n",
    "    if \"time-stamp\" in str(result):\n",
    "        payload={\n",
    "            'date':result.text\n",
    "        }\n",
    "        test.append(payload)\n",
    "    if \"eaqKit\" in str(result):\n",
    "        test[-1]['review']=result.text"
   ]
  },
  {
   "cell_type": "code",
   "execution_count": 85,
   "id": "3ac08e4f-7fbb-425a-b021-1c819cf9a31a",
   "metadata": {},
   "outputs": [
    {
     "data": {
      "text/plain": [
       "[{'date': 'Dec 11, 2022',\n",
       "  'review': 'A great place for coffee(served with banana chips) , food (sandwiches, breads and desserts) service.Definitely worth a try.'},\n",
       " {'date': 'Nov 27, 2022',\n",
       "  'review': 'This rare find serves a combination of good coffee, selective baked goods and tops this with a courteous staff and excellent service! We tried the South Indian Frappe, Banana Bread, their signature Paparoti, Croissant and Latte’s - everything was delicious and would definitely recommend going here often! '},\n",
       " {'date': 'Nov 15, 2022',\n",
       "  'review': 'My new favourite place for coffeee❤️❤️The cappuccino was so good and great presentation and even the banana chips along with it was so good.The staff is so kind and they recommend the best of coffee.The double chocolate chip cookie is so wholesome and worth the price.. best cookie indeed!Now I know where to go if I’m craving for some coffee..Thank you for giving us such a great experience.'},\n",
       " {'date': 'Oct 25, 2022',\n",
       "  'review': 'This is a really cute place which serves good coffee and paparoti. I have tried the cappuccino, south indian filter coffee and hazelnut frappe and all of them are very delivered. Their staff is also very friendly and warm. A must visit place! '}]"
      ]
     },
     "execution_count": 85,
     "metadata": {},
     "output_type": "execute_result"
    }
   ],
   "source": [
    "test"
   ]
  },
  {
   "cell_type": "code",
   "execution_count": 86,
   "id": "0ea7e542-5946-4bc9-9b7e-0a7b23936c45",
   "metadata": {},
   "outputs": [],
   "source": [
    "df_test=pd.DataFrame(test)"
   ]
  },
  {
   "cell_type": "code",
   "execution_count": 87,
   "id": "fe54d4b3-46a9-4530-ba93-dc8aacd4ee05",
   "metadata": {},
   "outputs": [
    {
     "data": {
      "text/html": [
       "<div>\n",
       "<style scoped>\n",
       "    .dataframe tbody tr th:only-of-type {\n",
       "        vertical-align: middle;\n",
       "    }\n",
       "\n",
       "    .dataframe tbody tr th {\n",
       "        vertical-align: top;\n",
       "    }\n",
       "\n",
       "    .dataframe thead th {\n",
       "        text-align: right;\n",
       "    }\n",
       "</style>\n",
       "<table border=\"1\" class=\"dataframe\">\n",
       "  <thead>\n",
       "    <tr style=\"text-align: right;\">\n",
       "      <th></th>\n",
       "      <th>date</th>\n",
       "      <th>review</th>\n",
       "    </tr>\n",
       "  </thead>\n",
       "  <tbody>\n",
       "    <tr>\n",
       "      <th>0</th>\n",
       "      <td>Dec 11, 2022</td>\n",
       "      <td>A great place for coffee(served with banana ch...</td>\n",
       "    </tr>\n",
       "    <tr>\n",
       "      <th>1</th>\n",
       "      <td>Nov 27, 2022</td>\n",
       "      <td>This rare find serves a combination of good co...</td>\n",
       "    </tr>\n",
       "    <tr>\n",
       "      <th>2</th>\n",
       "      <td>Nov 15, 2022</td>\n",
       "      <td>My new favourite place for coffeee❤️❤️The capp...</td>\n",
       "    </tr>\n",
       "    <tr>\n",
       "      <th>3</th>\n",
       "      <td>Oct 25, 2022</td>\n",
       "      <td>This is a really cute place which serves good ...</td>\n",
       "    </tr>\n",
       "  </tbody>\n",
       "</table>\n",
       "</div>"
      ],
      "text/plain": [
       "           date                                             review\n",
       "0  Dec 11, 2022  A great place for coffee(served with banana ch...\n",
       "1  Nov 27, 2022  This rare find serves a combination of good co...\n",
       "2  Nov 15, 2022  My new favourite place for coffeee❤️❤️The capp...\n",
       "3  Oct 25, 2022  This is a really cute place which serves good ..."
      ]
     },
     "execution_count": 87,
     "metadata": {},
     "output_type": "execute_result"
    }
   ],
   "source": [
    "df_test"
   ]
  },
  {
   "cell_type": "code",
   "execution_count": 3,
   "id": "46ec01e9-3f01-4455-ab19-cec4658dd127",
   "metadata": {},
   "outputs": [],
   "source": [
    "from bs4 import BeautifulSoup\n",
    "import requests\n",
    "import pandas as pd\n",
    "import numpy as np"
   ]
  },
  {
   "cell_type": "code",
   "execution_count": 222,
   "id": "8988fe89-cff2-430a-a743-fc4239008daa",
   "metadata": {},
   "outputs": [
    {
     "name": "stdout",
     "output_type": "stream",
     "text": [
      "1\n",
      "data came\n"
     ]
    }
   ],
   "source": [
    "reviews=[]\n",
    "try:\n",
    "    headers = {\n",
    "        'User-Agent': 'Mozilla/5.0 (X11; Linux x86_64) AppleWebKit/537.36 (KHTML, like Gecko) Chrome/110.0.0.0 Safari/537.36'\n",
    "                    }\n",
    "\n",
    "    for page in range(1,52):\n",
    "        print(page)\n",
    "        zomato_link=f\"https://www.zomato.com/mumbai/ettarra-1-juhu/reviews?page={page}&sort=dd&filter=reviews-dd\"\n",
    "        r = requests.get(zomato_link, headers=headers)\n",
    "        if r.status_code==200:\n",
    "            print(\"data came\")\n",
    "            soup=BeautifulSoup(r.text,'html.parser')\n",
    "            results=soup.find_all('p')\n",
    "            for result in results:\n",
    "                if \"time-stamp\" in str(result):\n",
    "                    payload={\n",
    "                        'date':result.text\n",
    "                    }\n",
    "                    reviews.append(payload)\n",
    "                if \"eaqKit\" in str(result):\n",
    "                    text=result.text\n",
    "                    reviews[-1]['review']=text\n",
    "        else:\n",
    "            print(\"errrorr...\")\n",
    "        break\n",
    "except:\n",
    "    print(\"Error....\")"
   ]
  },
  {
   "cell_type": "code",
   "execution_count": 223,
   "id": "78182701-b887-4066-b39f-ba6891a6b11c",
   "metadata": {},
   "outputs": [
    {
     "data": {
      "text/plain": [
       "[{'date': '4 days ago'},\n",
       " {'date': '9 days ago'},\n",
       " {'date': '11 days ago'},\n",
       " {'date': '12 days ago'},\n",
       " {'date': '17 days ago'}]"
      ]
     },
     "execution_count": 223,
     "metadata": {},
     "output_type": "execute_result"
    }
   ],
   "source": [
    "reviews"
   ]
  },
  {
   "cell_type": "code",
   "execution_count": 224,
   "id": "3d4efd30-1167-478e-a37b-d893b0de8dc9",
   "metadata": {},
   "outputs": [
    {
     "data": {
      "text/plain": [
       "[<p class=\"sc-1hez2tp-0 sc-eSePXt gozeQs\" color=\"#EF4F5F\">Detect current location</p>,\n",
       " <p class=\"sc-1hez2tp-0 sc-aewfc jDRLCR\">Using GPS</p>,\n",
       " <p class=\"sc-1hez2tp-0 sc-hTQSVH OiOzh\">View Gallery</p>,\n",
       " <p class=\"sc-1hez2tp-0 OgtQR\">All Reviews</p>,\n",
       " <p class=\"sc-1hez2tp-0 OgtQR\">Newest First</p>,\n",
       " <p class=\"sc-1hez2tp-0 sc-bPEScg jfiICM\">Khushboo Ratnani</p>,\n",
       " <p class=\"sc-1hez2tp-0 fKvqMN time-stamp\" color=\"#9C9C9C\">4 days ago</p>,\n",
       " <p class=\"sc-1hez2tp-0 sc-jUiVId cPcaNz\">Many stories with the place,,,,, it has this unexplained vibe which attracts me everytime and to be specific, I have got all my special friends to visit her</p>,\n",
       " <p class=\"sc-1hez2tp-0 fKvqMN\" color=\"#9C9C9C\">0<!-- --> <!-- -->Votes for helpful<!-- -->, <!-- -->1<!-- --> <!-- -->Comment</p>,\n",
       " <p class=\"sc-1hez2tp-0 sc-bPEScg jfiICM\">Renu Joshi</p>,\n",
       " <p class=\"sc-1hez2tp-0 fKvqMN time-stamp\" color=\"#9C9C9C\">9 days ago</p>,\n",
       " <p class=\"sc-1hez2tp-0 sc-jUiVId cPcaNz\">You forgot to send sugar with coffee/the rest of your coffee is good</p>,\n",
       " <p class=\"sc-1hez2tp-0 fKvqMN\" color=\"#9C9C9C\">0<!-- --> <!-- -->Votes for helpful<!-- -->, <!-- -->1<!-- --> <!-- -->Comment</p>,\n",
       " <p class=\"sc-1hez2tp-0 sc-bPEScg jfiICM\">Vedant</p>,\n",
       " <p class=\"sc-1hez2tp-0 fKvqMN time-stamp\" color=\"#9C9C9C\">11 days ago</p>,\n",
       " <p class=\"sc-1hez2tp-0 sc-jUiVId cPcaNz\">The filter coffee was brilliant and so were snacks. We had the drizzled paparoti and Nutella Berliner which were lip smacking good. They serve complimentary banana chips which were one of the best I have had in a while. Asif Sheikh- our server was very courteous.</p>,\n",
       " <p class=\"sc-1hez2tp-0 fKvqMN\" color=\"#9C9C9C\">0<!-- --> <!-- -->Votes for helpful<!-- -->, <!-- -->1<!-- --> <!-- -->Comment</p>,\n",
       " <p class=\"sc-1hez2tp-0 sc-bPEScg jfiICM\">Archis</p>,\n",
       " <p class=\"sc-1hez2tp-0 fKvqMN time-stamp\" color=\"#9C9C9C\">12 days ago</p>,\n",
       " <p class=\"sc-1hez2tp-0 sc-jUiVId cPcaNz\">One of the best places to go to, for a vibe, indie music, and some of the most amazing coffees. If you do come here do try the tarts.</p>,\n",
       " <p class=\"sc-1hez2tp-0 fKvqMN\" color=\"#9C9C9C\">0<!-- --> <!-- -->Votes for helpful<!-- -->, <!-- -->1<!-- --> <!-- -->Comment</p>,\n",
       " <p class=\"sc-1hez2tp-0 sc-bPEScg jfiICM\">Akash Negandhi</p>,\n",
       " <p class=\"sc-1hez2tp-0 fKvqMN time-stamp\" color=\"#9C9C9C\">17 days ago</p>,\n",
       " <p class=\"sc-1hez2tp-0 sc-jUiVId cPcaNz\">Enjoyed the whole experience! Special mention to Asif for catering us</p>,\n",
       " <p class=\"sc-1hez2tp-0 fKvqMN\" color=\"#9C9C9C\">0<!-- --> <!-- -->Votes for helpful<!-- -->, <!-- -->1<!-- --> <!-- -->Comment</p>,\n",
       " <p class=\"sc-elhb8j-16 dxcfRo\">Who We Are</p>,\n",
       " <p class=\"sc-elhb8j-16 dxcfRo\">Blog</p>,\n",
       " <p class=\"sc-elhb8j-16 dxcfRo\">Work With Us</p>,\n",
       " <p class=\"sc-elhb8j-16 dxcfRo\">Investor Relations</p>,\n",
       " <p class=\"sc-elhb8j-16 dxcfRo\">Report Fraud</p>,\n",
       " <p class=\"sc-elhb8j-16 dxcfRo\">Press Kit</p>,\n",
       " <p class=\"sc-elhb8j-16 dxcfRo\">Contact Us</p>,\n",
       " <p class=\"sc-elhb8j-16 dxcfRo\">Zomato</p>,\n",
       " <p class=\"sc-elhb8j-16 dxcfRo\">Blinkit</p>,\n",
       " <p class=\"sc-elhb8j-16 dxcfRo\">Feeding India</p>,\n",
       " <p class=\"sc-elhb8j-16 dxcfRo\">Hyperpure</p>,\n",
       " <p class=\"sc-elhb8j-16 dxcfRo\">Zomaland</p>,\n",
       " <p class=\"sc-elhb8j-16 dxcfRo\">Partner With Us</p>,\n",
       " <p class=\"sc-elhb8j-16 dxcfRo\">Apps For You</p>,\n",
       " <p class=\"sc-elhb8j-16 dxcfRo\">Privacy</p>,\n",
       " <p class=\"sc-elhb8j-16 dxcfRo\">Security</p>,\n",
       " <p class=\"sc-elhb8j-16 dxcfRo\">Terms</p>,\n",
       " <p class=\"sc-elhb8j-16 dxcfRo\">Sitemap</p>,\n",
       " <p class=\"sc-elhb8j-5 kBllqA\">By continuing past this page, you agree to our Terms of Service, Cookie Policy, Privacy Policy and Content Policies. All trademarks are properties of their respective owners. 2008-2024 © Zomato™ Ltd. All rights reserved.</p>]"
      ]
     },
     "execution_count": 224,
     "metadata": {},
     "output_type": "execute_result"
    }
   ],
   "source": [
    "results"
   ]
  },
  {
   "cell_type": "code",
   "execution_count": null,
   "id": "a4d51623-77e2-4a1a-8353-180591fdfeb4",
   "metadata": {},
   "outputs": [],
   "source": [
    "sc-1hez2tp-0 sc-bqxpbV"
   ]
  },
  {
   "cell_type": "code",
   "execution_count": 120,
   "id": "ec8bed34-f66f-4bec-bd42-9c025fe04e33",
   "metadata": {},
   "outputs": [
    {
     "data": {
      "text/plain": [
       "'<p class=\"sc-1hez2tp-0 sc-fCPvlr dbaWnN\" color=\"#EF4F5F\">Detect current location</p>\\n<p class=\"sc-1hez2tp-0 sc-hAXbOi jJsAxK\">Using GPS</p>\\n<p class=\"sc-1hez2tp-0 sc-bYTsla hUkOLL\">View Gallery</p>\\n<p class=\"sc-1hez2tp-0 OgtQR\">All Reviews</p>\\n<p class=\"sc-1hez2tp-0 OgtQR\">Newest First</p>\\n<p class=\"sc-1hez2tp-0 sc-kxixoS cCpJEb\">Khushboo Ratnani</p>\\n<p class=\"sc-1hez2tp-0 fKvqMN time-stamp\" color=\"#9C9C9C\">4 days ago</p>\\n<p class=\"sc-1hez2tp-0 sc-bIGiiI lkYVrq\">Many stories with the place,,,,, it has this unexplained vibe which attracts me everytime and to be specific, I have got all my special friends to visit her</p>\\n<p class=\"sc-1hez2tp-0 fKvqMN\" color=\"#9C9C9C\">0<!-- --> <!-- -->Votes for helpful<!-- -->, <!-- -->1<!-- --> <!-- -->Comment</p>\\n<p class=\"sc-1hez2tp-0 sc-kxixoS cCpJEb\">Renu Joshi</p>\\n<p class=\"sc-1hez2tp-0 fKvqMN time-stamp\" color=\"#9C9C9C\">9 days ago</p>\\n<p class=\"sc-1hez2tp-0 sc-bIGiiI lkYVrq\">You forgot to send sugar with coffee/the rest of your coffee is good</p>\\n<p class=\"sc-1hez2tp-0 fKvqMN\" color=\"#9C9C9C\">0<!-- --> <!-- -->Votes for helpful<!-- -->, <!-- -->1<!-- --> <!-- -->Comment</p>\\n<p class=\"sc-1hez2tp-0 sc-kxixoS cCpJEb\">Vedant</p>\\n<p class=\"sc-1hez2tp-0 fKvqMN time-stamp\" color=\"#9C9C9C\">11 days ago</p>\\n<p class=\"sc-1hez2tp-0 sc-bIGiiI lkYVrq\">The filter coffee was brilliant and so were snacks. We had the drizzled paparoti and Nutella Berliner which were lip smacking good. They serve complimentary banana chips which were one of the best I have had in a while. Asif Sheikh- our server was very courteous.</p>\\n<p class=\"sc-1hez2tp-0 fKvqMN\" color=\"#9C9C9C\">0<!-- --> <!-- -->Votes for helpful<!-- -->, <!-- -->1<!-- --> <!-- -->Comment</p>\\n<p class=\"sc-1hez2tp-0 sc-kxixoS cCpJEb\">Archis</p>\\n<p class=\"sc-1hez2tp-0 fKvqMN time-stamp\" color=\"#9C9C9C\">12 days ago</p>\\n<p class=\"sc-1hez2tp-0 sc-bIGiiI lkYVrq\">One of the best places to go to, for a vibe, indie music, and some of the most amazing coffees. If you do come here do try the tarts.</p>\\n<p class=\"sc-1hez2tp-0 fKvqMN\" color=\"#9C9C9C\">0<!-- --> <!-- -->Votes for helpful<!-- -->, <!-- -->1<!-- --> <!-- -->Comment</p>\\n<p class=\"sc-1hez2tp-0 sc-kxixoS cCpJEb\">Akash Negandhi</p>\\n<p class=\"sc-1hez2tp-0 fKvqMN time-stamp\" color=\"#9C9C9C\">17 days ago</p>\\n<p class=\"sc-1hez2tp-0 sc-bIGiiI lkYVrq\">Enjoyed the whole experience! Special mention to Asif for catering us</p>\\n<p class=\"sc-1hez2tp-0 fKvqMN\" color=\"#9C9C9C\">0<!-- --> <!-- -->Votes for helpful<!-- -->, <!-- -->1<!-- --> <!-- -->Comment</p>\\n<p class=\"sc-elhb8j-16 dxcfRo\">Who We Are</p>\\n<p class=\"sc-elhb8j-16 dxcfRo\">Blog</p>\\n<p class=\"sc-elhb8j-16 dxcfRo\">Work With Us</p>\\n<p class=\"sc-elhb8j-16 dxcfRo\">Investor Relations</p>\\n<p class=\"sc-elhb8j-16 dxcfRo\">Report Fraud</p>\\n<p class=\"sc-elhb8j-16 dxcfRo\">Press Kit</p>\\n<p class=\"sc-elhb8j-16 dxcfRo\">Contact Us</p>\\n<p class=\"sc-elhb8j-16 dxcfRo\">Zomato</p>\\n<p class=\"sc-elhb8j-16 dxcfRo\">Blinkit</p>\\n<p class=\"sc-elhb8j-16 dxcfRo\">Feeding India</p>\\n<p class=\"sc-elhb8j-16 dxcfRo\">Hyperpure</p>\\n<p class=\"sc-elhb8j-16 dxcfRo\">Zomaland</p>\\n<p class=\"sc-elhb8j-16 dxcfRo\">Partner With Us</p>\\n<p class=\"sc-elhb8j-16 dxcfRo\">Apps For You</p>\\n<p class=\"sc-elhb8j-16 dxcfRo\">Privacy</p>\\n<p class=\"sc-elhb8j-16 dxcfRo\">Security</p>\\n<p class=\"sc-elhb8j-16 dxcfRo\">Terms</p>\\n<p class=\"sc-elhb8j-16 dxcfRo\">Sitemap</p>\\n<p class=\"sc-elhb8j-5 kBllqA\">By continuing past this page, you agree to our Terms of Service, Cookie Policy, Privacy Policy and Content Policies. All trademarks are properties of their respective owners. 2008-2024 © Zomato™ Ltd. All rights reserved.</p>'"
      ]
     },
     "execution_count": 120,
     "metadata": {},
     "output_type": "execute_result"
    }
   ],
   "source": [
    "\"\\n\".join(list(map(str,results)))"
   ]
  },
  {
   "cell_type": "code",
   "execution_count": 107,
   "id": "0d03cd92-8cf5-445c-9bc8-bd0b0099c290",
   "metadata": {
    "scrolled": true
   },
   "outputs": [
    {
     "data": {
      "text/html": [
       "<div>\n",
       "<style scoped>\n",
       "    .dataframe tbody tr th:only-of-type {\n",
       "        vertical-align: middle;\n",
       "    }\n",
       "\n",
       "    .dataframe tbody tr th {\n",
       "        vertical-align: top;\n",
       "    }\n",
       "\n",
       "    .dataframe thead th {\n",
       "        text-align: right;\n",
       "    }\n",
       "</style>\n",
       "<table border=\"1\" class=\"dataframe\">\n",
       "  <thead>\n",
       "    <tr style=\"text-align: right;\">\n",
       "      <th></th>\n",
       "      <th>date</th>\n",
       "      <th>review</th>\n",
       "    </tr>\n",
       "  </thead>\n",
       "  <tbody>\n",
       "    <tr>\n",
       "      <th>0</th>\n",
       "      <td>4 days ago</td>\n",
       "      <td>NaN</td>\n",
       "    </tr>\n",
       "    <tr>\n",
       "      <th>1</th>\n",
       "      <td>9 days ago</td>\n",
       "      <td>NaN</td>\n",
       "    </tr>\n",
       "    <tr>\n",
       "      <th>2</th>\n",
       "      <td>11 days ago</td>\n",
       "      <td>NaN</td>\n",
       "    </tr>\n",
       "    <tr>\n",
       "      <th>3</th>\n",
       "      <td>12 days ago</td>\n",
       "      <td>NaN</td>\n",
       "    </tr>\n",
       "    <tr>\n",
       "      <th>4</th>\n",
       "      <td>17 days ago</td>\n",
       "      <td>NaN</td>\n",
       "    </tr>\n",
       "    <tr>\n",
       "      <th>...</th>\n",
       "      <td>...</td>\n",
       "      <td>...</td>\n",
       "    </tr>\n",
       "    <tr>\n",
       "      <th>249</th>\n",
       "      <td>Dec 22, 2022</td>\n",
       "      <td>NaN</td>\n",
       "    </tr>\n",
       "    <tr>\n",
       "      <th>250</th>\n",
       "      <td>Dec 11, 2022</td>\n",
       "      <td>NaN</td>\n",
       "    </tr>\n",
       "    <tr>\n",
       "      <th>251</th>\n",
       "      <td>Nov 27, 2022</td>\n",
       "      <td>NaN</td>\n",
       "    </tr>\n",
       "    <tr>\n",
       "      <th>252</th>\n",
       "      <td>Nov 15, 2022</td>\n",
       "      <td>NaN</td>\n",
       "    </tr>\n",
       "    <tr>\n",
       "      <th>253</th>\n",
       "      <td>Oct 25, 2022</td>\n",
       "      <td>NaN</td>\n",
       "    </tr>\n",
       "  </tbody>\n",
       "</table>\n",
       "<p>254 rows × 2 columns</p>\n",
       "</div>"
      ],
      "text/plain": [
       "             date review\n",
       "0      4 days ago    NaN\n",
       "1      9 days ago    NaN\n",
       "2     11 days ago    NaN\n",
       "3     12 days ago    NaN\n",
       "4     17 days ago    NaN\n",
       "..            ...    ...\n",
       "249  Dec 22, 2022    NaN\n",
       "250  Dec 11, 2022    NaN\n",
       "251  Nov 27, 2022    NaN\n",
       "252  Nov 15, 2022    NaN\n",
       "253  Oct 25, 2022    NaN\n",
       "\n",
       "[254 rows x 2 columns]"
      ]
     },
     "execution_count": 107,
     "metadata": {},
     "output_type": "execute_result"
    }
   ],
   "source": [
    "df=pd.DataFrame(reviews)\n",
    "df"
   ]
  },
  {
   "cell_type": "code",
   "execution_count": null,
   "id": "23c1432b-78e0-469b-ae77-7401caa3dd01",
   "metadata": {},
   "outputs": [],
   "source": []
  },
  {
   "cell_type": "code",
   "execution_count": null,
   "id": "1b21b483-c174-443e-b72b-0c92a555cbfb",
   "metadata": {},
   "outputs": [],
   "source": []
  },
  {
   "cell_type": "code",
   "execution_count": 173,
   "id": "35e0c40f-471b-497c-b9ba-10fcf6d5c13f",
   "metadata": {},
   "outputs": [],
   "source": [
    "import datetime"
   ]
  },
  {
   "cell_type": "code",
   "execution_count": 174,
   "id": "bdd4567d-d289-4529-b222-a94265e90801",
   "metadata": {},
   "outputs": [],
   "source": [
    "date=datetime.datetime.now()"
   ]
  },
  {
   "cell_type": "code",
   "execution_count": 175,
   "id": "cffd9f67-e5be-4b26-929e-e443f64752b6",
   "metadata": {},
   "outputs": [],
   "source": [
    "today_date=f\"{date.day}/{date.month}/{date.year}\""
   ]
  },
  {
   "cell_type": "code",
   "execution_count": 176,
   "id": "10b1c5fc-bd19-4ae1-b54d-a66a27a16886",
   "metadata": {},
   "outputs": [
    {
     "data": {
      "text/plain": [
       "'6/6/2024'"
      ]
     },
     "execution_count": 176,
     "metadata": {},
     "output_type": "execute_result"
    }
   ],
   "source": [
    "today_date"
   ]
  },
  {
   "cell_type": "code",
   "execution_count": 180,
   "id": "55f1e374-f39a-46e2-a190-4242f6d6b861",
   "metadata": {},
   "outputs": [],
   "source": [
    "import openai\n",
    "openai.api_key = \"\"  # Add your OpenAI API key here\n",
    "\n",
    "\n",
    "\n",
    "\n"
   ]
  },
  {
   "cell_type": "code",
   "execution_count": 225,
   "id": "634c94d2-1de6-43ac-be75-8f86bee406e4",
   "metadata": {},
   "outputs": [],
   "source": [
    "def give_reviews(input):\n",
    "    messages = [\n",
    "        {\"role\": \"user\",\n",
    "         \"content\": f\"you are html page analyzer and analyze the page give and extract all the reviews and date of review and give te results in proper json \"+\"format like data:[{date: date of the review,review:review given}]\"},\n",
    "    ]\n",
    "\n",
    "    messages.append({\"role\": \"user\", \"content\": f\"{input}\"})\n",
    "    completion = openai.ChatCompletion.create(\n",
    "        model=\"gpt-3.5-turbo\",\n",
    "        messages=messages\n",
    "    )\n",
    "    reply = completion.choices[0].message.content\n",
    "    \n",
    "    return reply"
   ]
  },
  {
   "cell_type": "code",
   "execution_count": 226,
   "id": "b899e57b-ac97-4499-bf1e-9a6c0ca31a7e",
   "metadata": {},
   "outputs": [],
   "source": [
    "data=give_reviews(\"\\n\".join(list(map(str,results))))"
   ]
  },
  {
   "cell_type": "code",
   "execution_count": 227,
   "id": "b2ba2da1-c7b6-48b9-9dc0-f23d65bf2496",
   "metadata": {},
   "outputs": [
    {
     "data": {
      "text/plain": [
       "[{'date': '4 days ago',\n",
       "  'review': 'Many stories with the place,,,,, it has this unexplained vibe which attracts me everytime and to be specific, I have got all my special friends to visit her'},\n",
       " {'date': '9 days ago',\n",
       "  'review': 'You forgot to send sugar with coffee/the rest of your coffee is good'},\n",
       " {'date': '11 days ago',\n",
       "  'review': 'The filter coffee was brilliant and so were snacks. We had the drizzled paparoti and Nutella Berliner which were lip smacking good. They serve complimentary banana chips which were one of the best I have had in a while. Asif Sheikh- our server was very courteous.'},\n",
       " {'date': '12 days ago',\n",
       "  'review': 'One of the best places to go to, for a vibe, indie music, and some of the most amazing coffees. If you do come here do try the tarts.'},\n",
       " {'date': '17 days ago',\n",
       "  'review': 'Enjoyed the whole experience! Special mention to Asif for catering us'}]"
      ]
     },
     "execution_count": 227,
     "metadata": {},
     "output_type": "execute_result"
    }
   ],
   "source": [
    "json.loads(data[8:-4])['data']"
   ]
  },
  {
   "cell_type": "code",
   "execution_count": 139,
   "id": "75b6ae1a-6af5-4648-b4e8-fb943011b178",
   "metadata": {},
   "outputs": [],
   "source": [
    "import json"
   ]
  },
  {
   "cell_type": "code",
   "execution_count": 188,
   "id": "fd94ad4a-28e9-4a26-88a6-1b47d2330abe",
   "metadata": {},
   "outputs": [
    {
     "data": {
      "text/plain": [
       "[<p class=\"sc-1hez2tp-0 sc-fCPvlr dbaWnN\" color=\"#EF4F5F\">Detect current location</p>,\n",
       " <p class=\"sc-1hez2tp-0 sc-hAXbOi jJsAxK\">Using GPS</p>,\n",
       " <p class=\"sc-1hez2tp-0 sc-bYTsla hUkOLL\">View Gallery</p>,\n",
       " <p class=\"sc-1hez2tp-0 OgtQR\">All Reviews</p>,\n",
       " <p class=\"sc-1hez2tp-0 OgtQR\">Newest First</p>,\n",
       " <p class=\"sc-1hez2tp-0 sc-fPCuyW hWkbSv\">Khushboo Ratnani</p>,\n",
       " <p class=\"sc-1hez2tp-0 fKvqMN time-stamp\" color=\"#9C9C9C\">4 days ago</p>,\n",
       " <p class=\"sc-1hez2tp-0 sc-rzOft eaqKit\">Many stories with the place,,,,, it has this unexplained vibe which attracts me everytime and to be specific, I have got all my special friends to visit her</p>,\n",
       " <p class=\"sc-1hez2tp-0 fKvqMN\" color=\"#9C9C9C\">0<!-- --> <!-- -->Votes for helpful<!-- -->, <!-- -->1<!-- --> <!-- -->Comment</p>,\n",
       " <p class=\"sc-1hez2tp-0 sc-fPCuyW hWkbSv\">Renu Joshi</p>,\n",
       " <p class=\"sc-1hez2tp-0 fKvqMN time-stamp\" color=\"#9C9C9C\">9 days ago</p>,\n",
       " <p class=\"sc-1hez2tp-0 sc-rzOft eaqKit\">You forgot to send sugar with coffee/the rest of your coffee is good</p>,\n",
       " <p class=\"sc-1hez2tp-0 fKvqMN\" color=\"#9C9C9C\">0<!-- --> <!-- -->Votes for helpful<!-- -->, <!-- -->1<!-- --> <!-- -->Comment</p>,\n",
       " <p class=\"sc-1hez2tp-0 sc-fPCuyW hWkbSv\">Vedant</p>,\n",
       " <p class=\"sc-1hez2tp-0 fKvqMN time-stamp\" color=\"#9C9C9C\">11 days ago</p>,\n",
       " <p class=\"sc-1hez2tp-0 sc-rzOft eaqKit\">The filter coffee was brilliant and so were snacks. We had the drizzled paparoti and Nutella Berliner which were lip smacking good. They serve complimentary banana chips which were one of the best I have had in a while. Asif Sheikh- our server was very courteous.</p>,\n",
       " <p class=\"sc-1hez2tp-0 fKvqMN\" color=\"#9C9C9C\">0<!-- --> <!-- -->Votes for helpful<!-- -->, <!-- -->1<!-- --> <!-- -->Comment</p>,\n",
       " <p class=\"sc-1hez2tp-0 sc-fPCuyW hWkbSv\">Archis</p>,\n",
       " <p class=\"sc-1hez2tp-0 fKvqMN time-stamp\" color=\"#9C9C9C\">12 days ago</p>,\n",
       " <p class=\"sc-1hez2tp-0 sc-rzOft eaqKit\">One of the best places to go to, for a vibe, indie music, and some of the most amazing coffees. If you do come here do try the tarts.</p>,\n",
       " <p class=\"sc-1hez2tp-0 fKvqMN\" color=\"#9C9C9C\">0<!-- --> <!-- -->Votes for helpful<!-- -->, <!-- -->1<!-- --> <!-- -->Comment</p>,\n",
       " <p class=\"sc-1hez2tp-0 sc-fPCuyW hWkbSv\">Akash Negandhi</p>,\n",
       " <p class=\"sc-1hez2tp-0 fKvqMN time-stamp\" color=\"#9C9C9C\">17 days ago</p>,\n",
       " <p class=\"sc-1hez2tp-0 sc-rzOft eaqKit\">Enjoyed the whole experience! Special mention to Asif for catering us</p>,\n",
       " <p class=\"sc-1hez2tp-0 fKvqMN\" color=\"#9C9C9C\">0<!-- --> <!-- -->Votes for helpful<!-- -->, <!-- -->1<!-- --> <!-- -->Comment</p>,\n",
       " <p class=\"sc-elhb8j-16 dxcfRo\">Who We Are</p>,\n",
       " <p class=\"sc-elhb8j-16 dxcfRo\">Blog</p>,\n",
       " <p class=\"sc-elhb8j-16 dxcfRo\">Work With Us</p>,\n",
       " <p class=\"sc-elhb8j-16 dxcfRo\">Investor Relations</p>,\n",
       " <p class=\"sc-elhb8j-16 dxcfRo\">Report Fraud</p>,\n",
       " <p class=\"sc-elhb8j-16 dxcfRo\">Press Kit</p>,\n",
       " <p class=\"sc-elhb8j-16 dxcfRo\">Contact Us</p>,\n",
       " <p class=\"sc-elhb8j-16 dxcfRo\">Zomato</p>,\n",
       " <p class=\"sc-elhb8j-16 dxcfRo\">Blinkit</p>,\n",
       " <p class=\"sc-elhb8j-16 dxcfRo\">Feeding India</p>,\n",
       " <p class=\"sc-elhb8j-16 dxcfRo\">Hyperpure</p>,\n",
       " <p class=\"sc-elhb8j-16 dxcfRo\">Zomaland</p>,\n",
       " <p class=\"sc-elhb8j-16 dxcfRo\">Partner With Us</p>,\n",
       " <p class=\"sc-elhb8j-16 dxcfRo\">Apps For You</p>,\n",
       " <p class=\"sc-elhb8j-16 dxcfRo\">Privacy</p>,\n",
       " <p class=\"sc-elhb8j-16 dxcfRo\">Security</p>,\n",
       " <p class=\"sc-elhb8j-16 dxcfRo\">Terms</p>,\n",
       " <p class=\"sc-elhb8j-16 dxcfRo\">Sitemap</p>,\n",
       " <p class=\"sc-elhb8j-5 kBllqA\">By continuing past this page, you agree to our Terms of Service, Cookie Policy, Privacy Policy and Content Policies. All trademarks are properties of their respective owners. 2008-2024 © Zomato™ Ltd. All rights reserved.</p>]"
      ]
     },
     "execution_count": 188,
     "metadata": {},
     "output_type": "execute_result"
    }
   ],
   "source": []
  },
  {
   "cell_type": "code",
   "execution_count": 2,
   "id": "42ec3ed6-49d2-4348-9c33-191e6ca185a7",
   "metadata": {},
   "outputs": [],
   "source": [
    "from time import sleep"
   ]
  },
  {
   "cell_type": "code",
   "execution_count": 17,
   "id": "2d69acb0-81f6-46ca-871f-7be9ee230eb4",
   "metadata": {},
   "outputs": [
    {
     "name": "stdout",
     "output_type": "stream",
     "text": [
      "1\n",
      "data came\n",
      "2\n",
      "data came\n",
      "3\n",
      "data came\n",
      "4\n",
      "data came\n",
      "5\n",
      "data came\n",
      "6\n",
      "data came\n",
      "7\n",
      "data came\n",
      "8\n",
      "data came\n",
      "9\n",
      "data came\n",
      "10\n",
      "data came\n",
      "11\n",
      "data came\n",
      "12\n",
      "data came\n",
      "13\n",
      "data came\n",
      "14\n",
      "data came\n",
      "15\n",
      "data came\n",
      "16\n",
      "data came\n",
      "17\n",
      "data came\n",
      "18\n",
      "data came\n",
      "19\n",
      "data came\n",
      "20\n",
      "data came\n",
      "21\n",
      "data came\n",
      "22\n",
      "data came\n",
      "23\n",
      "data came\n",
      "24\n",
      "data came\n",
      "25\n",
      "data came\n",
      "26\n",
      "data came\n",
      "27\n",
      "data came\n",
      "28\n",
      "data came\n",
      "29\n",
      "data came\n",
      "30\n",
      "data came\n",
      "31\n",
      "data came\n",
      "32\n",
      "data came\n",
      "33\n",
      "data came\n",
      "34\n",
      "data came\n",
      "35\n",
      "data came\n",
      "36\n",
      "data came\n",
      "37\n",
      "data came\n",
      "38\n",
      "data came\n",
      "39\n",
      "data came\n",
      "40\n",
      "data came\n",
      "41\n",
      "data came\n",
      "42\n",
      "data came\n",
      "43\n",
      "data came\n",
      "44\n",
      "data came\n",
      "45\n",
      "data came\n",
      "46\n",
      "data came\n",
      "47\n",
      "data came\n",
      "48\n",
      "data came\n",
      "49\n",
      "data came\n",
      "50\n",
      "data came\n",
      "51\n",
      "data came\n"
     ]
    }
   ],
   "source": [
    "reviews=[]\n",
    "html_results=[]\n",
    "headers = {\n",
    "    'User-Agent': 'Mozilla/5.0 (X11; Linux x86_64) AppleWebKit/537.36 (KHTML, like Gecko) Chrome/110.0.0.0 Safari/537.36'\n",
    "                }\n",
    "\n",
    "for page in range(1,52):\n",
    "    print(page)\n",
    "    zomato_link=f\"https://www.zomato.com/mumbai/ettarra-1-juhu/reviews?page={page}&sort=dd&filter=reviews-dd\"\n",
    "    r = requests.get(zomato_link, headers=headers)\n",
    "    if r.status_code==200:\n",
    "        print(\"data came\")\n",
    "        soup=BeautifulSoup(r.text,'html.parser')\n",
    "        results=soup.select('p[class*=\"sc-1hez2tp-0\"]')\n",
    "        html_results+=results\n",
    "        for number,result in enumerate(results):\n",
    "            if 'time-stamp' in str(result):\n",
    "                payload={\n",
    "                    'date':result.text,\n",
    "                    'review':results[number+1].text\n",
    "                }\n",
    "                reviews.append(payload)\n",
    "                \n",
    "        # data=give_reviews(\"\\n\".join(list(map(str,results))))\n",
    "        # reviews=reviews+json.loads(data[8:-4])['data']\n",
    "    else:\n",
    "        print(\"errrorr...\")"
   ]
  },
  {
   "cell_type": "code",
   "execution_count": 19,
   "id": "9d9d6e06-6998-47c2-86e4-21e9984128e2",
   "metadata": {},
   "outputs": [
    {
     "data": {
      "text/html": [
       "<div>\n",
       "<style scoped>\n",
       "    .dataframe tbody tr th:only-of-type {\n",
       "        vertical-align: middle;\n",
       "    }\n",
       "\n",
       "    .dataframe tbody tr th {\n",
       "        vertical-align: top;\n",
       "    }\n",
       "\n",
       "    .dataframe thead th {\n",
       "        text-align: right;\n",
       "    }\n",
       "</style>\n",
       "<table border=\"1\" class=\"dataframe\">\n",
       "  <thead>\n",
       "    <tr style=\"text-align: right;\">\n",
       "      <th></th>\n",
       "      <th>date</th>\n",
       "      <th>review</th>\n",
       "    </tr>\n",
       "  </thead>\n",
       "  <tbody>\n",
       "    <tr>\n",
       "      <th>0</th>\n",
       "      <td>4 days ago</td>\n",
       "      <td>Many stories with the place,,,,, it has this u...</td>\n",
       "    </tr>\n",
       "    <tr>\n",
       "      <th>1</th>\n",
       "      <td>10 days ago</td>\n",
       "      <td>You forgot to send sugar with coffee/the rest ...</td>\n",
       "    </tr>\n",
       "    <tr>\n",
       "      <th>2</th>\n",
       "      <td>12 days ago</td>\n",
       "      <td>The filter coffee was brilliant and so were sn...</td>\n",
       "    </tr>\n",
       "    <tr>\n",
       "      <th>3</th>\n",
       "      <td>12 days ago</td>\n",
       "      <td>One of the best places to go to, for a vibe, i...</td>\n",
       "    </tr>\n",
       "    <tr>\n",
       "      <th>4</th>\n",
       "      <td>17 days ago</td>\n",
       "      <td>Enjoyed the whole experience! Special mention ...</td>\n",
       "    </tr>\n",
       "    <tr>\n",
       "      <th>...</th>\n",
       "      <td>...</td>\n",
       "      <td>...</td>\n",
       "    </tr>\n",
       "    <tr>\n",
       "      <th>249</th>\n",
       "      <td>Dec 22, 2022</td>\n",
       "      <td>Amazing coffee experience at this place . Have...</td>\n",
       "    </tr>\n",
       "    <tr>\n",
       "      <th>250</th>\n",
       "      <td>Dec 11, 2022</td>\n",
       "      <td>fresh food</td>\n",
       "    </tr>\n",
       "    <tr>\n",
       "      <th>251</th>\n",
       "      <td>Nov 27, 2022</td>\n",
       "      <td>This rare find serves a combination of good co...</td>\n",
       "    </tr>\n",
       "    <tr>\n",
       "      <th>252</th>\n",
       "      <td>Nov 15, 2022</td>\n",
       "      <td>elaborate menu</td>\n",
       "    </tr>\n",
       "    <tr>\n",
       "      <th>253</th>\n",
       "      <td>Oct 25, 2022</td>\n",
       "      <td>This is a really cute place which serves good ...</td>\n",
       "    </tr>\n",
       "  </tbody>\n",
       "</table>\n",
       "<p>254 rows × 2 columns</p>\n",
       "</div>"
      ],
      "text/plain": [
       "             date                                             review\n",
       "0      4 days ago  Many stories with the place,,,,, it has this u...\n",
       "1     10 days ago  You forgot to send sugar with coffee/the rest ...\n",
       "2     12 days ago  The filter coffee was brilliant and so were sn...\n",
       "3     12 days ago  One of the best places to go to, for a vibe, i...\n",
       "4     17 days ago  Enjoyed the whole experience! Special mention ...\n",
       "..            ...                                                ...\n",
       "249  Dec 22, 2022  Amazing coffee experience at this place . Have...\n",
       "250  Dec 11, 2022                                         fresh food\n",
       "251  Nov 27, 2022  This rare find serves a combination of good co...\n",
       "252  Nov 15, 2022                                     elaborate menu\n",
       "253  Oct 25, 2022  This is a really cute place which serves good ...\n",
       "\n",
       "[254 rows x 2 columns]"
      ]
     },
     "execution_count": 19,
     "metadata": {},
     "output_type": "execute_result"
    }
   ],
   "source": [
    "df=pd.DataFrame(reviews)\n",
    "df"
   ]
  },
  {
   "cell_type": "code",
   "execution_count": 1,
   "id": "39bf778f-f977-4b5d-8efe-766e91562fcb",
   "metadata": {},
   "outputs": [],
   "source": [
    "import numpy as np"
   ]
  },
  {
   "cell_type": "code",
   "execution_count": 6,
   "id": "77ae4719-4eac-4fcb-864b-425a75653327",
   "metadata": {},
   "outputs": [
    {
     "ename": "NameError",
     "evalue": "name 'df' is not defined",
     "output_type": "error",
     "traceback": [
      "\u001b[1;31m---------------------------------------------------------------------------\u001b[0m",
      "\u001b[1;31mNameError\u001b[0m                                 Traceback (most recent call last)",
      "Cell \u001b[1;32mIn[6], line 1\u001b[0m\n\u001b[1;32m----> 1\u001b[0m \u001b[43mdf\u001b[49m\u001b[38;5;241m.\u001b[39mto_csv(\u001b[38;5;124m\"\u001b[39m\u001b[38;5;124mettara_zomato_reviews.csv\u001b[39m\u001b[38;5;124m\"\u001b[39m,index\u001b[38;5;241m=\u001b[39m\u001b[38;5;28;01mFalse\u001b[39;00m)\n",
      "\u001b[1;31mNameError\u001b[0m: name 'df' is not defined"
     ]
    }
   ],
   "source": [
    "df.to_csv(\"ettara_zomato_reviews.csv\",index=False)"
   ]
  },
  {
   "cell_type": "code",
   "execution_count": 7,
   "id": "13af6dab-b138-47eb-8687-5951ddfa58cd",
   "metadata": {},
   "outputs": [],
   "source": [
    "df=pd.read_csv(\"ettara_zomato_reviews.csv\")"
   ]
  },
  {
   "cell_type": "code",
   "execution_count": 8,
   "id": "de1ca071-9e77-4c96-8b1a-9444cf1e832e",
   "metadata": {},
   "outputs": [],
   "source": [
    "df['review']=df['review'].apply(lambda x : np.NaN if x==\"\" else x)"
   ]
  },
  {
   "cell_type": "code",
   "execution_count": 9,
   "id": "2b52ed52-70c0-42bf-9213-8ededc3a5cc2",
   "metadata": {},
   "outputs": [
    {
     "data": {
      "text/html": [
       "<div>\n",
       "<style scoped>\n",
       "    .dataframe tbody tr th:only-of-type {\n",
       "        vertical-align: middle;\n",
       "    }\n",
       "\n",
       "    .dataframe tbody tr th {\n",
       "        vertical-align: top;\n",
       "    }\n",
       "\n",
       "    .dataframe thead th {\n",
       "        text-align: right;\n",
       "    }\n",
       "</style>\n",
       "<table border=\"1\" class=\"dataframe\">\n",
       "  <thead>\n",
       "    <tr style=\"text-align: right;\">\n",
       "      <th></th>\n",
       "      <th>date</th>\n",
       "      <th>review</th>\n",
       "    </tr>\n",
       "  </thead>\n",
       "  <tbody>\n",
       "    <tr>\n",
       "      <th>0</th>\n",
       "      <td>4 days ago</td>\n",
       "      <td>Many stories with the place,,,,, it has this u...</td>\n",
       "    </tr>\n",
       "    <tr>\n",
       "      <th>1</th>\n",
       "      <td>10 days ago</td>\n",
       "      <td>You forgot to send sugar with coffee/the rest ...</td>\n",
       "    </tr>\n",
       "    <tr>\n",
       "      <th>2</th>\n",
       "      <td>12 days ago</td>\n",
       "      <td>The filter coffee was brilliant and so were sn...</td>\n",
       "    </tr>\n",
       "    <tr>\n",
       "      <th>3</th>\n",
       "      <td>12 days ago</td>\n",
       "      <td>One of the best places to go to, for a vibe, i...</td>\n",
       "    </tr>\n",
       "    <tr>\n",
       "      <th>4</th>\n",
       "      <td>17 days ago</td>\n",
       "      <td>Enjoyed the whole experience! Special mention ...</td>\n",
       "    </tr>\n",
       "    <tr>\n",
       "      <th>...</th>\n",
       "      <td>...</td>\n",
       "      <td>...</td>\n",
       "    </tr>\n",
       "    <tr>\n",
       "      <th>249</th>\n",
       "      <td>Dec 22, 2022</td>\n",
       "      <td>Amazing coffee experience at this place . Have...</td>\n",
       "    </tr>\n",
       "    <tr>\n",
       "      <th>250</th>\n",
       "      <td>Dec 11, 2022</td>\n",
       "      <td>fresh food</td>\n",
       "    </tr>\n",
       "    <tr>\n",
       "      <th>251</th>\n",
       "      <td>Nov 27, 2022</td>\n",
       "      <td>This rare find serves a combination of good co...</td>\n",
       "    </tr>\n",
       "    <tr>\n",
       "      <th>252</th>\n",
       "      <td>Nov 15, 2022</td>\n",
       "      <td>elaborate menu</td>\n",
       "    </tr>\n",
       "    <tr>\n",
       "      <th>253</th>\n",
       "      <td>Oct 25, 2022</td>\n",
       "      <td>This is a really cute place which serves good ...</td>\n",
       "    </tr>\n",
       "  </tbody>\n",
       "</table>\n",
       "<p>254 rows × 2 columns</p>\n",
       "</div>"
      ],
      "text/plain": [
       "             date                                             review\n",
       "0      4 days ago  Many stories with the place,,,,, it has this u...\n",
       "1     10 days ago  You forgot to send sugar with coffee/the rest ...\n",
       "2     12 days ago  The filter coffee was brilliant and so were sn...\n",
       "3     12 days ago  One of the best places to go to, for a vibe, i...\n",
       "4     17 days ago  Enjoyed the whole experience! Special mention ...\n",
       "..            ...                                                ...\n",
       "249  Dec 22, 2022  Amazing coffee experience at this place . Have...\n",
       "250  Dec 11, 2022                                         fresh food\n",
       "251  Nov 27, 2022  This rare find serves a combination of good co...\n",
       "252  Nov 15, 2022                                     elaborate menu\n",
       "253  Oct 25, 2022  This is a really cute place which serves good ...\n",
       "\n",
       "[254 rows x 2 columns]"
      ]
     },
     "execution_count": 9,
     "metadata": {},
     "output_type": "execute_result"
    }
   ],
   "source": [
    "df"
   ]
  },
  {
   "cell_type": "code",
   "execution_count": 10,
   "id": "1106190e-a782-41be-b10f-e535bf6a34c7",
   "metadata": {},
   "outputs": [
    {
     "data": {
      "text/plain": [
       "date       0\n",
       "review    35\n",
       "dtype: int64"
      ]
     },
     "execution_count": 10,
     "metadata": {},
     "output_type": "execute_result"
    }
   ],
   "source": [
    "df.isnull().sum()"
   ]
  },
  {
   "cell_type": "code",
   "execution_count": 11,
   "id": "b246b644-e34f-49d4-bcda-27432e689af2",
   "metadata": {},
   "outputs": [],
   "source": [
    "df.dropna(inplace=True)"
   ]
  },
  {
   "cell_type": "code",
   "execution_count": 12,
   "id": "6f9e5e08-cb8b-4b39-81b3-71389b4308f1",
   "metadata": {},
   "outputs": [
    {
     "data": {
      "text/html": [
       "<div>\n",
       "<style scoped>\n",
       "    .dataframe tbody tr th:only-of-type {\n",
       "        vertical-align: middle;\n",
       "    }\n",
       "\n",
       "    .dataframe tbody tr th {\n",
       "        vertical-align: top;\n",
       "    }\n",
       "\n",
       "    .dataframe thead th {\n",
       "        text-align: right;\n",
       "    }\n",
       "</style>\n",
       "<table border=\"1\" class=\"dataframe\">\n",
       "  <thead>\n",
       "    <tr style=\"text-align: right;\">\n",
       "      <th></th>\n",
       "      <th>date</th>\n",
       "      <th>review</th>\n",
       "    </tr>\n",
       "  </thead>\n",
       "  <tbody>\n",
       "    <tr>\n",
       "      <th>0</th>\n",
       "      <td>4 days ago</td>\n",
       "      <td>Many stories with the place,,,,, it has this u...</td>\n",
       "    </tr>\n",
       "    <tr>\n",
       "      <th>1</th>\n",
       "      <td>10 days ago</td>\n",
       "      <td>You forgot to send sugar with coffee/the rest ...</td>\n",
       "    </tr>\n",
       "    <tr>\n",
       "      <th>2</th>\n",
       "      <td>12 days ago</td>\n",
       "      <td>The filter coffee was brilliant and so were sn...</td>\n",
       "    </tr>\n",
       "    <tr>\n",
       "      <th>3</th>\n",
       "      <td>12 days ago</td>\n",
       "      <td>One of the best places to go to, for a vibe, i...</td>\n",
       "    </tr>\n",
       "    <tr>\n",
       "      <th>4</th>\n",
       "      <td>17 days ago</td>\n",
       "      <td>Enjoyed the whole experience! Special mention ...</td>\n",
       "    </tr>\n",
       "    <tr>\n",
       "      <th>...</th>\n",
       "      <td>...</td>\n",
       "      <td>...</td>\n",
       "    </tr>\n",
       "    <tr>\n",
       "      <th>249</th>\n",
       "      <td>Dec 22, 2022</td>\n",
       "      <td>Amazing coffee experience at this place . Have...</td>\n",
       "    </tr>\n",
       "    <tr>\n",
       "      <th>250</th>\n",
       "      <td>Dec 11, 2022</td>\n",
       "      <td>fresh food</td>\n",
       "    </tr>\n",
       "    <tr>\n",
       "      <th>251</th>\n",
       "      <td>Nov 27, 2022</td>\n",
       "      <td>This rare find serves a combination of good co...</td>\n",
       "    </tr>\n",
       "    <tr>\n",
       "      <th>252</th>\n",
       "      <td>Nov 15, 2022</td>\n",
       "      <td>elaborate menu</td>\n",
       "    </tr>\n",
       "    <tr>\n",
       "      <th>253</th>\n",
       "      <td>Oct 25, 2022</td>\n",
       "      <td>This is a really cute place which serves good ...</td>\n",
       "    </tr>\n",
       "  </tbody>\n",
       "</table>\n",
       "<p>219 rows × 2 columns</p>\n",
       "</div>"
      ],
      "text/plain": [
       "             date                                             review\n",
       "0      4 days ago  Many stories with the place,,,,, it has this u...\n",
       "1     10 days ago  You forgot to send sugar with coffee/the rest ...\n",
       "2     12 days ago  The filter coffee was brilliant and so were sn...\n",
       "3     12 days ago  One of the best places to go to, for a vibe, i...\n",
       "4     17 days ago  Enjoyed the whole experience! Special mention ...\n",
       "..            ...                                                ...\n",
       "249  Dec 22, 2022  Amazing coffee experience at this place . Have...\n",
       "250  Dec 11, 2022                                         fresh food\n",
       "251  Nov 27, 2022  This rare find serves a combination of good co...\n",
       "252  Nov 15, 2022                                     elaborate menu\n",
       "253  Oct 25, 2022  This is a really cute place which serves good ...\n",
       "\n",
       "[219 rows x 2 columns]"
      ]
     },
     "execution_count": 12,
     "metadata": {},
     "output_type": "execute_result"
    }
   ],
   "source": [
    "df"
   ]
  },
  {
   "cell_type": "code",
   "execution_count": 4,
   "id": "0160e73b-23a3-4a55-a147-9f82b4116593",
   "metadata": {},
   "outputs": [],
   "source": [
    "from datetime import datetime,timedelta"
   ]
  },
  {
   "cell_type": "code",
   "execution_count": 5,
   "id": "05f03f4b-7363-4250-9812-abf3189dda53",
   "metadata": {},
   "outputs": [],
   "source": [
    "from dateutil import relativedelta"
   ]
  },
  {
   "cell_type": "code",
   "execution_count": null,
   "id": "47fcd788-c55d-478e-9f17-c1ca2c12f4fc",
   "metadata": {},
   "outputs": [],
   "source": []
  },
  {
   "cell_type": "code",
   "execution_count": 13,
   "id": "0ad86d75-6c70-473d-9d9d-d6f550fa14cd",
   "metadata": {},
   "outputs": [],
   "source": [
    "date_values=[]"
   ]
  },
  {
   "cell_type": "code",
   "execution_count": 14,
   "id": "a9761951-a5ce-4633-a414-8ffdb8880c23",
   "metadata": {},
   "outputs": [],
   "source": [
    "for col in df['date']:\n",
    "    if 'days' in col:\n",
    "        day=int(col.split()[0])\n",
    "        d = datetime.today() - timedelta(days=day)\n",
    "        date_values.append(d.strftime(\"%Y-%m-%d\"))\n",
    "    elif 'month' in col or 'months' in col:\n",
    "        month=col.split()[0]\n",
    "        \n",
    "        if month=='one':\n",
    "            month=1\n",
    "        else:\n",
    "            month=int(month)\n",
    "            \n",
    "        d = datetime.today() - relativedelta.relativedelta(months=month)\n",
    "        date_values.append(d.strftime(\"%Y-%m-%d\"))\n",
    "    else:\n",
    "        date_str = col\n",
    "        d = datetime.strptime(date_str, \"%b %d, %Y\")\n",
    "        date_values.append(d.strftime(\"%Y-%m-%d\"))\n",
    "        "
   ]
  },
  {
   "cell_type": "code",
   "execution_count": 35,
   "id": "3bb03a33-ced3-4b3b-b3cd-9c06ae5c1862",
   "metadata": {},
   "outputs": [],
   "source": [
    "test=datetime.today()- timedelta(days=4)"
   ]
  },
  {
   "cell_type": "code",
   "execution_count": 36,
   "id": "046ea158-6a31-4e0c-ba88-ea095298da22",
   "metadata": {},
   "outputs": [],
   "source": [
    "date_str = test.strftime(\"%Y-%m-%d\")"
   ]
  },
  {
   "cell_type": "code",
   "execution_count": 37,
   "id": "cc047abf-7267-45db-b541-bab2d4b961b5",
   "metadata": {},
   "outputs": [
    {
     "data": {
      "text/plain": [
       "'2024-06-02'"
      ]
     },
     "execution_count": 37,
     "metadata": {},
     "output_type": "execute_result"
    }
   ],
   "source": [
    "date_str"
   ]
  },
  {
   "cell_type": "code",
   "execution_count": 42,
   "id": "1a20d7b8-b64f-4db9-bfbf-7e091f06d8bb",
   "metadata": {},
   "outputs": [
    {
     "data": {
      "text/plain": [
       "datetime.datetime(2024, 4, 6, 9, 55, 47, 715971)"
      ]
     },
     "execution_count": 42,
     "metadata": {},
     "output_type": "execute_result"
    }
   ],
   "source": [
    "datetime.today() - relativedelta.relativedelta(months=2)"
   ]
  },
  {
   "cell_type": "code",
   "execution_count": 15,
   "id": "5e832b02-6a05-4a42-bf0a-b26e4e235c49",
   "metadata": {},
   "outputs": [],
   "source": [
    "df['date']=date_values"
   ]
  },
  {
   "cell_type": "code",
   "execution_count": 16,
   "id": "313fce14-f701-4cc2-ac76-e83da2f03f13",
   "metadata": {},
   "outputs": [
    {
     "data": {
      "text/html": [
       "<div>\n",
       "<style scoped>\n",
       "    .dataframe tbody tr th:only-of-type {\n",
       "        vertical-align: middle;\n",
       "    }\n",
       "\n",
       "    .dataframe tbody tr th {\n",
       "        vertical-align: top;\n",
       "    }\n",
       "\n",
       "    .dataframe thead th {\n",
       "        text-align: right;\n",
       "    }\n",
       "</style>\n",
       "<table border=\"1\" class=\"dataframe\">\n",
       "  <thead>\n",
       "    <tr style=\"text-align: right;\">\n",
       "      <th></th>\n",
       "      <th>date</th>\n",
       "      <th>review</th>\n",
       "    </tr>\n",
       "  </thead>\n",
       "  <tbody>\n",
       "    <tr>\n",
       "      <th>0</th>\n",
       "      <td>2024-06-02</td>\n",
       "      <td>Many stories with the place,,,,, it has this u...</td>\n",
       "    </tr>\n",
       "    <tr>\n",
       "      <th>1</th>\n",
       "      <td>2024-05-27</td>\n",
       "      <td>You forgot to send sugar with coffee/the rest ...</td>\n",
       "    </tr>\n",
       "    <tr>\n",
       "      <th>2</th>\n",
       "      <td>2024-05-25</td>\n",
       "      <td>The filter coffee was brilliant and so were sn...</td>\n",
       "    </tr>\n",
       "    <tr>\n",
       "      <th>3</th>\n",
       "      <td>2024-05-25</td>\n",
       "      <td>One of the best places to go to, for a vibe, i...</td>\n",
       "    </tr>\n",
       "    <tr>\n",
       "      <th>4</th>\n",
       "      <td>2024-05-20</td>\n",
       "      <td>Enjoyed the whole experience! Special mention ...</td>\n",
       "    </tr>\n",
       "    <tr>\n",
       "      <th>...</th>\n",
       "      <td>...</td>\n",
       "      <td>...</td>\n",
       "    </tr>\n",
       "    <tr>\n",
       "      <th>249</th>\n",
       "      <td>2022-12-22</td>\n",
       "      <td>Amazing coffee experience at this place . Have...</td>\n",
       "    </tr>\n",
       "    <tr>\n",
       "      <th>250</th>\n",
       "      <td>2022-12-11</td>\n",
       "      <td>fresh food</td>\n",
       "    </tr>\n",
       "    <tr>\n",
       "      <th>251</th>\n",
       "      <td>2022-11-27</td>\n",
       "      <td>This rare find serves a combination of good co...</td>\n",
       "    </tr>\n",
       "    <tr>\n",
       "      <th>252</th>\n",
       "      <td>2022-11-15</td>\n",
       "      <td>elaborate menu</td>\n",
       "    </tr>\n",
       "    <tr>\n",
       "      <th>253</th>\n",
       "      <td>2022-10-25</td>\n",
       "      <td>This is a really cute place which serves good ...</td>\n",
       "    </tr>\n",
       "  </tbody>\n",
       "</table>\n",
       "<p>219 rows × 2 columns</p>\n",
       "</div>"
      ],
      "text/plain": [
       "           date                                             review\n",
       "0    2024-06-02  Many stories with the place,,,,, it has this u...\n",
       "1    2024-05-27  You forgot to send sugar with coffee/the rest ...\n",
       "2    2024-05-25  The filter coffee was brilliant and so were sn...\n",
       "3    2024-05-25  One of the best places to go to, for a vibe, i...\n",
       "4    2024-05-20  Enjoyed the whole experience! Special mention ...\n",
       "..          ...                                                ...\n",
       "249  2022-12-22  Amazing coffee experience at this place . Have...\n",
       "250  2022-12-11                                         fresh food\n",
       "251  2022-11-27  This rare find serves a combination of good co...\n",
       "252  2022-11-15                                     elaborate menu\n",
       "253  2022-10-25  This is a really cute place which serves good ...\n",
       "\n",
       "[219 rows x 2 columns]"
      ]
     },
     "execution_count": 16,
     "metadata": {},
     "output_type": "execute_result"
    }
   ],
   "source": [
    "df"
   ]
  },
  {
   "cell_type": "code",
   "execution_count": 48,
   "id": "253f1971-4058-4ced-987a-8fac693504b5",
   "metadata": {},
   "outputs": [],
   "source": [
    "date_str = \"Dec 11, 2022\"\n",
    "\n",
    "# Convert to date object\n",
    "date_obj = datetime.strptime(date_str, \"%b %d, %Y\")"
   ]
  },
  {
   "cell_type": "code",
   "execution_count": 49,
   "id": "d46aabd4-b210-4a72-a30f-84196c50c29b",
   "metadata": {},
   "outputs": [
    {
     "data": {
      "text/plain": [
       "datetime.datetime(2022, 12, 11, 0, 0)"
      ]
     },
     "execution_count": 49,
     "metadata": {},
     "output_type": "execute_result"
    }
   ],
   "source": [
    "date_obj"
   ]
  },
  {
   "cell_type": "code",
   "execution_count": 17,
   "id": "081ac128-9d61-42d5-8092-af712870cdb6",
   "metadata": {},
   "outputs": [
    {
     "data": {
      "text/html": [
       "<div>\n",
       "<style scoped>\n",
       "    .dataframe tbody tr th:only-of-type {\n",
       "        vertical-align: middle;\n",
       "    }\n",
       "\n",
       "    .dataframe tbody tr th {\n",
       "        vertical-align: top;\n",
       "    }\n",
       "\n",
       "    .dataframe thead th {\n",
       "        text-align: right;\n",
       "    }\n",
       "</style>\n",
       "<table border=\"1\" class=\"dataframe\">\n",
       "  <thead>\n",
       "    <tr style=\"text-align: right;\">\n",
       "      <th></th>\n",
       "      <th>date</th>\n",
       "      <th>review</th>\n",
       "    </tr>\n",
       "  </thead>\n",
       "  <tbody>\n",
       "    <tr>\n",
       "      <th>0</th>\n",
       "      <td>2024-06-02</td>\n",
       "      <td>Many stories with the place,,,,, it has this u...</td>\n",
       "    </tr>\n",
       "    <tr>\n",
       "      <th>1</th>\n",
       "      <td>2024-05-27</td>\n",
       "      <td>You forgot to send sugar with coffee/the rest ...</td>\n",
       "    </tr>\n",
       "    <tr>\n",
       "      <th>2</th>\n",
       "      <td>2024-05-25</td>\n",
       "      <td>The filter coffee was brilliant and so were sn...</td>\n",
       "    </tr>\n",
       "    <tr>\n",
       "      <th>3</th>\n",
       "      <td>2024-05-25</td>\n",
       "      <td>One of the best places to go to, for a vibe, i...</td>\n",
       "    </tr>\n",
       "    <tr>\n",
       "      <th>4</th>\n",
       "      <td>2024-05-20</td>\n",
       "      <td>Enjoyed the whole experience! Special mention ...</td>\n",
       "    </tr>\n",
       "    <tr>\n",
       "      <th>...</th>\n",
       "      <td>...</td>\n",
       "      <td>...</td>\n",
       "    </tr>\n",
       "    <tr>\n",
       "      <th>249</th>\n",
       "      <td>2022-12-22</td>\n",
       "      <td>Amazing coffee experience at this place . Have...</td>\n",
       "    </tr>\n",
       "    <tr>\n",
       "      <th>250</th>\n",
       "      <td>2022-12-11</td>\n",
       "      <td>fresh food</td>\n",
       "    </tr>\n",
       "    <tr>\n",
       "      <th>251</th>\n",
       "      <td>2022-11-27</td>\n",
       "      <td>This rare find serves a combination of good co...</td>\n",
       "    </tr>\n",
       "    <tr>\n",
       "      <th>252</th>\n",
       "      <td>2022-11-15</td>\n",
       "      <td>elaborate menu</td>\n",
       "    </tr>\n",
       "    <tr>\n",
       "      <th>253</th>\n",
       "      <td>2022-10-25</td>\n",
       "      <td>This is a really cute place which serves good ...</td>\n",
       "    </tr>\n",
       "  </tbody>\n",
       "</table>\n",
       "<p>219 rows × 2 columns</p>\n",
       "</div>"
      ],
      "text/plain": [
       "           date                                             review\n",
       "0    2024-06-02  Many stories with the place,,,,, it has this u...\n",
       "1    2024-05-27  You forgot to send sugar with coffee/the rest ...\n",
       "2    2024-05-25  The filter coffee was brilliant and so were sn...\n",
       "3    2024-05-25  One of the best places to go to, for a vibe, i...\n",
       "4    2024-05-20  Enjoyed the whole experience! Special mention ...\n",
       "..          ...                                                ...\n",
       "249  2022-12-22  Amazing coffee experience at this place . Have...\n",
       "250  2022-12-11                                         fresh food\n",
       "251  2022-11-27  This rare find serves a combination of good co...\n",
       "252  2022-11-15                                     elaborate menu\n",
       "253  2022-10-25  This is a really cute place which serves good ...\n",
       "\n",
       "[219 rows x 2 columns]"
      ]
     },
     "execution_count": 17,
     "metadata": {},
     "output_type": "execute_result"
    }
   ],
   "source": [
    "df\n"
   ]
  },
  {
   "cell_type": "code",
   "execution_count": 18,
   "id": "df425137-1df2-4825-9626-0cf42e5baac5",
   "metadata": {},
   "outputs": [
    {
     "name": "stdout",
     "output_type": "stream",
     "text": [
      "Package                       Version\n",
      "----------------------------- -----------\n",
      "aiohttp                       3.9.5\n",
      "aiosignal                     1.3.1\n",
      "annotated-types               0.7.0\n",
      "anyio                         4.4.0\n",
      "asgiref                       3.8.1\n",
      "asttokens                     2.4.1\n",
      "attrs                         23.2.0\n",
      "beautifulsoup4                4.12.3\n",
      "bs4                           0.0.2\n",
      "certifi                       2024.6.2\n",
      "cffi                          1.16.0\n",
      "charset-normalizer            3.3.2\n",
      "click                         8.1.7\n",
      "colorama                      0.4.6\n",
      "comm                          0.2.2\n",
      "cryptography                  42.0.7\n",
      "debugpy                       1.8.1\n",
      "decorator                     5.1.1\n",
      "Django                        3.2.23\n",
      "django-cors-headers           4.3.1\n",
      "django-environ                0.11.2\n",
      "django-rest-passwordreset     1.4.1\n",
      "djangorestframework           3.15.1\n",
      "djangorestframework-simplejwt 5.3.1\n",
      "dnspython                     2.6.1\n",
      "email_validator               2.1.1\n",
      "executing                     2.0.1\n",
      "fastapi                       0.111.0\n",
      "fastapi-cli                   0.0.4\n",
      "filelock                      3.13.1\n",
      "frozenlist                    1.4.1\n",
      "fsspec                        2024.2.0\n",
      "gunicorn                      22.0.0\n",
      "h11                           0.14.0\n",
      "httpcore                      1.0.5\n",
      "httptools                     0.6.1\n",
      "httpx                         0.27.0\n",
      "huggingface-hub               0.23.3\n",
      "idna                          3.7\n",
      "intel-openmp                  2021.4.0\n",
      "ipykernel                     6.29.4\n",
      "ipython                       8.25.0\n",
      "jedi                          0.19.1\n",
      "Jinja2                        3.1.4\n",
      "jupyter_client                8.6.2\n",
      "jupyter_core                  5.7.2\n",
      "markdown-it-py                3.0.0\n",
      "MarkupSafe                    2.1.5\n",
      "matplotlib-inline             0.1.7\n",
      "mdurl                         0.1.2\n",
      "mkl                           2021.4.0\n",
      "mpmath                        1.3.0\n",
      "multidict                     6.0.5\n",
      "mysql-connector-python        8.4.0\n",
      "mysqlclient                   2.2.4\n",
      "nest-asyncio                  1.6.0\n",
      "networkx                      3.2.1\n",
      "numpy                         1.26.4\n",
      "openai                        0.28.0\n",
      "orjson                        3.10.3\n",
      "packaging                     24.0\n",
      "pandas                        2.2.2\n",
      "parso                         0.8.4\n",
      "pillow                        10.3.0\n",
      "pip                           23.2.1\n",
      "platformdirs                  4.2.2\n",
      "plotly                        5.22.0\n",
      "prompt_toolkit                3.0.46\n",
      "psutil                        5.9.8\n",
      "pure-eval                     0.2.2\n",
      "pycparser                     2.22\n",
      "pydantic                      2.7.2\n",
      "pydantic_core                 2.18.3\n",
      "Pygments                      2.18.0\n",
      "PyJWT                         2.8.0\n",
      "python-dateutil               2.9.0.post0\n",
      "python-dotenv                 1.0.1\n",
      "python-multipart              0.0.9\n",
      "pytz                          2024.1\n",
      "pywin32                       306\n",
      "PyYAML                        6.0.1\n",
      "pyzmq                         26.0.3\n",
      "regex                         2024.5.15\n",
      "requests                      2.32.3\n",
      "rich                          13.7.1\n",
      "safetensors                   0.4.3\n",
      "setuptools                    65.5.0\n",
      "shellingham                   1.5.4\n",
      "six                           1.16.0\n",
      "sniffio                       1.3.1\n",
      "soupsieve                     2.5\n",
      "sqlparse                      0.5.0\n",
      "stack-data                    0.6.3\n",
      "starlette                     0.37.2\n",
      "sympy                         1.12\n",
      "tbb                           2021.11.0\n",
      "tenacity                      8.3.0\n",
      "tokenizers                    0.19.1\n",
      "torch                         2.3.1+cpu\n",
      "torchaudio                    2.3.1+cpu\n",
      "torchvision                   0.18.1+cpu\n",
      "tornado                       6.4\n",
      "tqdm                          4.66.4\n",
      "traitlets                     5.14.3\n",
      "transformers                  4.41.2\n",
      "typer                         0.12.3\n",
      "typing_extensions             4.12.1\n",
      "tzdata                        2024.1\n",
      "ujson                         5.10.0\n",
      "urllib3                       2.2.1\n",
      "uvicorn                       0.30.1\n",
      "watchfiles                    0.22.0\n",
      "wcwidth                       0.2.13\n",
      "websockets                    12.0\n",
      "yarl                          1.9.4\n"
     ]
    },
    {
     "name": "stderr",
     "output_type": "stream",
     "text": [
      "\n",
      "[notice] A new release of pip is available: 23.2.1 -> 24.0\n",
      "[notice] To update, run: python.exe -m pip install --upgrade pip\n"
     ]
    }
   ],
   "source": [
    "!pip list"
   ]
  },
  {
   "cell_type": "code",
   "execution_count": 19,
   "id": "a5154aae-cb2d-48ca-855f-1ffd0e5f60ef",
   "metadata": {},
   "outputs": [
    {
     "name": "stderr",
     "output_type": "stream",
     "text": [
      "D:\\Vivek\\ettara\\Ettara-Data-Driven-Software\\ettara_env\\Lib\\site-packages\\tqdm\\auto.py:21: TqdmWarning: IProgress not found. Please update jupyter and ipywidgets. See https://ipywidgets.readthedocs.io/en/stable/user_install.html\n",
      "  from .autonotebook import tqdm as notebook_tqdm\n"
     ]
    }
   ],
   "source": [
    "from transformers import AutoTokenizer, AutoModelForSequenceClassification\n",
    "import torch"
   ]
  },
  {
   "cell_type": "code",
   "execution_count": 20,
   "id": "76ec12fe-bfb0-4a00-bbd2-aed4d2941b2a",
   "metadata": {},
   "outputs": [],
   "source": [
    "tokenizer = AutoTokenizer.from_pretrained('nlptown/bert-base-multilingual-uncased-sentiment')\n",
    "model = AutoModelForSequenceClassification.from_pretrained('nlptown/bert-base-multilingual-uncased-sentiment')"
   ]
  },
  {
   "cell_type": "code",
   "execution_count": 24,
   "id": "aeda4aa7-0961-4ad7-aae0-c9f4effee6e8",
   "metadata": {},
   "outputs": [
    {
     "data": {
      "text/plain": [
       "BertForSequenceClassification(\n",
       "  (bert): BertModel(\n",
       "    (embeddings): BertEmbeddings(\n",
       "      (word_embeddings): Embedding(105879, 768, padding_idx=0)\n",
       "      (position_embeddings): Embedding(512, 768)\n",
       "      (token_type_embeddings): Embedding(2, 768)\n",
       "      (LayerNorm): LayerNorm((768,), eps=1e-12, elementwise_affine=True)\n",
       "      (dropout): Dropout(p=0.1, inplace=False)\n",
       "    )\n",
       "    (encoder): BertEncoder(\n",
       "      (layer): ModuleList(\n",
       "        (0-11): 12 x BertLayer(\n",
       "          (attention): BertAttention(\n",
       "            (self): BertSdpaSelfAttention(\n",
       "              (query): Linear(in_features=768, out_features=768, bias=True)\n",
       "              (key): Linear(in_features=768, out_features=768, bias=True)\n",
       "              (value): Linear(in_features=768, out_features=768, bias=True)\n",
       "              (dropout): Dropout(p=0.1, inplace=False)\n",
       "            )\n",
       "            (output): BertSelfOutput(\n",
       "              (dense): Linear(in_features=768, out_features=768, bias=True)\n",
       "              (LayerNorm): LayerNorm((768,), eps=1e-12, elementwise_affine=True)\n",
       "              (dropout): Dropout(p=0.1, inplace=False)\n",
       "            )\n",
       "          )\n",
       "          (intermediate): BertIntermediate(\n",
       "            (dense): Linear(in_features=768, out_features=3072, bias=True)\n",
       "            (intermediate_act_fn): GELUActivation()\n",
       "          )\n",
       "          (output): BertOutput(\n",
       "            (dense): Linear(in_features=3072, out_features=768, bias=True)\n",
       "            (LayerNorm): LayerNorm((768,), eps=1e-12, elementwise_affine=True)\n",
       "            (dropout): Dropout(p=0.1, inplace=False)\n",
       "          )\n",
       "        )\n",
       "      )\n",
       "    )\n",
       "    (pooler): BertPooler(\n",
       "      (dense): Linear(in_features=768, out_features=768, bias=True)\n",
       "      (activation): Tanh()\n",
       "    )\n",
       "  )\n",
       "  (dropout): Dropout(p=0.1, inplace=False)\n",
       "  (classifier): Linear(in_features=768, out_features=5, bias=True)\n",
       ")"
      ]
     },
     "execution_count": 24,
     "metadata": {},
     "output_type": "execute_result"
    }
   ],
   "source": [
    "model"
   ]
  },
  {
   "cell_type": "code",
   "execution_count": 25,
   "id": "8040bbcd-7d04-44f6-b313-ef24cf62b6cc",
   "metadata": {},
   "outputs": [],
   "source": [
    "tokens = tokenizer.encode('It was good but couldve been better. Great', return_tensors='pt')"
   ]
  },
  {
   "cell_type": "code",
   "execution_count": 27,
   "id": "14f06c10-019c-4cbf-86b0-be6798ec8bfc",
   "metadata": {},
   "outputs": [],
   "source": [
    "result = model(tokens)"
   ]
  },
  {
   "cell_type": "code",
   "execution_count": 31,
   "id": "590c6cb4-e64c-4a5d-a253-a548f587c004",
   "metadata": {},
   "outputs": [
    {
     "data": {
      "text/plain": [
       "3"
      ]
     },
     "execution_count": 31,
     "metadata": {},
     "output_type": "execute_result"
    }
   ],
   "source": [
    "int(torch.argmax(result.logits[0]))"
   ]
  },
  {
   "cell_type": "code",
   "execution_count": 32,
   "id": "682c9857-60a4-4136-a1e8-644b6448eaad",
   "metadata": {},
   "outputs": [],
   "source": [
    "sentiment_mapping={\n",
    "    1:'very negative',\n",
    "    2:'negative',\n",
    "    3:'neutral',\n",
    "    4:'positive',\n",
    "    5:'excellent'\n",
    "}"
   ]
  },
  {
   "cell_type": "code",
   "execution_count": 33,
   "id": "a709370b-b914-4c51-b330-87090cc2d184",
   "metadata": {},
   "outputs": [
    {
     "data": {
      "text/plain": [
       "'positive'"
      ]
     },
     "execution_count": 33,
     "metadata": {},
     "output_type": "execute_result"
    }
   ],
   "source": [
    "sentiment_mapping[int(torch.argmax(result.logits[0]))+1]"
   ]
  },
  {
   "cell_type": "code",
   "execution_count": 34,
   "id": "b161a2f9-aa9f-41c6-8ac3-ff0b32219012",
   "metadata": {},
   "outputs": [],
   "source": [
    "def give_sentiment(text):\n",
    "    tokens = tokenizer.encode(text, return_tensors='pt')\n",
    "    result=model(tokens)\n",
    "    score=round(\n",
    "        float(\n",
    "            torch.max(result.logits[0])\n",
    "        )*100\n",
    "        ,2\n",
    "    )\n",
    "    return {'sentiment':sentiment_mapping[int(torch.argmax(result.logits[0]))+1],'score':score,'status':True}"
   ]
  },
  {
   "cell_type": "code",
   "execution_count": 35,
   "id": "96402c41-aff4-4161-964e-236a2a5814ec",
   "metadata": {},
   "outputs": [
    {
     "data": {
      "text/plain": [
       "{'sentiment': 'excellent', 'score': 142.55, 'status': True}"
      ]
     },
     "execution_count": 35,
     "metadata": {},
     "output_type": "execute_result"
    }
   ],
   "source": [
    "give_sentiment(\"that was really really good ... best one\")"
   ]
  },
  {
   "cell_type": "code",
   "execution_count": 38,
   "id": "64765072-2ed3-4b04-8745-1d1ad29ba91a",
   "metadata": {},
   "outputs": [],
   "source": [
    "sentiments_of_reviews=[]\n",
    "scores=[]"
   ]
  },
  {
   "cell_type": "code",
   "execution_count": 39,
   "id": "4f1b73a4-917f-46ca-b9ae-dcd7637a1ede",
   "metadata": {},
   "outputs": [],
   "source": [
    "for rev in df.review:\n",
    "    response=give_sentiment(rev)\n",
    "    if response['status']:\n",
    "        sentiments_of_reviews.append(response['sentiment'])\n",
    "        scores.append(response['score'])"
   ]
  },
  {
   "cell_type": "code",
   "execution_count": 40,
   "id": "32899120-6e43-4d44-afd6-329b6381d623",
   "metadata": {},
   "outputs": [],
   "source": [
    "df['sentiment']=sentiments_of_reviews\n",
    "df['score']=scores"
   ]
  },
  {
   "cell_type": "code",
   "execution_count": 43,
   "id": "0811ee29-c23d-4e17-935b-b071b325dd3c",
   "metadata": {},
   "outputs": [
    {
     "ename": "ModuleNotFoundError",
     "evalue": "No module named 'matplotlib'",
     "output_type": "error",
     "traceback": [
      "\u001b[1;31m---------------------------------------------------------------------------\u001b[0m",
      "\u001b[1;31mModuleNotFoundError\u001b[0m                       Traceback (most recent call last)",
      "Cell \u001b[1;32mIn[43], line 1\u001b[0m\n\u001b[1;32m----> 1\u001b[0m \u001b[43mget_ipython\u001b[49m\u001b[43m(\u001b[49m\u001b[43m)\u001b[49m\u001b[38;5;241;43m.\u001b[39;49m\u001b[43mrun_line_magic\u001b[49m\u001b[43m(\u001b[49m\u001b[38;5;124;43m'\u001b[39;49m\u001b[38;5;124;43mmatplotlib\u001b[39;49m\u001b[38;5;124;43m'\u001b[39;49m\u001b[43m,\u001b[49m\u001b[43m \u001b[49m\u001b[38;5;124;43m'\u001b[39;49m\u001b[38;5;124;43minline\u001b[39;49m\u001b[38;5;124;43m'\u001b[39;49m\u001b[43m)\u001b[49m\n\u001b[0;32m      2\u001b[0m df\u001b[38;5;241m.\u001b[39msentiment\u001b[38;5;241m.\u001b[39mplot(kind\u001b[38;5;241m=\u001b[39m\u001b[38;5;124m'\u001b[39m\u001b[38;5;124mbar\u001b[39m\u001b[38;5;124m'\u001b[39m)\n",
      "File \u001b[1;32mD:\\Vivek\\ettara\\Ettara-Data-Driven-Software\\ettara_env\\Lib\\site-packages\\IPython\\core\\interactiveshell.py:2480\u001b[0m, in \u001b[0;36mInteractiveShell.run_line_magic\u001b[1;34m(self, magic_name, line, _stack_depth)\u001b[0m\n\u001b[0;32m   2478\u001b[0m     kwargs[\u001b[38;5;124m'\u001b[39m\u001b[38;5;124mlocal_ns\u001b[39m\u001b[38;5;124m'\u001b[39m] \u001b[38;5;241m=\u001b[39m \u001b[38;5;28mself\u001b[39m\u001b[38;5;241m.\u001b[39mget_local_scope(stack_depth)\n\u001b[0;32m   2479\u001b[0m \u001b[38;5;28;01mwith\u001b[39;00m \u001b[38;5;28mself\u001b[39m\u001b[38;5;241m.\u001b[39mbuiltin_trap:\n\u001b[1;32m-> 2480\u001b[0m     result \u001b[38;5;241m=\u001b[39m \u001b[43mfn\u001b[49m\u001b[43m(\u001b[49m\u001b[38;5;241;43m*\u001b[39;49m\u001b[43margs\u001b[49m\u001b[43m,\u001b[49m\u001b[43m \u001b[49m\u001b[38;5;241;43m*\u001b[39;49m\u001b[38;5;241;43m*\u001b[39;49m\u001b[43mkwargs\u001b[49m\u001b[43m)\u001b[49m\n\u001b[0;32m   2482\u001b[0m \u001b[38;5;66;03m# The code below prevents the output from being displayed\u001b[39;00m\n\u001b[0;32m   2483\u001b[0m \u001b[38;5;66;03m# when using magics with decorator @output_can_be_silenced\u001b[39;00m\n\u001b[0;32m   2484\u001b[0m \u001b[38;5;66;03m# when the last Python token in the expression is a ';'.\u001b[39;00m\n\u001b[0;32m   2485\u001b[0m \u001b[38;5;28;01mif\u001b[39;00m \u001b[38;5;28mgetattr\u001b[39m(fn, magic\u001b[38;5;241m.\u001b[39mMAGIC_OUTPUT_CAN_BE_SILENCED, \u001b[38;5;28;01mFalse\u001b[39;00m):\n",
      "File \u001b[1;32mD:\\Vivek\\ettara\\Ettara-Data-Driven-Software\\ettara_env\\Lib\\site-packages\\IPython\\core\\magics\\pylab.py:103\u001b[0m, in \u001b[0;36mPylabMagics.matplotlib\u001b[1;34m(self, line)\u001b[0m\n\u001b[0;32m     98\u001b[0m     \u001b[38;5;28mprint\u001b[39m(\n\u001b[0;32m     99\u001b[0m         \u001b[38;5;124m\"\u001b[39m\u001b[38;5;124mAvailable matplotlib backends: \u001b[39m\u001b[38;5;132;01m%s\u001b[39;00m\u001b[38;5;124m\"\u001b[39m\n\u001b[0;32m    100\u001b[0m         \u001b[38;5;241m%\u001b[39m _list_matplotlib_backends_and_gui_loops()\n\u001b[0;32m    101\u001b[0m     )\n\u001b[0;32m    102\u001b[0m \u001b[38;5;28;01melse\u001b[39;00m:\n\u001b[1;32m--> 103\u001b[0m     gui, backend \u001b[38;5;241m=\u001b[39m \u001b[38;5;28;43mself\u001b[39;49m\u001b[38;5;241;43m.\u001b[39;49m\u001b[43mshell\u001b[49m\u001b[38;5;241;43m.\u001b[39;49m\u001b[43menable_matplotlib\u001b[49m\u001b[43m(\u001b[49m\u001b[43margs\u001b[49m\u001b[38;5;241;43m.\u001b[39;49m\u001b[43mgui\u001b[49m\u001b[38;5;241;43m.\u001b[39;49m\u001b[43mlower\u001b[49m\u001b[43m(\u001b[49m\u001b[43m)\u001b[49m\u001b[43m \u001b[49m\u001b[38;5;28;43;01mif\u001b[39;49;00m\u001b[43m \u001b[49m\u001b[38;5;28;43misinstance\u001b[39;49m\u001b[43m(\u001b[49m\u001b[43margs\u001b[49m\u001b[38;5;241;43m.\u001b[39;49m\u001b[43mgui\u001b[49m\u001b[43m,\u001b[49m\u001b[43m \u001b[49m\u001b[38;5;28;43mstr\u001b[39;49m\u001b[43m)\u001b[49m\u001b[43m \u001b[49m\u001b[38;5;28;43;01melse\u001b[39;49;00m\u001b[43m \u001b[49m\u001b[43margs\u001b[49m\u001b[38;5;241;43m.\u001b[39;49m\u001b[43mgui\u001b[49m\u001b[43m)\u001b[49m\n\u001b[0;32m    104\u001b[0m     \u001b[38;5;28mself\u001b[39m\u001b[38;5;241m.\u001b[39m_show_matplotlib_backend(args\u001b[38;5;241m.\u001b[39mgui, backend)\n",
      "File \u001b[1;32mD:\\Vivek\\ettara\\Ettara-Data-Driven-Software\\ettara_env\\Lib\\site-packages\\IPython\\core\\interactiveshell.py:3665\u001b[0m, in \u001b[0;36mInteractiveShell.enable_matplotlib\u001b[1;34m(self, gui)\u001b[0m\n\u001b[0;32m   3662\u001b[0m     \u001b[38;5;28;01mimport\u001b[39;00m \u001b[38;5;21;01mmatplotlib_inline\u001b[39;00m\u001b[38;5;21;01m.\u001b[39;00m\u001b[38;5;21;01mbackend_inline\u001b[39;00m\n\u001b[0;32m   3664\u001b[0m \u001b[38;5;28;01mfrom\u001b[39;00m \u001b[38;5;21;01mIPython\u001b[39;00m\u001b[38;5;21;01m.\u001b[39;00m\u001b[38;5;21;01mcore\u001b[39;00m \u001b[38;5;28;01mimport\u001b[39;00m pylabtools \u001b[38;5;28;01mas\u001b[39;00m pt\n\u001b[1;32m-> 3665\u001b[0m gui, backend \u001b[38;5;241m=\u001b[39m \u001b[43mpt\u001b[49m\u001b[38;5;241;43m.\u001b[39;49m\u001b[43mfind_gui_and_backend\u001b[49m\u001b[43m(\u001b[49m\u001b[43mgui\u001b[49m\u001b[43m,\u001b[49m\u001b[43m \u001b[49m\u001b[38;5;28;43mself\u001b[39;49m\u001b[38;5;241;43m.\u001b[39;49m\u001b[43mpylab_gui_select\u001b[49m\u001b[43m)\u001b[49m\n\u001b[0;32m   3667\u001b[0m \u001b[38;5;28;01mif\u001b[39;00m gui \u001b[38;5;241m!=\u001b[39m \u001b[38;5;28;01mNone\u001b[39;00m:\n\u001b[0;32m   3668\u001b[0m     \u001b[38;5;66;03m# If we have our first gui selection, store it\u001b[39;00m\n\u001b[0;32m   3669\u001b[0m     \u001b[38;5;28;01mif\u001b[39;00m \u001b[38;5;28mself\u001b[39m\u001b[38;5;241m.\u001b[39mpylab_gui_select \u001b[38;5;129;01mis\u001b[39;00m \u001b[38;5;28;01mNone\u001b[39;00m:\n",
      "File \u001b[1;32mD:\\Vivek\\ettara\\Ettara-Data-Driven-Software\\ettara_env\\Lib\\site-packages\\IPython\\core\\pylabtools.py:338\u001b[0m, in \u001b[0;36mfind_gui_and_backend\u001b[1;34m(gui, gui_select)\u001b[0m\n\u001b[0;32m    321\u001b[0m \u001b[38;5;28;01mdef\u001b[39;00m \u001b[38;5;21mfind_gui_and_backend\u001b[39m(gui\u001b[38;5;241m=\u001b[39m\u001b[38;5;28;01mNone\u001b[39;00m, gui_select\u001b[38;5;241m=\u001b[39m\u001b[38;5;28;01mNone\u001b[39;00m):\n\u001b[0;32m    322\u001b[0m \u001b[38;5;250m    \u001b[39m\u001b[38;5;124;03m\"\"\"Given a gui string return the gui and mpl backend.\u001b[39;00m\n\u001b[0;32m    323\u001b[0m \n\u001b[0;32m    324\u001b[0m \u001b[38;5;124;03m    Parameters\u001b[39;00m\n\u001b[1;32m   (...)\u001b[0m\n\u001b[0;32m    335\u001b[0m \u001b[38;5;124;03m    'WXAgg','Qt4Agg','module://matplotlib_inline.backend_inline','agg').\u001b[39;00m\n\u001b[0;32m    336\u001b[0m \u001b[38;5;124;03m    \"\"\"\u001b[39;00m\n\u001b[1;32m--> 338\u001b[0m     \u001b[38;5;28;01mimport\u001b[39;00m \u001b[38;5;21;01mmatplotlib\u001b[39;00m\n\u001b[0;32m    340\u001b[0m     \u001b[38;5;28;01mif\u001b[39;00m _matplotlib_manages_backends():\n\u001b[0;32m    341\u001b[0m         backend_registry \u001b[38;5;241m=\u001b[39m matplotlib\u001b[38;5;241m.\u001b[39mbackends\u001b[38;5;241m.\u001b[39mregistry\u001b[38;5;241m.\u001b[39mbackend_registry\n",
      "\u001b[1;31mModuleNotFoundError\u001b[0m: No module named 'matplotlib'"
     ]
    }
   ],
   "source": [
    "%matplotlib inline\n",
    "df.sentiment.plot(kind='bar')"
   ]
  },
  {
   "cell_type": "code",
   "execution_count": null,
   "id": "600c8f11-e71f-47af-8f31-395fe7425cc7",
   "metadata": {},
   "outputs": [],
   "source": []
  }
 ],
 "metadata": {
  "kernelspec": {
   "display_name": "ettara_env",
   "language": "python",
   "name": "ettara_env"
  },
  "language_info": {
   "codemirror_mode": {
    "name": "ipython",
    "version": 3
   },
   "file_extension": ".py",
   "mimetype": "text/x-python",
   "name": "python",
   "nbconvert_exporter": "python",
   "pygments_lexer": "ipython3",
   "version": "3.11.5"
  }
 },
 "nbformat": 4,
 "nbformat_minor": 5
}
