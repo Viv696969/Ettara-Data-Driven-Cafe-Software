{
 "cells": [
  {
   "cell_type": "code",
   "execution_count": 22,
   "id": "076fffac-f447-45f5-987d-309d47d5dcf7",
   "metadata": {},
   "outputs": [],
   "source": [
    "import pandas as pd"
   ]
  },
  {
   "cell_type": "code",
   "execution_count": 23,
   "id": "86cc8da8-3a15-494f-ae0d-effb415ee46f",
   "metadata": {},
   "outputs": [],
   "source": [
    "import mysql.connector as mysql"
   ]
  },
  {
   "cell_type": "code",
   "execution_count": 24,
   "id": "e9e923f2-b44e-4b95-ba36-225407b1bbdf",
   "metadata": {},
   "outputs": [],
   "source": [
    "def connect():\n",
    "    conn=mysql.connect(\n",
    "        host='127.0.0.1',\n",
    "        user='',\n",
    "        password='',\n",
    "        database=''\n",
    "    )\n",
    "    cursor=conn.cursor()\n",
    "    return conn,cursor"
   ]
  },
  {
   "cell_type": "code",
   "execution_count": 25,
   "id": "e4090058-bb13-4775-8a64-00034e18fc70",
   "metadata": {},
   "outputs": [],
   "source": [
    "conn,cursor=connect()"
   ]
  },
  {
   "cell_type": "code",
   "execution_count": 26,
   "id": "363bbbbf-91c8-4b30-b2f0-f6a4b559f16c",
   "metadata": {},
   "outputs": [],
   "source": [
    "query='''\n",
    "select basket_string from shop_marketbasket;\n",
    "'''"
   ]
  },
  {
   "cell_type": "code",
   "execution_count": 27,
   "id": "d530b420-d87e-4293-864f-ff4dcbbe048c",
   "metadata": {},
   "outputs": [],
   "source": [
    "cursor.execute(query)"
   ]
  },
  {
   "cell_type": "code",
   "execution_count": 28,
   "id": "cd7f854f-b6ae-4187-a8ca-979cef1c0328",
   "metadata": {},
   "outputs": [],
   "source": [
    "data=cursor.fetchall()"
   ]
  },
  {
   "cell_type": "code",
   "execution_count": 29,
   "id": "d96e78df-fc5c-42d5-b881-876cfc2e35df",
   "metadata": {},
   "outputs": [],
   "source": [
    "cursor.close()\n",
    "conn.close()"
   ]
  },
  {
   "cell_type": "code",
   "execution_count": 30,
   "id": "21d216bc-09c8-4c3b-80d2-479802be0e63",
   "metadata": {},
   "outputs": [
    {
     "data": {
      "text/plain": [
       "[('Kaapicino,Combo-south Indian Filter Kaapi 150 ML + Papparoti,Espresso',),\n",
       " ('Coconut Natkhatai (With Egg),Hot Chocolate,Baked Vada Pav',),\n",
       " ('Calzones Veg,Espresso,Combo-south Indian Filter Kaapi 150 ML + Papparoti',),\n",
       " ('Madagascar Hot Chocolate,Plain Nankhatai Veg,Baked Vada Pav',),\n",
       " ('Madagascar Hot Chocolate,Espresso,Baked Vada Pav',),\n",
       " ('Combo-south Indian Filter Kaapi 150 ML + Papparoti,Espresso,Baked Vada Pav,Espresso',)]"
      ]
     },
     "execution_count": 30,
     "metadata": {},
     "output_type": "execute_result"
    }
   ],
   "source": [
    "data"
   ]
  },
  {
   "cell_type": "code",
   "execution_count": 31,
   "id": "00feb61a-2da8-4255-8639-b9fad29a157f",
   "metadata": {},
   "outputs": [],
   "source": [
    "df=pd.DataFrame(data,columns=['text'])"
   ]
  },
  {
   "cell_type": "code",
   "execution_count": 32,
   "id": "17daf0e4-9960-4da8-914b-241b5bfed479",
   "metadata": {},
   "outputs": [
    {
     "data": {
      "text/html": [
       "<div>\n",
       "<style scoped>\n",
       "    .dataframe tbody tr th:only-of-type {\n",
       "        vertical-align: middle;\n",
       "    }\n",
       "\n",
       "    .dataframe tbody tr th {\n",
       "        vertical-align: top;\n",
       "    }\n",
       "\n",
       "    .dataframe thead th {\n",
       "        text-align: right;\n",
       "    }\n",
       "</style>\n",
       "<table border=\"1\" class=\"dataframe\">\n",
       "  <thead>\n",
       "    <tr style=\"text-align: right;\">\n",
       "      <th></th>\n",
       "      <th>text</th>\n",
       "    </tr>\n",
       "  </thead>\n",
       "  <tbody>\n",
       "    <tr>\n",
       "      <th>0</th>\n",
       "      <td>Kaapicino,Combo-south Indian Filter Kaapi 150 ...</td>\n",
       "    </tr>\n",
       "    <tr>\n",
       "      <th>1</th>\n",
       "      <td>Coconut Natkhatai (With Egg),Hot Chocolate,Bak...</td>\n",
       "    </tr>\n",
       "    <tr>\n",
       "      <th>2</th>\n",
       "      <td>Calzones Veg,Espresso,Combo-south Indian Filte...</td>\n",
       "    </tr>\n",
       "    <tr>\n",
       "      <th>3</th>\n",
       "      <td>Madagascar Hot Chocolate,Plain Nankhatai Veg,B...</td>\n",
       "    </tr>\n",
       "    <tr>\n",
       "      <th>4</th>\n",
       "      <td>Madagascar Hot Chocolate,Espresso,Baked Vada Pav</td>\n",
       "    </tr>\n",
       "    <tr>\n",
       "      <th>5</th>\n",
       "      <td>Combo-south Indian Filter Kaapi 150 ML + Pappa...</td>\n",
       "    </tr>\n",
       "  </tbody>\n",
       "</table>\n",
       "</div>"
      ],
      "text/plain": [
       "                                                text\n",
       "0  Kaapicino,Combo-south Indian Filter Kaapi 150 ...\n",
       "1  Coconut Natkhatai (With Egg),Hot Chocolate,Bak...\n",
       "2  Calzones Veg,Espresso,Combo-south Indian Filte...\n",
       "3  Madagascar Hot Chocolate,Plain Nankhatai Veg,B...\n",
       "4   Madagascar Hot Chocolate,Espresso,Baked Vada Pav\n",
       "5  Combo-south Indian Filter Kaapi 150 ML + Pappa..."
      ]
     },
     "execution_count": 32,
     "metadata": {},
     "output_type": "execute_result"
    }
   ],
   "source": [
    "df"
   ]
  },
  {
   "cell_type": "code",
   "execution_count": 33,
   "id": "892163b2-5edc-46ef-9d5b-943d04be1adf",
   "metadata": {},
   "outputs": [],
   "source": [
    "df=df.text.str.split(',',expand=True)"
   ]
  },
  {
   "cell_type": "code",
   "execution_count": 41,
   "id": "284b3164-6846-4b94-9b33-e5910465a81e",
   "metadata": {},
   "outputs": [
    {
     "data": {
      "text/plain": [
       "str"
      ]
     },
     "execution_count": 41,
     "metadata": {},
     "output_type": "execute_result"
    }
   ],
   "source": [
    "type(df.values[0][0])"
   ]
  },
  {
   "cell_type": "code",
   "execution_count": 37,
   "id": "8c5b5ec4-21c0-4907-9591-a5e2d391a448",
   "metadata": {},
   "outputs": [],
   "source": [
    "from apyori import apriori"
   ]
  },
  {
   "cell_type": "code",
   "execution_count": 46,
   "id": "9681d77c-4491-4f32-a01f-ddd931e0353e",
   "metadata": {},
   "outputs": [],
   "source": [
    "results = list(apriori(df.values))"
   ]
  },
  {
   "cell_type": "code",
   "execution_count": 44,
   "id": "549655e7-749f-426c-894c-3a6212fd81c4",
   "metadata": {},
   "outputs": [],
   "source": [
    "df.replace({None:\"\"},inplace=True)"
   ]
  },
  {
   "cell_type": "code",
   "execution_count": 45,
   "id": "c762b912-22a0-4d96-85e9-ee8f08fa7b12",
   "metadata": {},
   "outputs": [
    {
     "data": {
      "text/html": [
       "<div>\n",
       "<style scoped>\n",
       "    .dataframe tbody tr th:only-of-type {\n",
       "        vertical-align: middle;\n",
       "    }\n",
       "\n",
       "    .dataframe tbody tr th {\n",
       "        vertical-align: top;\n",
       "    }\n",
       "\n",
       "    .dataframe thead th {\n",
       "        text-align: right;\n",
       "    }\n",
       "</style>\n",
       "<table border=\"1\" class=\"dataframe\">\n",
       "  <thead>\n",
       "    <tr style=\"text-align: right;\">\n",
       "      <th></th>\n",
       "      <th>0</th>\n",
       "      <th>1</th>\n",
       "      <th>2</th>\n",
       "      <th>3</th>\n",
       "    </tr>\n",
       "  </thead>\n",
       "  <tbody>\n",
       "    <tr>\n",
       "      <th>0</th>\n",
       "      <td>Kaapicino</td>\n",
       "      <td>Combo-south Indian Filter Kaapi 150 ML + Pappa...</td>\n",
       "      <td>Espresso</td>\n",
       "      <td></td>\n",
       "    </tr>\n",
       "    <tr>\n",
       "      <th>1</th>\n",
       "      <td>Coconut Natkhatai (With Egg)</td>\n",
       "      <td>Hot Chocolate</td>\n",
       "      <td>Baked Vada Pav</td>\n",
       "      <td></td>\n",
       "    </tr>\n",
       "    <tr>\n",
       "      <th>2</th>\n",
       "      <td>Calzones Veg</td>\n",
       "      <td>Espresso</td>\n",
       "      <td>Combo-south Indian Filter Kaapi 150 ML + Pappa...</td>\n",
       "      <td></td>\n",
       "    </tr>\n",
       "    <tr>\n",
       "      <th>3</th>\n",
       "      <td>Madagascar Hot Chocolate</td>\n",
       "      <td>Plain Nankhatai Veg</td>\n",
       "      <td>Baked Vada Pav</td>\n",
       "      <td></td>\n",
       "    </tr>\n",
       "    <tr>\n",
       "      <th>4</th>\n",
       "      <td>Madagascar Hot Chocolate</td>\n",
       "      <td>Espresso</td>\n",
       "      <td>Baked Vada Pav</td>\n",
       "      <td></td>\n",
       "    </tr>\n",
       "    <tr>\n",
       "      <th>5</th>\n",
       "      <td>Combo-south Indian Filter Kaapi 150 ML + Pappa...</td>\n",
       "      <td>Espresso</td>\n",
       "      <td>Baked Vada Pav</td>\n",
       "      <td>Espresso</td>\n",
       "    </tr>\n",
       "  </tbody>\n",
       "</table>\n",
       "</div>"
      ],
      "text/plain": [
       "                                                   0  \\\n",
       "0                                          Kaapicino   \n",
       "1                       Coconut Natkhatai (With Egg)   \n",
       "2                                       Calzones Veg   \n",
       "3                           Madagascar Hot Chocolate   \n",
       "4                           Madagascar Hot Chocolate   \n",
       "5  Combo-south Indian Filter Kaapi 150 ML + Pappa...   \n",
       "\n",
       "                                                   1  \\\n",
       "0  Combo-south Indian Filter Kaapi 150 ML + Pappa...   \n",
       "1                                      Hot Chocolate   \n",
       "2                                           Espresso   \n",
       "3                                Plain Nankhatai Veg   \n",
       "4                                           Espresso   \n",
       "5                                           Espresso   \n",
       "\n",
       "                                                   2         3  \n",
       "0                                           Espresso            \n",
       "1                                     Baked Vada Pav            \n",
       "2  Combo-south Indian Filter Kaapi 150 ML + Pappa...            \n",
       "3                                     Baked Vada Pav            \n",
       "4                                     Baked Vada Pav            \n",
       "5                                     Baked Vada Pav  Espresso  "
      ]
     },
     "execution_count": 45,
     "metadata": {},
     "output_type": "execute_result"
    }
   ],
   "source": [
    "df"
   ]
  },
  {
   "cell_type": "code",
   "execution_count": 49,
   "id": "d7d5dcf3-f564-4fcc-b4d2-fd6e9d307587",
   "metadata": {},
   "outputs": [],
   "source": [
    "from pprint import pprint"
   ]
  },
  {
   "cell_type": "code",
   "execution_count": 55,
   "id": "f91b03a4-28bf-49b3-a40a-5800a03ea20f",
   "metadata": {},
   "outputs": [],
   "source": [
    "results=list(results)"
   ]
  },
  {
   "cell_type": "code",
   "execution_count": 66,
   "id": "100a2be5-c799-4c64-8a3a-086a674b54ac",
   "metadata": {},
   "outputs": [
    {
     "data": {
      "text/plain": [
       "0.8333333333333334"
      ]
     },
     "execution_count": 66,
     "metadata": {},
     "output_type": "execute_result"
    }
   ],
   "source": [
    "results[0[2][0][2]"
   ]
  },
  {
   "cell_type": "code",
   "execution_count": 68,
   "id": "7f354751-f11c-40a1-ad05-c28cfb172f15",
   "metadata": {},
   "outputs": [],
   "source": [
    "sorted_data=sorted(results,key=lambda x:x[2][0][2],reverse=True)"
   ]
  },
  {
   "cell_type": "code",
   "execution_count": 69,
   "id": "ebf53dcf-4ddb-45e1-8161-e4189d0590f6",
   "metadata": {},
   "outputs": [
    {
     "data": {
      "text/plain": [
       "[RelationRecord(items=frozenset({''}), support=0.8333333333333334, ordered_statistics=[OrderedStatistic(items_base=frozenset(), items_add=frozenset({''}), confidence=0.8333333333333334, lift=1.0)]),\n",
       " RelationRecord(items=frozenset({'Baked Vada Pav'}), support=0.6666666666666666, ordered_statistics=[OrderedStatistic(items_base=frozenset(), items_add=frozenset({'Baked Vada Pav'}), confidence=0.6666666666666666, lift=1.0)]),\n",
       " RelationRecord(items=frozenset({'Espresso'}), support=0.6666666666666666, ordered_statistics=[OrderedStatistic(items_base=frozenset(), items_add=frozenset({'Espresso'}), confidence=0.6666666666666666, lift=1.0)]),\n",
       " RelationRecord(items=frozenset({'Combo-south Indian Filter Kaapi 150 ML + Papparoti'}), support=0.5, ordered_statistics=[OrderedStatistic(items_base=frozenset(), items_add=frozenset({'Combo-south Indian Filter Kaapi 150 ML + Papparoti'}), confidence=0.5, lift=1.0)]),\n",
       " RelationRecord(items=frozenset({'', 'Baked Vada Pav'}), support=0.5, ordered_statistics=[OrderedStatistic(items_base=frozenset(), items_add=frozenset({'', 'Baked Vada Pav'}), confidence=0.5, lift=1.0), OrderedStatistic(items_base=frozenset({''}), items_add=frozenset({'Baked Vada Pav'}), confidence=0.6, lift=0.9), OrderedStatistic(items_base=frozenset({'Baked Vada Pav'}), items_add=frozenset({''}), confidence=0.75, lift=0.8999999999999999)]),\n",
       " RelationRecord(items=frozenset({'', 'Espresso'}), support=0.5, ordered_statistics=[OrderedStatistic(items_base=frozenset(), items_add=frozenset({'', 'Espresso'}), confidence=0.5, lift=1.0), OrderedStatistic(items_base=frozenset({''}), items_add=frozenset({'Espresso'}), confidence=0.6, lift=0.9), OrderedStatistic(items_base=frozenset({'Espresso'}), items_add=frozenset({''}), confidence=0.75, lift=0.8999999999999999)]),\n",
       " RelationRecord(items=frozenset({'Espresso', 'Combo-south Indian Filter Kaapi 150 ML + Papparoti'}), support=0.5, ordered_statistics=[OrderedStatistic(items_base=frozenset(), items_add=frozenset({'Combo-south Indian Filter Kaapi 150 ML + Papparoti', 'Espresso'}), confidence=0.5, lift=1.0), OrderedStatistic(items_base=frozenset({'Combo-south Indian Filter Kaapi 150 ML + Papparoti'}), items_add=frozenset({'Espresso'}), confidence=1.0, lift=1.5), OrderedStatistic(items_base=frozenset({'Espresso'}), items_add=frozenset({'Combo-south Indian Filter Kaapi 150 ML + Papparoti'}), confidence=0.75, lift=1.5)]),\n",
       " RelationRecord(items=frozenset({'Madagascar Hot Chocolate'}), support=0.3333333333333333, ordered_statistics=[OrderedStatistic(items_base=frozenset(), items_add=frozenset({'Madagascar Hot Chocolate'}), confidence=0.3333333333333333, lift=1.0)]),\n",
       " RelationRecord(items=frozenset({'', 'Combo-south Indian Filter Kaapi 150 ML + Papparoti'}), support=0.3333333333333333, ordered_statistics=[OrderedStatistic(items_base=frozenset(), items_add=frozenset({'', 'Combo-south Indian Filter Kaapi 150 ML + Papparoti'}), confidence=0.3333333333333333, lift=1.0), OrderedStatistic(items_base=frozenset({''}), items_add=frozenset({'Combo-south Indian Filter Kaapi 150 ML + Papparoti'}), confidence=0.39999999999999997, lift=0.7999999999999999), OrderedStatistic(items_base=frozenset({'Combo-south Indian Filter Kaapi 150 ML + Papparoti'}), items_add=frozenset({''}), confidence=0.6666666666666666, lift=0.7999999999999999)]),\n",
       " RelationRecord(items=frozenset({'', 'Madagascar Hot Chocolate'}), support=0.3333333333333333, ordered_statistics=[OrderedStatistic(items_base=frozenset(), items_add=frozenset({'', 'Madagascar Hot Chocolate'}), confidence=0.3333333333333333, lift=1.0), OrderedStatistic(items_base=frozenset({''}), items_add=frozenset({'Madagascar Hot Chocolate'}), confidence=0.39999999999999997, lift=1.2), OrderedStatistic(items_base=frozenset({'Madagascar Hot Chocolate'}), items_add=frozenset({''}), confidence=1.0, lift=1.2)]),\n",
       " RelationRecord(items=frozenset({'Baked Vada Pav', 'Espresso'}), support=0.3333333333333333, ordered_statistics=[OrderedStatistic(items_base=frozenset(), items_add=frozenset({'Baked Vada Pav', 'Espresso'}), confidence=0.3333333333333333, lift=1.0), OrderedStatistic(items_base=frozenset({'Baked Vada Pav'}), items_add=frozenset({'Espresso'}), confidence=0.5, lift=0.75), OrderedStatistic(items_base=frozenset({'Espresso'}), items_add=frozenset({'Baked Vada Pav'}), confidence=0.5, lift=0.75)]),\n",
       " RelationRecord(items=frozenset({'Baked Vada Pav', 'Madagascar Hot Chocolate'}), support=0.3333333333333333, ordered_statistics=[OrderedStatistic(items_base=frozenset(), items_add=frozenset({'Baked Vada Pav', 'Madagascar Hot Chocolate'}), confidence=0.3333333333333333, lift=1.0), OrderedStatistic(items_base=frozenset({'Baked Vada Pav'}), items_add=frozenset({'Madagascar Hot Chocolate'}), confidence=0.5, lift=1.5), OrderedStatistic(items_base=frozenset({'Madagascar Hot Chocolate'}), items_add=frozenset({'Baked Vada Pav'}), confidence=1.0, lift=1.5)]),\n",
       " RelationRecord(items=frozenset({'', 'Baked Vada Pav', 'Madagascar Hot Chocolate'}), support=0.3333333333333333, ordered_statistics=[OrderedStatistic(items_base=frozenset(), items_add=frozenset({'', 'Baked Vada Pav', 'Madagascar Hot Chocolate'}), confidence=0.3333333333333333, lift=1.0), OrderedStatistic(items_base=frozenset({''}), items_add=frozenset({'Baked Vada Pav', 'Madagascar Hot Chocolate'}), confidence=0.39999999999999997, lift=1.2), OrderedStatistic(items_base=frozenset({'Baked Vada Pav'}), items_add=frozenset({'', 'Madagascar Hot Chocolate'}), confidence=0.5, lift=1.5), OrderedStatistic(items_base=frozenset({'Madagascar Hot Chocolate'}), items_add=frozenset({'', 'Baked Vada Pav'}), confidence=1.0, lift=2.0), OrderedStatistic(items_base=frozenset({'', 'Baked Vada Pav'}), items_add=frozenset({'Madagascar Hot Chocolate'}), confidence=0.6666666666666666, lift=2.0), OrderedStatistic(items_base=frozenset({'', 'Madagascar Hot Chocolate'}), items_add=frozenset({'Baked Vada Pav'}), confidence=1.0, lift=1.5), OrderedStatistic(items_base=frozenset({'Baked Vada Pav', 'Madagascar Hot Chocolate'}), items_add=frozenset({''}), confidence=1.0, lift=1.2)]),\n",
       " RelationRecord(items=frozenset({'', 'Espresso', 'Combo-south Indian Filter Kaapi 150 ML + Papparoti'}), support=0.3333333333333333, ordered_statistics=[OrderedStatistic(items_base=frozenset(), items_add=frozenset({'', 'Combo-south Indian Filter Kaapi 150 ML + Papparoti', 'Espresso'}), confidence=0.3333333333333333, lift=1.0), OrderedStatistic(items_base=frozenset({''}), items_add=frozenset({'Combo-south Indian Filter Kaapi 150 ML + Papparoti', 'Espresso'}), confidence=0.39999999999999997, lift=0.7999999999999999), OrderedStatistic(items_base=frozenset({'Combo-south Indian Filter Kaapi 150 ML + Papparoti'}), items_add=frozenset({'', 'Espresso'}), confidence=0.6666666666666666, lift=1.3333333333333333), OrderedStatistic(items_base=frozenset({'Espresso'}), items_add=frozenset({'', 'Combo-south Indian Filter Kaapi 150 ML + Papparoti'}), confidence=0.5, lift=1.5), OrderedStatistic(items_base=frozenset({'', 'Combo-south Indian Filter Kaapi 150 ML + Papparoti'}), items_add=frozenset({'Espresso'}), confidence=1.0, lift=1.5), OrderedStatistic(items_base=frozenset({'', 'Espresso'}), items_add=frozenset({'Combo-south Indian Filter Kaapi 150 ML + Papparoti'}), confidence=0.6666666666666666, lift=1.3333333333333333), OrderedStatistic(items_base=frozenset({'Espresso', 'Combo-south Indian Filter Kaapi 150 ML + Papparoti'}), items_add=frozenset({''}), confidence=0.6666666666666666, lift=0.7999999999999999)]),\n",
       " RelationRecord(items=frozenset({'Calzones Veg'}), support=0.16666666666666666, ordered_statistics=[OrderedStatistic(items_base=frozenset(), items_add=frozenset({'Calzones Veg'}), confidence=0.16666666666666666, lift=1.0)]),\n",
       " RelationRecord(items=frozenset({'Coconut Natkhatai (With Egg)'}), support=0.16666666666666666, ordered_statistics=[OrderedStatistic(items_base=frozenset(), items_add=frozenset({'Coconut Natkhatai (With Egg)'}), confidence=0.16666666666666666, lift=1.0)]),\n",
       " RelationRecord(items=frozenset({'Hot Chocolate'}), support=0.16666666666666666, ordered_statistics=[OrderedStatistic(items_base=frozenset(), items_add=frozenset({'Hot Chocolate'}), confidence=0.16666666666666666, lift=1.0)]),\n",
       " RelationRecord(items=frozenset({'Kaapicino'}), support=0.16666666666666666, ordered_statistics=[OrderedStatistic(items_base=frozenset(), items_add=frozenset({'Kaapicino'}), confidence=0.16666666666666666, lift=1.0)]),\n",
       " RelationRecord(items=frozenset({'Plain Nankhatai Veg'}), support=0.16666666666666666, ordered_statistics=[OrderedStatistic(items_base=frozenset(), items_add=frozenset({'Plain Nankhatai Veg'}), confidence=0.16666666666666666, lift=1.0)]),\n",
       " RelationRecord(items=frozenset({'', 'Calzones Veg'}), support=0.16666666666666666, ordered_statistics=[OrderedStatistic(items_base=frozenset(), items_add=frozenset({'', 'Calzones Veg'}), confidence=0.16666666666666666, lift=1.0), OrderedStatistic(items_base=frozenset({''}), items_add=frozenset({'Calzones Veg'}), confidence=0.19999999999999998, lift=1.2), OrderedStatistic(items_base=frozenset({'Calzones Veg'}), items_add=frozenset({''}), confidence=1.0, lift=1.2)]),\n",
       " RelationRecord(items=frozenset({'', 'Coconut Natkhatai (With Egg)'}), support=0.16666666666666666, ordered_statistics=[OrderedStatistic(items_base=frozenset(), items_add=frozenset({'', 'Coconut Natkhatai (With Egg)'}), confidence=0.16666666666666666, lift=1.0), OrderedStatistic(items_base=frozenset({''}), items_add=frozenset({'Coconut Natkhatai (With Egg)'}), confidence=0.19999999999999998, lift=1.2), OrderedStatistic(items_base=frozenset({'Coconut Natkhatai (With Egg)'}), items_add=frozenset({''}), confidence=1.0, lift=1.2)]),\n",
       " RelationRecord(items=frozenset({'', 'Hot Chocolate'}), support=0.16666666666666666, ordered_statistics=[OrderedStatistic(items_base=frozenset(), items_add=frozenset({'', 'Hot Chocolate'}), confidence=0.16666666666666666, lift=1.0), OrderedStatistic(items_base=frozenset({''}), items_add=frozenset({'Hot Chocolate'}), confidence=0.19999999999999998, lift=1.2), OrderedStatistic(items_base=frozenset({'Hot Chocolate'}), items_add=frozenset({''}), confidence=1.0, lift=1.2)]),\n",
       " RelationRecord(items=frozenset({'', 'Kaapicino'}), support=0.16666666666666666, ordered_statistics=[OrderedStatistic(items_base=frozenset(), items_add=frozenset({'', 'Kaapicino'}), confidence=0.16666666666666666, lift=1.0), OrderedStatistic(items_base=frozenset({''}), items_add=frozenset({'Kaapicino'}), confidence=0.19999999999999998, lift=1.2), OrderedStatistic(items_base=frozenset({'Kaapicino'}), items_add=frozenset({''}), confidence=1.0, lift=1.2)]),\n",
       " RelationRecord(items=frozenset({'', 'Plain Nankhatai Veg'}), support=0.16666666666666666, ordered_statistics=[OrderedStatistic(items_base=frozenset(), items_add=frozenset({'', 'Plain Nankhatai Veg'}), confidence=0.16666666666666666, lift=1.0), OrderedStatistic(items_base=frozenset({''}), items_add=frozenset({'Plain Nankhatai Veg'}), confidence=0.19999999999999998, lift=1.2), OrderedStatistic(items_base=frozenset({'Plain Nankhatai Veg'}), items_add=frozenset({''}), confidence=1.0, lift=1.2)]),\n",
       " RelationRecord(items=frozenset({'Baked Vada Pav', 'Coconut Natkhatai (With Egg)'}), support=0.16666666666666666, ordered_statistics=[OrderedStatistic(items_base=frozenset(), items_add=frozenset({'Baked Vada Pav', 'Coconut Natkhatai (With Egg)'}), confidence=0.16666666666666666, lift=1.0), OrderedStatistic(items_base=frozenset({'Baked Vada Pav'}), items_add=frozenset({'Coconut Natkhatai (With Egg)'}), confidence=0.25, lift=1.5), OrderedStatistic(items_base=frozenset({'Coconut Natkhatai (With Egg)'}), items_add=frozenset({'Baked Vada Pav'}), confidence=1.0, lift=1.5)]),\n",
       " RelationRecord(items=frozenset({'Baked Vada Pav', 'Combo-south Indian Filter Kaapi 150 ML + Papparoti'}), support=0.16666666666666666, ordered_statistics=[OrderedStatistic(items_base=frozenset(), items_add=frozenset({'Baked Vada Pav', 'Combo-south Indian Filter Kaapi 150 ML + Papparoti'}), confidence=0.16666666666666666, lift=1.0), OrderedStatistic(items_base=frozenset({'Baked Vada Pav'}), items_add=frozenset({'Combo-south Indian Filter Kaapi 150 ML + Papparoti'}), confidence=0.25, lift=0.5), OrderedStatistic(items_base=frozenset({'Combo-south Indian Filter Kaapi 150 ML + Papparoti'}), items_add=frozenset({'Baked Vada Pav'}), confidence=0.3333333333333333, lift=0.5)]),\n",
       " RelationRecord(items=frozenset({'Baked Vada Pav', 'Hot Chocolate'}), support=0.16666666666666666, ordered_statistics=[OrderedStatistic(items_base=frozenset(), items_add=frozenset({'Baked Vada Pav', 'Hot Chocolate'}), confidence=0.16666666666666666, lift=1.0), OrderedStatistic(items_base=frozenset({'Baked Vada Pav'}), items_add=frozenset({'Hot Chocolate'}), confidence=0.25, lift=1.5), OrderedStatistic(items_base=frozenset({'Hot Chocolate'}), items_add=frozenset({'Baked Vada Pav'}), confidence=1.0, lift=1.5)]),\n",
       " RelationRecord(items=frozenset({'Baked Vada Pav', 'Plain Nankhatai Veg'}), support=0.16666666666666666, ordered_statistics=[OrderedStatistic(items_base=frozenset(), items_add=frozenset({'Baked Vada Pav', 'Plain Nankhatai Veg'}), confidence=0.16666666666666666, lift=1.0), OrderedStatistic(items_base=frozenset({'Baked Vada Pav'}), items_add=frozenset({'Plain Nankhatai Veg'}), confidence=0.25, lift=1.5), OrderedStatistic(items_base=frozenset({'Plain Nankhatai Veg'}), items_add=frozenset({'Baked Vada Pav'}), confidence=1.0, lift=1.5)]),\n",
       " RelationRecord(items=frozenset({'Calzones Veg', 'Combo-south Indian Filter Kaapi 150 ML + Papparoti'}), support=0.16666666666666666, ordered_statistics=[OrderedStatistic(items_base=frozenset(), items_add=frozenset({'Calzones Veg', 'Combo-south Indian Filter Kaapi 150 ML + Papparoti'}), confidence=0.16666666666666666, lift=1.0), OrderedStatistic(items_base=frozenset({'Calzones Veg'}), items_add=frozenset({'Combo-south Indian Filter Kaapi 150 ML + Papparoti'}), confidence=1.0, lift=2.0), OrderedStatistic(items_base=frozenset({'Combo-south Indian Filter Kaapi 150 ML + Papparoti'}), items_add=frozenset({'Calzones Veg'}), confidence=0.3333333333333333, lift=2.0)]),\n",
       " RelationRecord(items=frozenset({'Calzones Veg', 'Espresso'}), support=0.16666666666666666, ordered_statistics=[OrderedStatistic(items_base=frozenset(), items_add=frozenset({'Calzones Veg', 'Espresso'}), confidence=0.16666666666666666, lift=1.0), OrderedStatistic(items_base=frozenset({'Calzones Veg'}), items_add=frozenset({'Espresso'}), confidence=1.0, lift=1.5), OrderedStatistic(items_base=frozenset({'Espresso'}), items_add=frozenset({'Calzones Veg'}), confidence=0.25, lift=1.5)]),\n",
       " RelationRecord(items=frozenset({'Hot Chocolate', 'Coconut Natkhatai (With Egg)'}), support=0.16666666666666666, ordered_statistics=[OrderedStatistic(items_base=frozenset(), items_add=frozenset({'Hot Chocolate', 'Coconut Natkhatai (With Egg)'}), confidence=0.16666666666666666, lift=1.0), OrderedStatistic(items_base=frozenset({'Coconut Natkhatai (With Egg)'}), items_add=frozenset({'Hot Chocolate'}), confidence=1.0, lift=6.0), OrderedStatistic(items_base=frozenset({'Hot Chocolate'}), items_add=frozenset({'Coconut Natkhatai (With Egg)'}), confidence=1.0, lift=6.0)]),\n",
       " RelationRecord(items=frozenset({'Combo-south Indian Filter Kaapi 150 ML + Papparoti', 'Kaapicino'}), support=0.16666666666666666, ordered_statistics=[OrderedStatistic(items_base=frozenset(), items_add=frozenset({'Combo-south Indian Filter Kaapi 150 ML + Papparoti', 'Kaapicino'}), confidence=0.16666666666666666, lift=1.0), OrderedStatistic(items_base=frozenset({'Combo-south Indian Filter Kaapi 150 ML + Papparoti'}), items_add=frozenset({'Kaapicino'}), confidence=0.3333333333333333, lift=2.0), OrderedStatistic(items_base=frozenset({'Kaapicino'}), items_add=frozenset({'Combo-south Indian Filter Kaapi 150 ML + Papparoti'}), confidence=1.0, lift=2.0)]),\n",
       " RelationRecord(items=frozenset({'Espresso', 'Kaapicino'}), support=0.16666666666666666, ordered_statistics=[OrderedStatistic(items_base=frozenset(), items_add=frozenset({'Espresso', 'Kaapicino'}), confidence=0.16666666666666666, lift=1.0), OrderedStatistic(items_base=frozenset({'Espresso'}), items_add=frozenset({'Kaapicino'}), confidence=0.25, lift=1.5), OrderedStatistic(items_base=frozenset({'Kaapicino'}), items_add=frozenset({'Espresso'}), confidence=1.0, lift=1.5)]),\n",
       " RelationRecord(items=frozenset({'Madagascar Hot Chocolate', 'Espresso'}), support=0.16666666666666666, ordered_statistics=[OrderedStatistic(items_base=frozenset(), items_add=frozenset({'Espresso', 'Madagascar Hot Chocolate'}), confidence=0.16666666666666666, lift=1.0), OrderedStatistic(items_base=frozenset({'Espresso'}), items_add=frozenset({'Madagascar Hot Chocolate'}), confidence=0.25, lift=0.75), OrderedStatistic(items_base=frozenset({'Madagascar Hot Chocolate'}), items_add=frozenset({'Espresso'}), confidence=0.5, lift=0.75)]),\n",
       " RelationRecord(items=frozenset({'Plain Nankhatai Veg', 'Madagascar Hot Chocolate'}), support=0.16666666666666666, ordered_statistics=[OrderedStatistic(items_base=frozenset(), items_add=frozenset({'Plain Nankhatai Veg', 'Madagascar Hot Chocolate'}), confidence=0.16666666666666666, lift=1.0), OrderedStatistic(items_base=frozenset({'Madagascar Hot Chocolate'}), items_add=frozenset({'Plain Nankhatai Veg'}), confidence=0.5, lift=3.0), OrderedStatistic(items_base=frozenset({'Plain Nankhatai Veg'}), items_add=frozenset({'Madagascar Hot Chocolate'}), confidence=1.0, lift=3.0)]),\n",
       " RelationRecord(items=frozenset({'', 'Coconut Natkhatai (With Egg)', 'Baked Vada Pav'}), support=0.16666666666666666, ordered_statistics=[OrderedStatistic(items_base=frozenset(), items_add=frozenset({'', 'Coconut Natkhatai (With Egg)', 'Baked Vada Pav'}), confidence=0.16666666666666666, lift=1.0), OrderedStatistic(items_base=frozenset({''}), items_add=frozenset({'Baked Vada Pav', 'Coconut Natkhatai (With Egg)'}), confidence=0.19999999999999998, lift=1.2), OrderedStatistic(items_base=frozenset({'Baked Vada Pav'}), items_add=frozenset({'', 'Coconut Natkhatai (With Egg)'}), confidence=0.25, lift=1.5), OrderedStatistic(items_base=frozenset({'Coconut Natkhatai (With Egg)'}), items_add=frozenset({'', 'Baked Vada Pav'}), confidence=1.0, lift=2.0), OrderedStatistic(items_base=frozenset({'', 'Baked Vada Pav'}), items_add=frozenset({'Coconut Natkhatai (With Egg)'}), confidence=0.3333333333333333, lift=2.0), OrderedStatistic(items_base=frozenset({'', 'Coconut Natkhatai (With Egg)'}), items_add=frozenset({'Baked Vada Pav'}), confidence=1.0, lift=1.5), OrderedStatistic(items_base=frozenset({'Baked Vada Pav', 'Coconut Natkhatai (With Egg)'}), items_add=frozenset({''}), confidence=1.0, lift=1.2)]),\n",
       " RelationRecord(items=frozenset({'', 'Baked Vada Pav', 'Espresso'}), support=0.16666666666666666, ordered_statistics=[OrderedStatistic(items_base=frozenset(), items_add=frozenset({'', 'Baked Vada Pav', 'Espresso'}), confidence=0.16666666666666666, lift=1.0), OrderedStatistic(items_base=frozenset({''}), items_add=frozenset({'Baked Vada Pav', 'Espresso'}), confidence=0.19999999999999998, lift=0.6), OrderedStatistic(items_base=frozenset({'Baked Vada Pav'}), items_add=frozenset({'', 'Espresso'}), confidence=0.25, lift=0.5), OrderedStatistic(items_base=frozenset({'Espresso'}), items_add=frozenset({'', 'Baked Vada Pav'}), confidence=0.25, lift=0.5), OrderedStatistic(items_base=frozenset({'', 'Baked Vada Pav'}), items_add=frozenset({'Espresso'}), confidence=0.3333333333333333, lift=0.5), OrderedStatistic(items_base=frozenset({'', 'Espresso'}), items_add=frozenset({'Baked Vada Pav'}), confidence=0.3333333333333333, lift=0.5), OrderedStatistic(items_base=frozenset({'Baked Vada Pav', 'Espresso'}), items_add=frozenset({''}), confidence=0.5, lift=0.6)]),\n",
       " RelationRecord(items=frozenset({'', 'Hot Chocolate', 'Baked Vada Pav'}), support=0.16666666666666666, ordered_statistics=[OrderedStatistic(items_base=frozenset(), items_add=frozenset({'', 'Hot Chocolate', 'Baked Vada Pav'}), confidence=0.16666666666666666, lift=1.0), OrderedStatistic(items_base=frozenset({''}), items_add=frozenset({'Hot Chocolate', 'Baked Vada Pav'}), confidence=0.19999999999999998, lift=1.2), OrderedStatistic(items_base=frozenset({'Baked Vada Pav'}), items_add=frozenset({'', 'Hot Chocolate'}), confidence=0.25, lift=1.5), OrderedStatistic(items_base=frozenset({'Hot Chocolate'}), items_add=frozenset({'', 'Baked Vada Pav'}), confidence=1.0, lift=2.0), OrderedStatistic(items_base=frozenset({'', 'Baked Vada Pav'}), items_add=frozenset({'Hot Chocolate'}), confidence=0.3333333333333333, lift=2.0), OrderedStatistic(items_base=frozenset({'', 'Hot Chocolate'}), items_add=frozenset({'Baked Vada Pav'}), confidence=1.0, lift=1.5), OrderedStatistic(items_base=frozenset({'Baked Vada Pav', 'Hot Chocolate'}), items_add=frozenset({''}), confidence=1.0, lift=1.2)]),\n",
       " RelationRecord(items=frozenset({'', 'Plain Nankhatai Veg', 'Baked Vada Pav'}), support=0.16666666666666666, ordered_statistics=[OrderedStatistic(items_base=frozenset(), items_add=frozenset({'', 'Plain Nankhatai Veg', 'Baked Vada Pav'}), confidence=0.16666666666666666, lift=1.0), OrderedStatistic(items_base=frozenset({''}), items_add=frozenset({'Baked Vada Pav', 'Plain Nankhatai Veg'}), confidence=0.19999999999999998, lift=1.2), OrderedStatistic(items_base=frozenset({'Baked Vada Pav'}), items_add=frozenset({'', 'Plain Nankhatai Veg'}), confidence=0.25, lift=1.5), OrderedStatistic(items_base=frozenset({'Plain Nankhatai Veg'}), items_add=frozenset({'', 'Baked Vada Pav'}), confidence=1.0, lift=2.0), OrderedStatistic(items_base=frozenset({'', 'Baked Vada Pav'}), items_add=frozenset({'Plain Nankhatai Veg'}), confidence=0.3333333333333333, lift=2.0), OrderedStatistic(items_base=frozenset({'', 'Plain Nankhatai Veg'}), items_add=frozenset({'Baked Vada Pav'}), confidence=1.0, lift=1.5), OrderedStatistic(items_base=frozenset({'Baked Vada Pav', 'Plain Nankhatai Veg'}), items_add=frozenset({''}), confidence=1.0, lift=1.2)]),\n",
       " RelationRecord(items=frozenset({'', 'Calzones Veg', 'Combo-south Indian Filter Kaapi 150 ML + Papparoti'}), support=0.16666666666666666, ordered_statistics=[OrderedStatistic(items_base=frozenset(), items_add=frozenset({'', 'Calzones Veg', 'Combo-south Indian Filter Kaapi 150 ML + Papparoti'}), confidence=0.16666666666666666, lift=1.0), OrderedStatistic(items_base=frozenset({''}), items_add=frozenset({'Calzones Veg', 'Combo-south Indian Filter Kaapi 150 ML + Papparoti'}), confidence=0.19999999999999998, lift=1.2), OrderedStatistic(items_base=frozenset({'Calzones Veg'}), items_add=frozenset({'', 'Combo-south Indian Filter Kaapi 150 ML + Papparoti'}), confidence=1.0, lift=3.0), OrderedStatistic(items_base=frozenset({'Combo-south Indian Filter Kaapi 150 ML + Papparoti'}), items_add=frozenset({'', 'Calzones Veg'}), confidence=0.3333333333333333, lift=2.0), OrderedStatistic(items_base=frozenset({'', 'Calzones Veg'}), items_add=frozenset({'Combo-south Indian Filter Kaapi 150 ML + Papparoti'}), confidence=1.0, lift=2.0), OrderedStatistic(items_base=frozenset({'', 'Combo-south Indian Filter Kaapi 150 ML + Papparoti'}), items_add=frozenset({'Calzones Veg'}), confidence=0.5, lift=3.0), OrderedStatistic(items_base=frozenset({'Calzones Veg', 'Combo-south Indian Filter Kaapi 150 ML + Papparoti'}), items_add=frozenset({''}), confidence=1.0, lift=1.2)]),\n",
       " RelationRecord(items=frozenset({'', 'Calzones Veg', 'Espresso'}), support=0.16666666666666666, ordered_statistics=[OrderedStatistic(items_base=frozenset(), items_add=frozenset({'', 'Calzones Veg', 'Espresso'}), confidence=0.16666666666666666, lift=1.0), OrderedStatistic(items_base=frozenset({''}), items_add=frozenset({'Calzones Veg', 'Espresso'}), confidence=0.19999999999999998, lift=1.2), OrderedStatistic(items_base=frozenset({'Calzones Veg'}), items_add=frozenset({'', 'Espresso'}), confidence=1.0, lift=2.0), OrderedStatistic(items_base=frozenset({'Espresso'}), items_add=frozenset({'', 'Calzones Veg'}), confidence=0.25, lift=1.5), OrderedStatistic(items_base=frozenset({'', 'Calzones Veg'}), items_add=frozenset({'Espresso'}), confidence=1.0, lift=1.5), OrderedStatistic(items_base=frozenset({'', 'Espresso'}), items_add=frozenset({'Calzones Veg'}), confidence=0.3333333333333333, lift=2.0), OrderedStatistic(items_base=frozenset({'Calzones Veg', 'Espresso'}), items_add=frozenset({''}), confidence=1.0, lift=1.2)]),\n",
       " RelationRecord(items=frozenset({'', 'Hot Chocolate', 'Coconut Natkhatai (With Egg)'}), support=0.16666666666666666, ordered_statistics=[OrderedStatistic(items_base=frozenset(), items_add=frozenset({'', 'Hot Chocolate', 'Coconut Natkhatai (With Egg)'}), confidence=0.16666666666666666, lift=1.0), OrderedStatistic(items_base=frozenset({''}), items_add=frozenset({'Hot Chocolate', 'Coconut Natkhatai (With Egg)'}), confidence=0.19999999999999998, lift=1.2), OrderedStatistic(items_base=frozenset({'Coconut Natkhatai (With Egg)'}), items_add=frozenset({'', 'Hot Chocolate'}), confidence=1.0, lift=6.0), OrderedStatistic(items_base=frozenset({'Hot Chocolate'}), items_add=frozenset({'', 'Coconut Natkhatai (With Egg)'}), confidence=1.0, lift=6.0), OrderedStatistic(items_base=frozenset({'', 'Coconut Natkhatai (With Egg)'}), items_add=frozenset({'Hot Chocolate'}), confidence=1.0, lift=6.0), OrderedStatistic(items_base=frozenset({'', 'Hot Chocolate'}), items_add=frozenset({'Coconut Natkhatai (With Egg)'}), confidence=1.0, lift=6.0), OrderedStatistic(items_base=frozenset({'Hot Chocolate', 'Coconut Natkhatai (With Egg)'}), items_add=frozenset({''}), confidence=1.0, lift=1.2)]),\n",
       " RelationRecord(items=frozenset({'', 'Combo-south Indian Filter Kaapi 150 ML + Papparoti', 'Kaapicino'}), support=0.16666666666666666, ordered_statistics=[OrderedStatistic(items_base=frozenset(), items_add=frozenset({'', 'Combo-south Indian Filter Kaapi 150 ML + Papparoti', 'Kaapicino'}), confidence=0.16666666666666666, lift=1.0), OrderedStatistic(items_base=frozenset({''}), items_add=frozenset({'Combo-south Indian Filter Kaapi 150 ML + Papparoti', 'Kaapicino'}), confidence=0.19999999999999998, lift=1.2), OrderedStatistic(items_base=frozenset({'Combo-south Indian Filter Kaapi 150 ML + Papparoti'}), items_add=frozenset({'', 'Kaapicino'}), confidence=0.3333333333333333, lift=2.0), OrderedStatistic(items_base=frozenset({'Kaapicino'}), items_add=frozenset({'', 'Combo-south Indian Filter Kaapi 150 ML + Papparoti'}), confidence=1.0, lift=3.0), OrderedStatistic(items_base=frozenset({'', 'Combo-south Indian Filter Kaapi 150 ML + Papparoti'}), items_add=frozenset({'Kaapicino'}), confidence=0.5, lift=3.0), OrderedStatistic(items_base=frozenset({'', 'Kaapicino'}), items_add=frozenset({'Combo-south Indian Filter Kaapi 150 ML + Papparoti'}), confidence=1.0, lift=2.0), OrderedStatistic(items_base=frozenset({'Combo-south Indian Filter Kaapi 150 ML + Papparoti', 'Kaapicino'}), items_add=frozenset({''}), confidence=1.0, lift=1.2)]),\n",
       " RelationRecord(items=frozenset({'', 'Espresso', 'Kaapicino'}), support=0.16666666666666666, ordered_statistics=[OrderedStatistic(items_base=frozenset(), items_add=frozenset({'', 'Espresso', 'Kaapicino'}), confidence=0.16666666666666666, lift=1.0), OrderedStatistic(items_base=frozenset({''}), items_add=frozenset({'Espresso', 'Kaapicino'}), confidence=0.19999999999999998, lift=1.2), OrderedStatistic(items_base=frozenset({'Espresso'}), items_add=frozenset({'', 'Kaapicino'}), confidence=0.25, lift=1.5), OrderedStatistic(items_base=frozenset({'Kaapicino'}), items_add=frozenset({'', 'Espresso'}), confidence=1.0, lift=2.0), OrderedStatistic(items_base=frozenset({'', 'Espresso'}), items_add=frozenset({'Kaapicino'}), confidence=0.3333333333333333, lift=2.0), OrderedStatistic(items_base=frozenset({'', 'Kaapicino'}), items_add=frozenset({'Espresso'}), confidence=1.0, lift=1.5), OrderedStatistic(items_base=frozenset({'Espresso', 'Kaapicino'}), items_add=frozenset({''}), confidence=1.0, lift=1.2)]),\n",
       " RelationRecord(items=frozenset({'', 'Madagascar Hot Chocolate', 'Espresso'}), support=0.16666666666666666, ordered_statistics=[OrderedStatistic(items_base=frozenset(), items_add=frozenset({'', 'Espresso', 'Madagascar Hot Chocolate'}), confidence=0.16666666666666666, lift=1.0), OrderedStatistic(items_base=frozenset({''}), items_add=frozenset({'Espresso', 'Madagascar Hot Chocolate'}), confidence=0.19999999999999998, lift=1.2), OrderedStatistic(items_base=frozenset({'Espresso'}), items_add=frozenset({'', 'Madagascar Hot Chocolate'}), confidence=0.25, lift=0.75), OrderedStatistic(items_base=frozenset({'Madagascar Hot Chocolate'}), items_add=frozenset({'', 'Espresso'}), confidence=0.5, lift=1.0), OrderedStatistic(items_base=frozenset({'', 'Espresso'}), items_add=frozenset({'Madagascar Hot Chocolate'}), confidence=0.3333333333333333, lift=1.0), OrderedStatistic(items_base=frozenset({'', 'Madagascar Hot Chocolate'}), items_add=frozenset({'Espresso'}), confidence=0.5, lift=0.75), OrderedStatistic(items_base=frozenset({'Madagascar Hot Chocolate', 'Espresso'}), items_add=frozenset({''}), confidence=1.0, lift=1.2)]),\n",
       " RelationRecord(items=frozenset({'', 'Plain Nankhatai Veg', 'Madagascar Hot Chocolate'}), support=0.16666666666666666, ordered_statistics=[OrderedStatistic(items_base=frozenset(), items_add=frozenset({'', 'Plain Nankhatai Veg', 'Madagascar Hot Chocolate'}), confidence=0.16666666666666666, lift=1.0), OrderedStatistic(items_base=frozenset({''}), items_add=frozenset({'Plain Nankhatai Veg', 'Madagascar Hot Chocolate'}), confidence=0.19999999999999998, lift=1.2), OrderedStatistic(items_base=frozenset({'Madagascar Hot Chocolate'}), items_add=frozenset({'', 'Plain Nankhatai Veg'}), confidence=0.5, lift=3.0), OrderedStatistic(items_base=frozenset({'Plain Nankhatai Veg'}), items_add=frozenset({'', 'Madagascar Hot Chocolate'}), confidence=1.0, lift=3.0), OrderedStatistic(items_base=frozenset({'', 'Madagascar Hot Chocolate'}), items_add=frozenset({'Plain Nankhatai Veg'}), confidence=0.5, lift=3.0), OrderedStatistic(items_base=frozenset({'', 'Plain Nankhatai Veg'}), items_add=frozenset({'Madagascar Hot Chocolate'}), confidence=1.0, lift=3.0), OrderedStatistic(items_base=frozenset({'Plain Nankhatai Veg', 'Madagascar Hot Chocolate'}), items_add=frozenset({''}), confidence=1.0, lift=1.2)]),\n",
       " RelationRecord(items=frozenset({'Baked Vada Pav', 'Hot Chocolate', 'Coconut Natkhatai (With Egg)'}), support=0.16666666666666666, ordered_statistics=[OrderedStatistic(items_base=frozenset(), items_add=frozenset({'Baked Vada Pav', 'Hot Chocolate', 'Coconut Natkhatai (With Egg)'}), confidence=0.16666666666666666, lift=1.0), OrderedStatistic(items_base=frozenset({'Baked Vada Pav'}), items_add=frozenset({'Hot Chocolate', 'Coconut Natkhatai (With Egg)'}), confidence=0.25, lift=1.5), OrderedStatistic(items_base=frozenset({'Coconut Natkhatai (With Egg)'}), items_add=frozenset({'Baked Vada Pav', 'Hot Chocolate'}), confidence=1.0, lift=6.0), OrderedStatistic(items_base=frozenset({'Hot Chocolate'}), items_add=frozenset({'Baked Vada Pav', 'Coconut Natkhatai (With Egg)'}), confidence=1.0, lift=6.0), OrderedStatistic(items_base=frozenset({'Baked Vada Pav', 'Coconut Natkhatai (With Egg)'}), items_add=frozenset({'Hot Chocolate'}), confidence=1.0, lift=6.0), OrderedStatistic(items_base=frozenset({'Baked Vada Pav', 'Hot Chocolate'}), items_add=frozenset({'Coconut Natkhatai (With Egg)'}), confidence=1.0, lift=6.0), OrderedStatistic(items_base=frozenset({'Hot Chocolate', 'Coconut Natkhatai (With Egg)'}), items_add=frozenset({'Baked Vada Pav'}), confidence=1.0, lift=1.5)]),\n",
       " RelationRecord(items=frozenset({'Baked Vada Pav', 'Espresso', 'Combo-south Indian Filter Kaapi 150 ML + Papparoti'}), support=0.16666666666666666, ordered_statistics=[OrderedStatistic(items_base=frozenset(), items_add=frozenset({'Baked Vada Pav', 'Combo-south Indian Filter Kaapi 150 ML + Papparoti', 'Espresso'}), confidence=0.16666666666666666, lift=1.0), OrderedStatistic(items_base=frozenset({'Baked Vada Pav'}), items_add=frozenset({'Combo-south Indian Filter Kaapi 150 ML + Papparoti', 'Espresso'}), confidence=0.25, lift=0.5), OrderedStatistic(items_base=frozenset({'Combo-south Indian Filter Kaapi 150 ML + Papparoti'}), items_add=frozenset({'Baked Vada Pav', 'Espresso'}), confidence=0.3333333333333333, lift=1.0), OrderedStatistic(items_base=frozenset({'Espresso'}), items_add=frozenset({'Baked Vada Pav', 'Combo-south Indian Filter Kaapi 150 ML + Papparoti'}), confidence=0.25, lift=1.5), OrderedStatistic(items_base=frozenset({'Baked Vada Pav', 'Combo-south Indian Filter Kaapi 150 ML + Papparoti'}), items_add=frozenset({'Espresso'}), confidence=1.0, lift=1.5), OrderedStatistic(items_base=frozenset({'Baked Vada Pav', 'Espresso'}), items_add=frozenset({'Combo-south Indian Filter Kaapi 150 ML + Papparoti'}), confidence=0.5, lift=1.0), OrderedStatistic(items_base=frozenset({'Espresso', 'Combo-south Indian Filter Kaapi 150 ML + Papparoti'}), items_add=frozenset({'Baked Vada Pav'}), confidence=0.3333333333333333, lift=0.5)]),\n",
       " RelationRecord(items=frozenset({'Baked Vada Pav', 'Madagascar Hot Chocolate', 'Espresso'}), support=0.16666666666666666, ordered_statistics=[OrderedStatistic(items_base=frozenset(), items_add=frozenset({'Baked Vada Pav', 'Espresso', 'Madagascar Hot Chocolate'}), confidence=0.16666666666666666, lift=1.0), OrderedStatistic(items_base=frozenset({'Baked Vada Pav'}), items_add=frozenset({'Espresso', 'Madagascar Hot Chocolate'}), confidence=0.25, lift=1.5), OrderedStatistic(items_base=frozenset({'Espresso'}), items_add=frozenset({'Baked Vada Pav', 'Madagascar Hot Chocolate'}), confidence=0.25, lift=0.75), OrderedStatistic(items_base=frozenset({'Madagascar Hot Chocolate'}), items_add=frozenset({'Baked Vada Pav', 'Espresso'}), confidence=0.5, lift=1.5), OrderedStatistic(items_base=frozenset({'Baked Vada Pav', 'Espresso'}), items_add=frozenset({'Madagascar Hot Chocolate'}), confidence=0.5, lift=1.5), OrderedStatistic(items_base=frozenset({'Baked Vada Pav', 'Madagascar Hot Chocolate'}), items_add=frozenset({'Espresso'}), confidence=0.5, lift=0.75), OrderedStatistic(items_base=frozenset({'Madagascar Hot Chocolate', 'Espresso'}), items_add=frozenset({'Baked Vada Pav'}), confidence=1.0, lift=1.5)]),\n",
       " RelationRecord(items=frozenset({'Baked Vada Pav', 'Plain Nankhatai Veg', 'Madagascar Hot Chocolate'}), support=0.16666666666666666, ordered_statistics=[OrderedStatistic(items_base=frozenset(), items_add=frozenset({'Baked Vada Pav', 'Plain Nankhatai Veg', 'Madagascar Hot Chocolate'}), confidence=0.16666666666666666, lift=1.0), OrderedStatistic(items_base=frozenset({'Baked Vada Pav'}), items_add=frozenset({'Plain Nankhatai Veg', 'Madagascar Hot Chocolate'}), confidence=0.25, lift=1.5), OrderedStatistic(items_base=frozenset({'Madagascar Hot Chocolate'}), items_add=frozenset({'Baked Vada Pav', 'Plain Nankhatai Veg'}), confidence=0.5, lift=3.0), OrderedStatistic(items_base=frozenset({'Plain Nankhatai Veg'}), items_add=frozenset({'Baked Vada Pav', 'Madagascar Hot Chocolate'}), confidence=1.0, lift=3.0), OrderedStatistic(items_base=frozenset({'Baked Vada Pav', 'Madagascar Hot Chocolate'}), items_add=frozenset({'Plain Nankhatai Veg'}), confidence=0.5, lift=3.0), OrderedStatistic(items_base=frozenset({'Baked Vada Pav', 'Plain Nankhatai Veg'}), items_add=frozenset({'Madagascar Hot Chocolate'}), confidence=1.0, lift=3.0), OrderedStatistic(items_base=frozenset({'Plain Nankhatai Veg', 'Madagascar Hot Chocolate'}), items_add=frozenset({'Baked Vada Pav'}), confidence=1.0, lift=1.5)]),\n",
       " RelationRecord(items=frozenset({'Espresso', 'Calzones Veg', 'Combo-south Indian Filter Kaapi 150 ML + Papparoti'}), support=0.16666666666666666, ordered_statistics=[OrderedStatistic(items_base=frozenset(), items_add=frozenset({'Combo-south Indian Filter Kaapi 150 ML + Papparoti', 'Calzones Veg', 'Espresso'}), confidence=0.16666666666666666, lift=1.0), OrderedStatistic(items_base=frozenset({'Calzones Veg'}), items_add=frozenset({'Combo-south Indian Filter Kaapi 150 ML + Papparoti', 'Espresso'}), confidence=1.0, lift=2.0), OrderedStatistic(items_base=frozenset({'Combo-south Indian Filter Kaapi 150 ML + Papparoti'}), items_add=frozenset({'Calzones Veg', 'Espresso'}), confidence=0.3333333333333333, lift=2.0), OrderedStatistic(items_base=frozenset({'Espresso'}), items_add=frozenset({'Calzones Veg', 'Combo-south Indian Filter Kaapi 150 ML + Papparoti'}), confidence=0.25, lift=1.5), OrderedStatistic(items_base=frozenset({'Calzones Veg', 'Combo-south Indian Filter Kaapi 150 ML + Papparoti'}), items_add=frozenset({'Espresso'}), confidence=1.0, lift=1.5), OrderedStatistic(items_base=frozenset({'Calzones Veg', 'Espresso'}), items_add=frozenset({'Combo-south Indian Filter Kaapi 150 ML + Papparoti'}), confidence=1.0, lift=2.0), OrderedStatistic(items_base=frozenset({'Espresso', 'Combo-south Indian Filter Kaapi 150 ML + Papparoti'}), items_add=frozenset({'Calzones Veg'}), confidence=0.3333333333333333, lift=2.0)]),\n",
       " RelationRecord(items=frozenset({'Espresso', 'Combo-south Indian Filter Kaapi 150 ML + Papparoti', 'Kaapicino'}), support=0.16666666666666666, ordered_statistics=[OrderedStatistic(items_base=frozenset(), items_add=frozenset({'Combo-south Indian Filter Kaapi 150 ML + Papparoti', 'Espresso', 'Kaapicino'}), confidence=0.16666666666666666, lift=1.0), OrderedStatistic(items_base=frozenset({'Combo-south Indian Filter Kaapi 150 ML + Papparoti'}), items_add=frozenset({'Espresso', 'Kaapicino'}), confidence=0.3333333333333333, lift=2.0), OrderedStatistic(items_base=frozenset({'Espresso'}), items_add=frozenset({'Combo-south Indian Filter Kaapi 150 ML + Papparoti', 'Kaapicino'}), confidence=0.25, lift=1.5), OrderedStatistic(items_base=frozenset({'Kaapicino'}), items_add=frozenset({'Combo-south Indian Filter Kaapi 150 ML + Papparoti', 'Espresso'}), confidence=1.0, lift=2.0), OrderedStatistic(items_base=frozenset({'Espresso', 'Combo-south Indian Filter Kaapi 150 ML + Papparoti'}), items_add=frozenset({'Kaapicino'}), confidence=0.3333333333333333, lift=2.0), OrderedStatistic(items_base=frozenset({'Combo-south Indian Filter Kaapi 150 ML + Papparoti', 'Kaapicino'}), items_add=frozenset({'Espresso'}), confidence=1.0, lift=1.5), OrderedStatistic(items_base=frozenset({'Espresso', 'Kaapicino'}), items_add=frozenset({'Combo-south Indian Filter Kaapi 150 ML + Papparoti'}), confidence=1.0, lift=2.0)]),\n",
       " RelationRecord(items=frozenset({'', 'Hot Chocolate', 'Coconut Natkhatai (With Egg)', 'Baked Vada Pav'}), support=0.16666666666666666, ordered_statistics=[OrderedStatistic(items_base=frozenset(), items_add=frozenset({'', 'Hot Chocolate', 'Coconut Natkhatai (With Egg)', 'Baked Vada Pav'}), confidence=0.16666666666666666, lift=1.0), OrderedStatistic(items_base=frozenset({''}), items_add=frozenset({'Hot Chocolate', 'Coconut Natkhatai (With Egg)', 'Baked Vada Pav'}), confidence=0.19999999999999998, lift=1.2), OrderedStatistic(items_base=frozenset({'Baked Vada Pav'}), items_add=frozenset({'', 'Hot Chocolate', 'Coconut Natkhatai (With Egg)'}), confidence=0.25, lift=1.5), OrderedStatistic(items_base=frozenset({'Coconut Natkhatai (With Egg)'}), items_add=frozenset({'', 'Hot Chocolate', 'Baked Vada Pav'}), confidence=1.0, lift=6.0), OrderedStatistic(items_base=frozenset({'Hot Chocolate'}), items_add=frozenset({'', 'Coconut Natkhatai (With Egg)', 'Baked Vada Pav'}), confidence=1.0, lift=6.0), OrderedStatistic(items_base=frozenset({'', 'Baked Vada Pav'}), items_add=frozenset({'Hot Chocolate', 'Coconut Natkhatai (With Egg)'}), confidence=0.3333333333333333, lift=2.0), OrderedStatistic(items_base=frozenset({'', 'Coconut Natkhatai (With Egg)'}), items_add=frozenset({'Hot Chocolate', 'Baked Vada Pav'}), confidence=1.0, lift=6.0), OrderedStatistic(items_base=frozenset({'', 'Hot Chocolate'}), items_add=frozenset({'Baked Vada Pav', 'Coconut Natkhatai (With Egg)'}), confidence=1.0, lift=6.0), OrderedStatistic(items_base=frozenset({'Baked Vada Pav', 'Coconut Natkhatai (With Egg)'}), items_add=frozenset({'', 'Hot Chocolate'}), confidence=1.0, lift=6.0), OrderedStatistic(items_base=frozenset({'Baked Vada Pav', 'Hot Chocolate'}), items_add=frozenset({'', 'Coconut Natkhatai (With Egg)'}), confidence=1.0, lift=6.0), OrderedStatistic(items_base=frozenset({'Hot Chocolate', 'Coconut Natkhatai (With Egg)'}), items_add=frozenset({'', 'Baked Vada Pav'}), confidence=1.0, lift=2.0), OrderedStatistic(items_base=frozenset({'', 'Coconut Natkhatai (With Egg)', 'Baked Vada Pav'}), items_add=frozenset({'Hot Chocolate'}), confidence=1.0, lift=6.0), OrderedStatistic(items_base=frozenset({'', 'Hot Chocolate', 'Baked Vada Pav'}), items_add=frozenset({'Coconut Natkhatai (With Egg)'}), confidence=1.0, lift=6.0), OrderedStatistic(items_base=frozenset({'', 'Hot Chocolate', 'Coconut Natkhatai (With Egg)'}), items_add=frozenset({'Baked Vada Pav'}), confidence=1.0, lift=1.5), OrderedStatistic(items_base=frozenset({'Baked Vada Pav', 'Hot Chocolate', 'Coconut Natkhatai (With Egg)'}), items_add=frozenset({''}), confidence=1.0, lift=1.2)]),\n",
       " RelationRecord(items=frozenset({'', 'Madagascar Hot Chocolate', 'Baked Vada Pav', 'Espresso'}), support=0.16666666666666666, ordered_statistics=[OrderedStatistic(items_base=frozenset(), items_add=frozenset({'', 'Madagascar Hot Chocolate', 'Baked Vada Pav', 'Espresso'}), confidence=0.16666666666666666, lift=1.0), OrderedStatistic(items_base=frozenset({''}), items_add=frozenset({'Baked Vada Pav', 'Espresso', 'Madagascar Hot Chocolate'}), confidence=0.19999999999999998, lift=1.2), OrderedStatistic(items_base=frozenset({'Baked Vada Pav'}), items_add=frozenset({'', 'Espresso', 'Madagascar Hot Chocolate'}), confidence=0.25, lift=1.5), OrderedStatistic(items_base=frozenset({'Espresso'}), items_add=frozenset({'', 'Baked Vada Pav', 'Madagascar Hot Chocolate'}), confidence=0.25, lift=0.75), OrderedStatistic(items_base=frozenset({'Madagascar Hot Chocolate'}), items_add=frozenset({'', 'Baked Vada Pav', 'Espresso'}), confidence=0.5, lift=3.0), OrderedStatistic(items_base=frozenset({'', 'Baked Vada Pav'}), items_add=frozenset({'Espresso', 'Madagascar Hot Chocolate'}), confidence=0.3333333333333333, lift=2.0), OrderedStatistic(items_base=frozenset({'', 'Espresso'}), items_add=frozenset({'Baked Vada Pav', 'Madagascar Hot Chocolate'}), confidence=0.3333333333333333, lift=1.0), OrderedStatistic(items_base=frozenset({'', 'Madagascar Hot Chocolate'}), items_add=frozenset({'Baked Vada Pav', 'Espresso'}), confidence=0.5, lift=1.5), OrderedStatistic(items_base=frozenset({'Baked Vada Pav', 'Espresso'}), items_add=frozenset({'', 'Madagascar Hot Chocolate'}), confidence=0.5, lift=1.5), OrderedStatistic(items_base=frozenset({'Baked Vada Pav', 'Madagascar Hot Chocolate'}), items_add=frozenset({'', 'Espresso'}), confidence=0.5, lift=1.0), OrderedStatistic(items_base=frozenset({'Madagascar Hot Chocolate', 'Espresso'}), items_add=frozenset({'', 'Baked Vada Pav'}), confidence=1.0, lift=2.0), OrderedStatistic(items_base=frozenset({'', 'Baked Vada Pav', 'Espresso'}), items_add=frozenset({'Madagascar Hot Chocolate'}), confidence=1.0, lift=3.0), OrderedStatistic(items_base=frozenset({'', 'Baked Vada Pav', 'Madagascar Hot Chocolate'}), items_add=frozenset({'Espresso'}), confidence=0.5, lift=0.75), OrderedStatistic(items_base=frozenset({'', 'Madagascar Hot Chocolate', 'Espresso'}), items_add=frozenset({'Baked Vada Pav'}), confidence=1.0, lift=1.5), OrderedStatistic(items_base=frozenset({'Baked Vada Pav', 'Madagascar Hot Chocolate', 'Espresso'}), items_add=frozenset({''}), confidence=1.0, lift=1.2)]),\n",
       " RelationRecord(items=frozenset({'', 'Plain Nankhatai Veg', 'Baked Vada Pav', 'Madagascar Hot Chocolate'}), support=0.16666666666666666, ordered_statistics=[OrderedStatistic(items_base=frozenset(), items_add=frozenset({'', 'Plain Nankhatai Veg', 'Baked Vada Pav', 'Madagascar Hot Chocolate'}), confidence=0.16666666666666666, lift=1.0), OrderedStatistic(items_base=frozenset({''}), items_add=frozenset({'Baked Vada Pav', 'Plain Nankhatai Veg', 'Madagascar Hot Chocolate'}), confidence=0.19999999999999998, lift=1.2), OrderedStatistic(items_base=frozenset({'Baked Vada Pav'}), items_add=frozenset({'', 'Plain Nankhatai Veg', 'Madagascar Hot Chocolate'}), confidence=0.25, lift=1.5), OrderedStatistic(items_base=frozenset({'Madagascar Hot Chocolate'}), items_add=frozenset({'', 'Plain Nankhatai Veg', 'Baked Vada Pav'}), confidence=0.5, lift=3.0), OrderedStatistic(items_base=frozenset({'Plain Nankhatai Veg'}), items_add=frozenset({'', 'Baked Vada Pav', 'Madagascar Hot Chocolate'}), confidence=1.0, lift=3.0), OrderedStatistic(items_base=frozenset({'', 'Baked Vada Pav'}), items_add=frozenset({'Plain Nankhatai Veg', 'Madagascar Hot Chocolate'}), confidence=0.3333333333333333, lift=2.0), OrderedStatistic(items_base=frozenset({'', 'Madagascar Hot Chocolate'}), items_add=frozenset({'Baked Vada Pav', 'Plain Nankhatai Veg'}), confidence=0.5, lift=3.0), OrderedStatistic(items_base=frozenset({'', 'Plain Nankhatai Veg'}), items_add=frozenset({'Baked Vada Pav', 'Madagascar Hot Chocolate'}), confidence=1.0, lift=3.0), OrderedStatistic(items_base=frozenset({'Baked Vada Pav', 'Madagascar Hot Chocolate'}), items_add=frozenset({'', 'Plain Nankhatai Veg'}), confidence=0.5, lift=3.0), OrderedStatistic(items_base=frozenset({'Baked Vada Pav', 'Plain Nankhatai Veg'}), items_add=frozenset({'', 'Madagascar Hot Chocolate'}), confidence=1.0, lift=3.0), OrderedStatistic(items_base=frozenset({'Plain Nankhatai Veg', 'Madagascar Hot Chocolate'}), items_add=frozenset({'', 'Baked Vada Pav'}), confidence=1.0, lift=2.0), OrderedStatistic(items_base=frozenset({'', 'Baked Vada Pav', 'Madagascar Hot Chocolate'}), items_add=frozenset({'Plain Nankhatai Veg'}), confidence=0.5, lift=3.0), OrderedStatistic(items_base=frozenset({'', 'Plain Nankhatai Veg', 'Baked Vada Pav'}), items_add=frozenset({'Madagascar Hot Chocolate'}), confidence=1.0, lift=3.0), OrderedStatistic(items_base=frozenset({'', 'Plain Nankhatai Veg', 'Madagascar Hot Chocolate'}), items_add=frozenset({'Baked Vada Pav'}), confidence=1.0, lift=1.5), OrderedStatistic(items_base=frozenset({'Baked Vada Pav', 'Plain Nankhatai Veg', 'Madagascar Hot Chocolate'}), items_add=frozenset({''}), confidence=1.0, lift=1.2)]),\n",
       " RelationRecord(items=frozenset({'', 'Espresso', 'Calzones Veg', 'Combo-south Indian Filter Kaapi 150 ML + Papparoti'}), support=0.16666666666666666, ordered_statistics=[OrderedStatistic(items_base=frozenset(), items_add=frozenset({'', 'Espresso', 'Calzones Veg', 'Combo-south Indian Filter Kaapi 150 ML + Papparoti'}), confidence=0.16666666666666666, lift=1.0), OrderedStatistic(items_base=frozenset({''}), items_add=frozenset({'Combo-south Indian Filter Kaapi 150 ML + Papparoti', 'Calzones Veg', 'Espresso'}), confidence=0.19999999999999998, lift=1.2), OrderedStatistic(items_base=frozenset({'Calzones Veg'}), items_add=frozenset({'', 'Combo-south Indian Filter Kaapi 150 ML + Papparoti', 'Espresso'}), confidence=1.0, lift=3.0), OrderedStatistic(items_base=frozenset({'Combo-south Indian Filter Kaapi 150 ML + Papparoti'}), items_add=frozenset({'', 'Calzones Veg', 'Espresso'}), confidence=0.3333333333333333, lift=2.0), OrderedStatistic(items_base=frozenset({'Espresso'}), items_add=frozenset({'', 'Calzones Veg', 'Combo-south Indian Filter Kaapi 150 ML + Papparoti'}), confidence=0.25, lift=1.5), OrderedStatistic(items_base=frozenset({'', 'Calzones Veg'}), items_add=frozenset({'Combo-south Indian Filter Kaapi 150 ML + Papparoti', 'Espresso'}), confidence=1.0, lift=2.0), OrderedStatistic(items_base=frozenset({'', 'Combo-south Indian Filter Kaapi 150 ML + Papparoti'}), items_add=frozenset({'Calzones Veg', 'Espresso'}), confidence=0.5, lift=3.0), OrderedStatistic(items_base=frozenset({'', 'Espresso'}), items_add=frozenset({'Calzones Veg', 'Combo-south Indian Filter Kaapi 150 ML + Papparoti'}), confidence=0.3333333333333333, lift=2.0), OrderedStatistic(items_base=frozenset({'Calzones Veg', 'Combo-south Indian Filter Kaapi 150 ML + Papparoti'}), items_add=frozenset({'', 'Espresso'}), confidence=1.0, lift=2.0), OrderedStatistic(items_base=frozenset({'Calzones Veg', 'Espresso'}), items_add=frozenset({'', 'Combo-south Indian Filter Kaapi 150 ML + Papparoti'}), confidence=1.0, lift=3.0), OrderedStatistic(items_base=frozenset({'Espresso', 'Combo-south Indian Filter Kaapi 150 ML + Papparoti'}), items_add=frozenset({'', 'Calzones Veg'}), confidence=0.3333333333333333, lift=2.0), OrderedStatistic(items_base=frozenset({'', 'Calzones Veg', 'Combo-south Indian Filter Kaapi 150 ML + Papparoti'}), items_add=frozenset({'Espresso'}), confidence=1.0, lift=1.5), OrderedStatistic(items_base=frozenset({'', 'Calzones Veg', 'Espresso'}), items_add=frozenset({'Combo-south Indian Filter Kaapi 150 ML + Papparoti'}), confidence=1.0, lift=2.0), OrderedStatistic(items_base=frozenset({'', 'Espresso', 'Combo-south Indian Filter Kaapi 150 ML + Papparoti'}), items_add=frozenset({'Calzones Veg'}), confidence=0.5, lift=3.0), OrderedStatistic(items_base=frozenset({'Espresso', 'Calzones Veg', 'Combo-south Indian Filter Kaapi 150 ML + Papparoti'}), items_add=frozenset({''}), confidence=1.0, lift=1.2)]),\n",
       " RelationRecord(items=frozenset({'', 'Espresso', 'Combo-south Indian Filter Kaapi 150 ML + Papparoti', 'Kaapicino'}), support=0.16666666666666666, ordered_statistics=[OrderedStatistic(items_base=frozenset(), items_add=frozenset({'', 'Espresso', 'Combo-south Indian Filter Kaapi 150 ML + Papparoti', 'Kaapicino'}), confidence=0.16666666666666666, lift=1.0), OrderedStatistic(items_base=frozenset({''}), items_add=frozenset({'Combo-south Indian Filter Kaapi 150 ML + Papparoti', 'Espresso', 'Kaapicino'}), confidence=0.19999999999999998, lift=1.2), OrderedStatistic(items_base=frozenset({'Combo-south Indian Filter Kaapi 150 ML + Papparoti'}), items_add=frozenset({'', 'Espresso', 'Kaapicino'}), confidence=0.3333333333333333, lift=2.0), OrderedStatistic(items_base=frozenset({'Espresso'}), items_add=frozenset({'', 'Combo-south Indian Filter Kaapi 150 ML + Papparoti', 'Kaapicino'}), confidence=0.25, lift=1.5), OrderedStatistic(items_base=frozenset({'Kaapicino'}), items_add=frozenset({'', 'Combo-south Indian Filter Kaapi 150 ML + Papparoti', 'Espresso'}), confidence=1.0, lift=3.0), OrderedStatistic(items_base=frozenset({'', 'Combo-south Indian Filter Kaapi 150 ML + Papparoti'}), items_add=frozenset({'Espresso', 'Kaapicino'}), confidence=0.5, lift=3.0), OrderedStatistic(items_base=frozenset({'', 'Espresso'}), items_add=frozenset({'Combo-south Indian Filter Kaapi 150 ML + Papparoti', 'Kaapicino'}), confidence=0.3333333333333333, lift=2.0), OrderedStatistic(items_base=frozenset({'', 'Kaapicino'}), items_add=frozenset({'Combo-south Indian Filter Kaapi 150 ML + Papparoti', 'Espresso'}), confidence=1.0, lift=2.0), OrderedStatistic(items_base=frozenset({'Espresso', 'Combo-south Indian Filter Kaapi 150 ML + Papparoti'}), items_add=frozenset({'', 'Kaapicino'}), confidence=0.3333333333333333, lift=2.0), OrderedStatistic(items_base=frozenset({'Combo-south Indian Filter Kaapi 150 ML + Papparoti', 'Kaapicino'}), items_add=frozenset({'', 'Espresso'}), confidence=1.0, lift=2.0), OrderedStatistic(items_base=frozenset({'Espresso', 'Kaapicino'}), items_add=frozenset({'', 'Combo-south Indian Filter Kaapi 150 ML + Papparoti'}), confidence=1.0, lift=3.0), OrderedStatistic(items_base=frozenset({'', 'Espresso', 'Combo-south Indian Filter Kaapi 150 ML + Papparoti'}), items_add=frozenset({'Kaapicino'}), confidence=0.5, lift=3.0), OrderedStatistic(items_base=frozenset({'', 'Combo-south Indian Filter Kaapi 150 ML + Papparoti', 'Kaapicino'}), items_add=frozenset({'Espresso'}), confidence=1.0, lift=1.5), OrderedStatistic(items_base=frozenset({'', 'Espresso', 'Kaapicino'}), items_add=frozenset({'Combo-south Indian Filter Kaapi 150 ML + Papparoti'}), confidence=1.0, lift=2.0), OrderedStatistic(items_base=frozenset({'Espresso', 'Combo-south Indian Filter Kaapi 150 ML + Papparoti', 'Kaapicino'}), items_add=frozenset({''}), confidence=1.0, lift=1.2)])]"
      ]
     },
     "execution_count": 69,
     "metadata": {},
     "output_type": "execute_result"
    }
   ],
   "source": [
    "sorted_data"
   ]
  },
  {
   "cell_type": "code",
   "execution_count": 71,
   "id": "38c06496-45ee-41ff-af31-6bceaf3d0304",
   "metadata": {},
   "outputs": [
    {
     "name": "stdout",
     "output_type": "stream",
     "text": [
      "Espresso, Combo-south Indian Filter Kaapi 150 ML + Papparoti, Kaapicino -> \n",
      ", Madagascar Hot Chocolate -> Baked Vada Pav\n",
      "Kaapicino -> , Espresso\n",
      ", Kaapicino -> Espresso\n"
     ]
    }
   ],
   "source": [
    "def inspect(results):\n",
    "    rules = []\n",
    "    for result in results:\n",
    "        for ordered_stat in result.ordered_statistics:\n",
    "            rules.append({\n",
    "                'items_base': tuple(ordered_stat.items_base),\n",
    "                'items_add': tuple(ordered_stat.items_add),\n",
    "                'support': result.support,\n",
    "                'confidence': ordered_stat.confidence,\n",
    "                'lift': ordered_stat.lift\n",
    "            })\n",
    "    return pd.DataFrame(rules)\n",
    "\n",
    "# Extract the rules into a DataFrame\n",
    "rules_df = inspect(results)\n",
    "\n",
    "# Sort the rules by confidence in descending order and select the top 2\n",
    "top_rules = rules_df.sort_values(by='confidence', ascending=False).head()\n",
    "\n",
    "# Display the top 2 rules in the format item1 -> item2, item3\n",
    "for index, rule in top_rules.iterrows():\n",
    "    items_base = ', '.join(rule['items_base'])\n",
    "    items_add = ', '.join(rule['items_add'])\n",
    "    print(f\"{items_base} -> {items_add}\")"
   ]
  },
  {
   "cell_type": "code",
   "execution_count": 72,
   "id": "fe15f1e2-3790-4f8c-8c8f-d3bcd8b83a34",
   "metadata": {},
   "outputs": [
    {
     "data": {
      "text/html": [
       "<div>\n",
       "<style scoped>\n",
       "    .dataframe tbody tr th:only-of-type {\n",
       "        vertical-align: middle;\n",
       "    }\n",
       "\n",
       "    .dataframe tbody tr th {\n",
       "        vertical-align: top;\n",
       "    }\n",
       "\n",
       "    .dataframe thead th {\n",
       "        text-align: right;\n",
       "    }\n",
       "</style>\n",
       "<table border=\"1\" class=\"dataframe\">\n",
       "  <thead>\n",
       "    <tr style=\"text-align: right;\">\n",
       "      <th></th>\n",
       "      <th>items_base</th>\n",
       "      <th>items_add</th>\n",
       "      <th>support</th>\n",
       "      <th>confidence</th>\n",
       "      <th>lift</th>\n",
       "    </tr>\n",
       "  </thead>\n",
       "  <tbody>\n",
       "    <tr>\n",
       "      <th>0</th>\n",
       "      <td>()</td>\n",
       "      <td>(,)</td>\n",
       "      <td>0.833333</td>\n",
       "      <td>0.833333</td>\n",
       "      <td>1.0</td>\n",
       "    </tr>\n",
       "    <tr>\n",
       "      <th>1</th>\n",
       "      <td>()</td>\n",
       "      <td>(Baked Vada Pav,)</td>\n",
       "      <td>0.666667</td>\n",
       "      <td>0.666667</td>\n",
       "      <td>1.0</td>\n",
       "    </tr>\n",
       "    <tr>\n",
       "      <th>2</th>\n",
       "      <td>()</td>\n",
       "      <td>(Calzones Veg,)</td>\n",
       "      <td>0.166667</td>\n",
       "      <td>0.166667</td>\n",
       "      <td>1.0</td>\n",
       "    </tr>\n",
       "    <tr>\n",
       "      <th>3</th>\n",
       "      <td>()</td>\n",
       "      <td>(Coconut Natkhatai (With Egg),)</td>\n",
       "      <td>0.166667</td>\n",
       "      <td>0.166667</td>\n",
       "      <td>1.0</td>\n",
       "    </tr>\n",
       "    <tr>\n",
       "      <th>4</th>\n",
       "      <td>()</td>\n",
       "      <td>(Combo-south Indian Filter Kaapi 150 ML + Papp...</td>\n",
       "      <td>0.500000</td>\n",
       "      <td>0.500000</td>\n",
       "      <td>1.0</td>\n",
       "    </tr>\n",
       "    <tr>\n",
       "      <th>...</th>\n",
       "      <td>...</td>\n",
       "      <td>...</td>\n",
       "      <td>...</td>\n",
       "      <td>...</td>\n",
       "      <td>...</td>\n",
       "    </tr>\n",
       "    <tr>\n",
       "      <th>282</th>\n",
       "      <td>(Espresso, Kaapicino)</td>\n",
       "      <td>(, Combo-south Indian Filter Kaapi 150 ML + Pa...</td>\n",
       "      <td>0.166667</td>\n",
       "      <td>1.000000</td>\n",
       "      <td>3.0</td>\n",
       "    </tr>\n",
       "    <tr>\n",
       "      <th>283</th>\n",
       "      <td>(, Espresso, Combo-south Indian Filter Kaapi 1...</td>\n",
       "      <td>(Kaapicino,)</td>\n",
       "      <td>0.166667</td>\n",
       "      <td>0.500000</td>\n",
       "      <td>3.0</td>\n",
       "    </tr>\n",
       "    <tr>\n",
       "      <th>284</th>\n",
       "      <td>(, Combo-south Indian Filter Kaapi 150 ML + Pa...</td>\n",
       "      <td>(Espresso,)</td>\n",
       "      <td>0.166667</td>\n",
       "      <td>1.000000</td>\n",
       "      <td>1.5</td>\n",
       "    </tr>\n",
       "    <tr>\n",
       "      <th>285</th>\n",
       "      <td>(, Espresso, Kaapicino)</td>\n",
       "      <td>(Combo-south Indian Filter Kaapi 150 ML + Papp...</td>\n",
       "      <td>0.166667</td>\n",
       "      <td>1.000000</td>\n",
       "      <td>2.0</td>\n",
       "    </tr>\n",
       "    <tr>\n",
       "      <th>286</th>\n",
       "      <td>(Espresso, Combo-south Indian Filter Kaapi 150...</td>\n",
       "      <td>(,)</td>\n",
       "      <td>0.166667</td>\n",
       "      <td>1.000000</td>\n",
       "      <td>1.2</td>\n",
       "    </tr>\n",
       "  </tbody>\n",
       "</table>\n",
       "<p>287 rows × 5 columns</p>\n",
       "</div>"
      ],
      "text/plain": [
       "                                            items_base  \\\n",
       "0                                                   ()   \n",
       "1                                                   ()   \n",
       "2                                                   ()   \n",
       "3                                                   ()   \n",
       "4                                                   ()   \n",
       "..                                                 ...   \n",
       "282                              (Espresso, Kaapicino)   \n",
       "283  (, Espresso, Combo-south Indian Filter Kaapi 1...   \n",
       "284  (, Combo-south Indian Filter Kaapi 150 ML + Pa...   \n",
       "285                            (, Espresso, Kaapicino)   \n",
       "286  (Espresso, Combo-south Indian Filter Kaapi 150...   \n",
       "\n",
       "                                             items_add   support  confidence  \\\n",
       "0                                                  (,)  0.833333    0.833333   \n",
       "1                                    (Baked Vada Pav,)  0.666667    0.666667   \n",
       "2                                      (Calzones Veg,)  0.166667    0.166667   \n",
       "3                      (Coconut Natkhatai (With Egg),)  0.166667    0.166667   \n",
       "4    (Combo-south Indian Filter Kaapi 150 ML + Papp...  0.500000    0.500000   \n",
       "..                                                 ...       ...         ...   \n",
       "282  (, Combo-south Indian Filter Kaapi 150 ML + Pa...  0.166667    1.000000   \n",
       "283                                       (Kaapicino,)  0.166667    0.500000   \n",
       "284                                        (Espresso,)  0.166667    1.000000   \n",
       "285  (Combo-south Indian Filter Kaapi 150 ML + Papp...  0.166667    1.000000   \n",
       "286                                                (,)  0.166667    1.000000   \n",
       "\n",
       "     lift  \n",
       "0     1.0  \n",
       "1     1.0  \n",
       "2     1.0  \n",
       "3     1.0  \n",
       "4     1.0  \n",
       "..    ...  \n",
       "282   3.0  \n",
       "283   3.0  \n",
       "284   1.5  \n",
       "285   2.0  \n",
       "286   1.2  \n",
       "\n",
       "[287 rows x 5 columns]"
      ]
     },
     "execution_count": 72,
     "metadata": {},
     "output_type": "execute_result"
    }
   ],
   "source": [
    "rules_df"
   ]
  },
  {
   "cell_type": "code",
   "execution_count": 77,
   "id": "262bd182-c41b-4e60-b74f-71dd74e604e2",
   "metadata": {},
   "outputs": [
    {
     "data": {
      "text/html": [
       "<div>\n",
       "<style scoped>\n",
       "    .dataframe tbody tr th:only-of-type {\n",
       "        vertical-align: middle;\n",
       "    }\n",
       "\n",
       "    .dataframe tbody tr th {\n",
       "        vertical-align: top;\n",
       "    }\n",
       "\n",
       "    .dataframe thead th {\n",
       "        text-align: right;\n",
       "    }\n",
       "</style>\n",
       "<table border=\"1\" class=\"dataframe\">\n",
       "  <thead>\n",
       "    <tr style=\"text-align: right;\">\n",
       "      <th></th>\n",
       "      <th>items_base</th>\n",
       "      <th>items_add</th>\n",
       "      <th>support</th>\n",
       "      <th>confidence</th>\n",
       "      <th>lift</th>\n",
       "    </tr>\n",
       "  </thead>\n",
       "  <tbody>\n",
       "    <tr>\n",
       "      <th>286</th>\n",
       "      <td>(Espresso, Combo-south Indian Filter Kaapi 150...</td>\n",
       "      <td>(,)</td>\n",
       "      <td>0.166667</td>\n",
       "      <td>1.0</td>\n",
       "      <td>1.2</td>\n",
       "    </tr>\n",
       "    <tr>\n",
       "      <th>105</th>\n",
       "      <td>(, Madagascar Hot Chocolate)</td>\n",
       "      <td>(Baked Vada Pav,)</td>\n",
       "      <td>0.333333</td>\n",
       "      <td>1.0</td>\n",
       "      <td>1.5</td>\n",
       "    </tr>\n",
       "    <tr>\n",
       "      <th>152</th>\n",
       "      <td>(Kaapicino,)</td>\n",
       "      <td>(, Espresso)</td>\n",
       "      <td>0.166667</td>\n",
       "      <td>1.0</td>\n",
       "      <td>2.0</td>\n",
       "    </tr>\n",
       "    <tr>\n",
       "      <th>154</th>\n",
       "      <td>(, Kaapicino)</td>\n",
       "      <td>(Espresso,)</td>\n",
       "      <td>0.166667</td>\n",
       "      <td>1.0</td>\n",
       "      <td>1.5</td>\n",
       "    </tr>\n",
       "    <tr>\n",
       "      <th>155</th>\n",
       "      <td>(Espresso, Kaapicino)</td>\n",
       "      <td>(,)</td>\n",
       "      <td>0.166667</td>\n",
       "      <td>1.0</td>\n",
       "      <td>1.2</td>\n",
       "    </tr>\n",
       "  </tbody>\n",
       "</table>\n",
       "</div>"
      ],
      "text/plain": [
       "                                            items_base          items_add  \\\n",
       "286  (Espresso, Combo-south Indian Filter Kaapi 150...                (,)   \n",
       "105                       (, Madagascar Hot Chocolate)  (Baked Vada Pav,)   \n",
       "152                                       (Kaapicino,)       (, Espresso)   \n",
       "154                                      (, Kaapicino)        (Espresso,)   \n",
       "155                              (Espresso, Kaapicino)                (,)   \n",
       "\n",
       "      support  confidence  lift  \n",
       "286  0.166667         1.0   1.2  \n",
       "105  0.333333         1.0   1.5  \n",
       "152  0.166667         1.0   2.0  \n",
       "154  0.166667         1.0   1.5  \n",
       "155  0.166667         1.0   1.2  "
      ]
     },
     "execution_count": 77,
     "metadata": {},
     "output_type": "execute_result"
    }
   ],
   "source": [
    "rules_df.sort_values(by='confidence', ascending=False).head(5)"
   ]
  },
  {
   "cell_type": "code",
   "execution_count": 79,
   "id": "9d50f126-72e0-42f0-9d0e-f9026a0b3bb5",
   "metadata": {},
   "outputs": [
    {
     "name": "stdout",
     "output_type": "stream",
     "text": [
      "Espresso, Combo-south Indian Filter Kaapi 150 ML + Papparoti, Kaapicino ->  confidence=1.0\n",
      "\n",
      ", Madagascar Hot Chocolate -> Baked Vada Pav confidence=1.0\n",
      "\n",
      "Kaapicino -> , Espresso confidence=1.0\n",
      "\n",
      ", Kaapicino -> Espresso confidence=1.0\n",
      "\n"
     ]
    }
   ],
   "source": [
    "# Display the top 2 rules in the format item1 -> item2, item3\n",
    "for index, rule in top_rules.iterrows():\n",
    "    items_base = ', '.join(rule['items_base'])\n",
    "    items_add = ', '.join(rule['items_add'])\n",
    "    print(f\"{items_base} -> {items_add} confidence={rule['confidence']}\\n\")"
   ]
  },
  {
   "cell_type": "code",
   "execution_count": 103,
   "id": "79e31392-9b81-4e36-9428-ede1eeac5861",
   "metadata": {},
   "outputs": [],
   "source": [
    "data=[]"
   ]
  },
  {
   "cell_type": "code",
   "execution_count": 104,
   "id": "d0fe2278-cfe2-44c6-afe1-229779bd636c",
   "metadata": {},
   "outputs": [],
   "source": [
    "for index, rule in top_rules.iterrows():\n",
    "    if '' in rule['items_add'] and len(rule['items_add'])==1:\n",
    "        continue\n",
    "    data.append({\n",
    "        'if_items':base,\n",
    "        'then_items':rule['items_add'],\n",
    "        'confidence':rule['confidence']\n",
    "    })"
   ]
  },
  {
   "cell_type": "code",
   "execution_count": 105,
   "id": "f732ffc3-f3b8-4c57-abb1-29d16b0b1c5c",
   "metadata": {},
   "outputs": [
    {
     "data": {
      "text/plain": [
       "[{'if_items': None, 'then_items': ('Baked Vada Pav',), 'confidence': 1.0},\n",
       " {'if_items': None, 'then_items': ('', 'Espresso'), 'confidence': 1.0},\n",
       " {'if_items': None, 'then_items': ('Espresso',), 'confidence': 1.0}]"
      ]
     },
     "execution_count": 105,
     "metadata": {},
     "output_type": "execute_result"
    }
   ],
   "source": [
    "data"
   ]
  },
  {
   "cell_type": "code",
   "execution_count": null,
   "id": "3e498b24-4b50-4207-b1a5-7d1e8f3ff45d",
   "metadata": {},
   "outputs": [],
   "source": [
    "# #######################\n",
    "\n",
    "def connect():\n",
    "    conn=mysql.connect(\n",
    "        host='127.0.0.1',\n",
    "        user='',\n",
    "        password='',\n",
    "        database=''\n",
    "    )\n",
    "    cursor=conn.cursor()\n",
    "    return conn,cursor\n",
    "\n",
    "conn,cursor=connect()\n",
    "query='''\n",
    "select basket_string from shop_marketbasket;\n",
    "'''\n",
    "cursor.execute(query)\n",
    "data=cursor.fetchall()\n",
    "cursor.close()\n",
    "conn.close()\n",
    "df=pd.DataFrame(data,columns=['text'])\n",
    "df=df.text.str.split(',',expand=True)\n",
    "results = list(apriori(df.values))\n",
    "df.replace({None:\"\"},inplace=True)\n",
    "\n",
    "def inspect(results):\n",
    "    rules = []\n",
    "    for result in results:\n",
    "        for ordered_stat in result.ordered_statistics:\n",
    "            rules.append({\n",
    "                'items_base': tuple(ordered_stat.items_base),\n",
    "                'items_add': tuple(ordered_stat.items_add),\n",
    "                'support': result.support,\n",
    "                'confidence': ordered_stat.confidence,\n",
    "                'lift': ordered_stat.lift\n",
    "            })\n",
    "    return pd.DataFrame(rules)\n",
    "\n",
    "# Extract the rules into a DataFrame\n",
    "rules_df = inspect(results)\n",
    "\n",
    "# Sort the rules by confidence in descending order and select the top 2\n",
    "top_rules = rules_df.sort_values(by='confidence', ascending=False).head()\n",
    "data=[]\n",
    "for index, rule in top_rules.iterrows():\n",
    "    if '' in rule['items_add'] and len(rule['items_add'])==1:\n",
    "        continue\n",
    "    data.append({\n",
    "        'if_items':base,\n",
    "        'then_items':rule['items_add'],\n",
    "        'confidence':rule['confidence']\n",
    "    })"
   ]
  }
 ],
 "metadata": {
  "kernelspec": {
   "display_name": "ettara_env",
   "language": "python",
   "name": "ettara_env"
  },
  "language_info": {
   "codemirror_mode": {
    "name": "ipython",
    "version": 3
   },
   "file_extension": ".py",
   "mimetype": "text/x-python",
   "name": "python",
   "nbconvert_exporter": "python",
   "pygments_lexer": "ipython3",
   "version": "3.11.5"
  }
 },
 "nbformat": 4,
 "nbformat_minor": 5
}
